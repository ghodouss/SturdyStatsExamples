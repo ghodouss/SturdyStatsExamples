{
 "cells": [
  {
   "cell_type": "code",
   "execution_count": 0,
   "metadata": {
    "application/vnd.databricks.v1+cell": {
     "cellMetadata": {
      "byteLimit": 2048000,
      "rowLimit": 10000
     },
     "inputWidgets": {},
     "nuid": "777a952b-ff5d-4afe-b999-8ed7b12a0231",
     "showTitle": true,
     "title": "Imports"
    }
   },
   "outputs": [
    {
     "output_type": "stream",
     "name": "stderr",
     "output_type": "stream",
     "text": [
      "[nltk_data] Downloading package reuters to /root/nltk_data...\n"
     ]
    }
   ],
   "source": [
    "# output and formatting\n",
    "import pprint\n",
    "from textwrap import wrap, indent\n",
    "import matplotlib.pyplot as plt\n",
    "import seaborn as sns\n",
    "\n",
    "# to construct an example dataset\n",
    "import nltk\n",
    "nltk.download('reuters')\n",
    "from nltk.corpus import reuters\n",
    "import hashlib\n",
    "\n",
    "import pandas as pd\n",
    "import numpy as np\n",
    "\n",
    "import requests                        # to run API calls\n",
    "import srsly                           # to decode output\n",
    "from more_itertools import chunked     # to batch data for API calls\n",
    "import itertools\n",
    "\n",
    "import os                              # to read the API key from a shell variable\n",
    "\n",
    "# to compute metrics\n",
    "from sklearn.metrics import precision_recall_fscore_support\n",
    "from sklearn.metrics import roc_auc_score\n",
    "\n",
    "# for type checking\n",
    "from typing import Iterable, Dict\n",
    "from requests.models import Response"
   ]
  },
  {
   "cell_type": "code",
   "execution_count": 0,
   "metadata": {
    "application/vnd.databricks.v1+cell": {
     "cellMetadata": {
      "byteLimit": 2048000,
      "rowLimit": 10000
     },
     "inputWidgets": {},
     "nuid": "7298a041-adb7-4a74-9cd3-0c4729d18adf",
     "showTitle": true,
     "title": "Parameters"
    }
   },
   "outputs": [],
   "source": [
    "NTRAIN     =  500  # number of documents to train on\n",
    "NTEST      = 5000  # number of \"test\" documents to evaluate model metrics\n",
    "INDEX_NAME = \"NLTK-Reuters-Train-Demo\"   # name for the index\n",
    "\n",
    "API_KEY = os.environ['STURDY_STATS_API_KEY']"
   ]
  },
  {
   "cell_type": "markdown",
   "metadata": {
    "application/vnd.databricks.v1+cell": {
     "cellMetadata": {
      "byteLimit": 2048000,
      "rowLimit": 10000
     },
     "inputWidgets": {},
     "nuid": "4b1fcd0c-fa8b-4b00-a48c-d9cab1d8a12f",
     "showTitle": false,
     "title": ""
    }
   },
   "source": [
    "# Make a dataset\n",
    "\n",
    "To get started, we'll look at the Reuters sample dataset from NLTK.\n",
    "This is a subset of the \"Reuters-21578 dataset;\" while it's very outdated, and more than a little idiosyncratic, it is a well-known benchmark for text classification.\n",
    "It provides a familiar starting point to get into the Sturdy Stats system.\n",
    "\n",
    "The short articles in this dataset were collected from the Reuters financial newswire service in 1987, and are organized into about 90 categories."
   ]
  },
  {
   "cell_type": "code",
   "execution_count": 0,
   "metadata": {
    "application/vnd.databricks.v1+cell": {
     "cellMetadata": {
      "byteLimit": 2048000,
      "rowLimit": 10000
     },
     "inputWidgets": {},
     "nuid": "5154d0ac-7f9f-452c-b1f6-83b33bce30c7",
     "showTitle": true,
     "title": "Load the Reuters dataset"
    }
   },
   "outputs": [
    {
     "output_type": "stream",
     "name": "stdout",
     "output_type": "stream",
     "text": [
      "Using 500 documents for training and 5,000 for testing\n5,152 documents remain for unsupervised language modeling\n"
     ]
    },
    {
     "output_type": "execute_result",
     "data": {
      "text/html": [
       "<div>\n",
       "<style scoped>\n",
       "    .dataframe tbody tr th:only-of-type {\n",
       "        vertical-align: middle;\n",
       "    }\n",
       "\n",
       "    .dataframe tbody tr th {\n",
       "        vertical-align: top;\n",
       "    }\n",
       "\n",
       "    .dataframe thead th {\n",
       "        text-align: right;\n",
       "    }\n",
       "</style>\n",
       "<table border=\"1\" class=\"dataframe\">\n",
       "  <thead>\n",
       "    <tr style=\"text-align: right;\">\n",
       "      <th></th>\n",
       "      <th>id</th>\n",
       "      <th>tags</th>\n",
       "      <th>doc</th>\n",
       "      <th>doc_id</th>\n",
       "    </tr>\n",
       "  </thead>\n",
       "  <tbody>\n",
       "    <tr>\n",
       "      <th>0</th>\n",
       "      <td>training/730</td>\n",
       "      <td>[acq, earn]</td>\n",
       "      <td>ICI &amp; lt ; ICI &gt; SEEKS GAINS IN SPECIALTY BUSI...</td>\n",
       "      <td>00034506199dbca1d8ca109c5bbccac3</td>\n",
       "    </tr>\n",
       "    <tr>\n",
       "      <th>1</th>\n",
       "      <td>training/5796</td>\n",
       "      <td>[crude]</td>\n",
       "      <td>STUDY PREDICTS U . S . DEPENDENCE ON FOREIGN O...</td>\n",
       "      <td>0004f3fc0420877a4e80066110a665a3</td>\n",
       "    </tr>\n",
       "    <tr>\n",
       "      <th>2</th>\n",
       "      <td>test/15901</td>\n",
       "      <td>[earn]</td>\n",
       "      <td>JAMES RIVER CORP &amp; lt ; JR &gt; SETS REGULAR PAYO...</td>\n",
       "      <td>000c4dac701a1ec79b7e24d1c729b743</td>\n",
       "    </tr>\n",
       "    <tr>\n",
       "      <th>3</th>\n",
       "      <td>training/10340</td>\n",
       "      <td>[gnp, money-fx]</td>\n",
       "      <td>ITALIAN 1987 GDP GROWTH FORECAST AT THREE PCT ...</td>\n",
       "      <td>000cbe04c45522c49fee80ffa5794613</td>\n",
       "    </tr>\n",
       "    <tr>\n",
       "      <th>4</th>\n",
       "      <td>test/19874</td>\n",
       "      <td>[acq]</td>\n",
       "      <td>MCCHIP &amp; lt ; MCS . TO &gt; TO ACQUIRE RESERVE HO...</td>\n",
       "      <td>001463b41dd30e6311ed6dc1fdc84321</td>\n",
       "    </tr>\n",
       "  </tbody>\n",
       "</table>\n",
       "</div>"
      ],
      "text/plain": [
       "               id  ...                            doc_id\n",
       "0    training/730  ...  00034506199dbca1d8ca109c5bbccac3\n",
       "1   training/5796  ...  0004f3fc0420877a4e80066110a665a3\n",
       "2      test/15901  ...  000c4dac701a1ec79b7e24d1c729b743\n",
       "3  training/10340  ...  000cbe04c45522c49fee80ffa5794613\n",
       "4      test/19874  ...  001463b41dd30e6311ed6dc1fdc84321\n",
       "\n",
       "[5 rows x 4 columns]"
      ]
     },
     "execution_count": 3,
     "metadata": {},
     "output_type": "execute_result"
    }
   ],
   "source": [
    "# load the reuters data into a pandas DataFrame:\n",
    "df = pd.DataFrame({'id': reuters.fileids()})\n",
    "\n",
    "df['tags'] = df['id'].apply(lambda id: reuters.categories(id))\n",
    "df['doc']  = df['id'].apply(lambda id: \" \".join(reuters.words(id)))\n",
    "\n",
    "# sort articles by the md5 hash for a consistent (and approximately random) ordering:\n",
    "df['doc_id'] = df['doc'].apply(lambda id: hashlib.md5(id.encode('utf-8')).hexdigest())\n",
    "\n",
    "df.sort_values(by='doc_id', inplace=True)\n",
    "df.drop_duplicates(subset='doc_id', inplace=True)\n",
    "df.reset_index(drop=True, inplace=True)\n",
    "\n",
    "# split out into a test set, a train set, and a remainder\n",
    "# - the remainder may be used for unsupervised language modeling in order to adapt\n",
    "#   our AI model to this specific corpus.\n",
    "df_train = df.iloc[:NTRAIN].copy()\n",
    "df_test  = df.iloc[NTRAIN:NTRAIN+NTEST].copy()\n",
    "df_extra = df.iloc[NTRAIN+NTEST:].copy()\n",
    "del(df)\n",
    "\n",
    "print(f\"\"\"Using {len(df_train):,.0f} documents for training and {len(df_test):,.0f} for testing\"\"\")\n",
    "print(f\"\"\"{len(df_extra):,.0f} documents remain for unsupervised language modeling\"\"\")\n",
    "\n",
    "df_train.head()"
   ]
  },
  {
   "cell_type": "markdown",
   "metadata": {
    "application/vnd.databricks.v1+cell": {
     "cellMetadata": {},
     "inputWidgets": {},
     "nuid": "20f8423f-bee2-4449-a0a3-6a20315d93cd",
     "showTitle": false,
     "title": ""
    }
   },
   "source": [
    "You can get a sense of the dataset by looking at a few examples.\n",
    "Some of them are very terse, while others read like short articles."
   ]
  },
  {
   "cell_type": "code",
   "execution_count": 0,
   "metadata": {
    "application/vnd.databricks.v1+cell": {
     "cellMetadata": {
      "byteLimit": 2048000,
      "rowLimit": 10000
     },
     "inputWidgets": {},
     "nuid": "886e5a67-f168-4a17-bd54-59b88bb18f6f",
     "showTitle": false,
     "title": ""
    }
   },
   "outputs": [
    {
     "output_type": "stream",
     "name": "stdout",
     "output_type": "stream",
     "text": [
      "test/20257: earn\n\n    CONSTELLATION BANCORP & lt ; CSTL . O > 3RD QTR NET Shr 78 cts vs 61 cts\n    Net 4 , 774 , 000 vs 3 , 683 , 000 Nine mths Shr 2 . 14 dlrs vs 1 . 77 dlrs\n    Net 13 . 1 mln vs 10 . 7 mln\n\ntraining/2440: earn\n\n    HUMANA INC & lt ; HUM > REGULAR DIVIDEND Qtly div 19 cts vs 19 cts in prior\n    qtr Payable May one Record April two\n\ntraining/5057: trade\n\n    TRADE BILL TO CHANGE AGRICULTURE TRADE LAWS The House Ways and Means\n    Committee is moving toward passage of a trade bill that sponsors said was\n    intended to help open foreign markets to U . S . agricultural goods and to\n    modify some U . S . agricultural trade laws . The trade subcommittee voted\n    to require President Reagan to take into account the potential harm to U .\n    S . agricultural exports of any trade retaliation he might impose for\n    foreign unfair trade practices against other domestic industries . The bill\n    would allow U . S . agricultural producers to seek government monitoring of\n    imports if there is a reasonable chance the industry would be harmed by an\n    import surge . The full Ways and Means Committee is to consider the bill\n    next week and congressional sources said they expect it will be approved .\n    In investigations involving a processed agricultural product , trade\n    associations of processors or producers would have to petition for relief\n    from foreign dumping or unfair duties . The bill sets out U . S . trade\n    negotiating objectives for the Uruguay round of talks under the General\n    Agreement on Tariffs and Trade . It would seek fair trade in agriculture ,\n    seek to discipline restrictive or trade distorting import and export\n    practices , to eliminate tariffs , subsidies , quotas and non - tariff\n    barriers . President Reagan ' s authority to negotiate a new GATT agreement\n    would be extended through January 1993 and authority to negotiate a free\n    trade zone with Canada would be extended through January 3 , 1991 . The\n    bill extends Reagan ' s authority to negotiate an international coffee\n    agreement through October 31 , 1989 . It allows a refund of import duties\n    paid on raw sugar imported from November 1 , 1977 to March 31 , 1985 for\n    production of sugar or products containing sugar and destined for re -\n    export . The export of the sugar or products must occur before Octoer 1 ,\n    1991 . Presently , to qualify for the refund the sugar must be processed\n    within three years after import and exported within five years .\n    Agriculture would also benefit from more rapid decisions in complaints of\n    unfair foreign trade practices or injury from imports .\n\n"
     ]
    }
   ],
   "source": [
    "def mywrap(text):\n",
    "    lines = wrap(text, width=75)\n",
    "    return indent('\\n'.join(lines), prefix=\"    \")\n",
    "\n",
    "for j in (200, 300, 400):\n",
    "    row = df_train.iloc[j]\n",
    "    print(row['id'], ','.join(row['tags']), sep=\": \", end=\"\\n\\n\")\n",
    "    print(mywrap(row['doc']), end=\"\\n\\n\")"
   ]
  },
  {
   "cell_type": "markdown",
   "metadata": {
    "application/vnd.databricks.v1+cell": {
     "cellMetadata": {
      "byteLimit": 2048000,
      "rowLimit": 10000
     },
     "inputWidgets": {},
     "nuid": "0c3691dd-8475-4978-b951-bc629ab5bd54",
     "showTitle": false,
     "title": ""
    }
   },
   "source": [
    "# Python wrappers for API tasks\n",
    "\n",
    "We'll go ahead and define some python functions for common tasks in machine learning.\n",
    "These functions simply wrap the Sturdy Statistics API; see the [documentation page](https://sturdystatistics.com/api/documentation) for more information about these endpoints and their arguments.\n",
    "\n",
    "While the Sturdy Stats API is designed to be both flexible and powerful, the following functions will instead aim for simplicity.\n",
    "The behavior should be familiar from other machine learning frameworks."
   ]
  },
  {
   "cell_type": "markdown",
   "metadata": {
    "application/vnd.databricks.v1+cell": {
     "cellMetadata": {},
     "inputWidgets": {},
     "nuid": "fa021ed7-a110-4b04-89c6-a478ddb4a587",
     "showTitle": false,
     "title": ""
    }
   },
   "source": [
    "We start with some utility functions to interact with the API server:"
   ]
  },
  {
   "cell_type": "code",
   "execution_count": 0,
   "metadata": {
    "application/vnd.databricks.v1+cell": {
     "cellMetadata": {
      "byteLimit": 2048000,
      "rowLimit": 10000
     },
     "inputWidgets": {},
     "nuid": "d113dcc2-4179-474b-b98d-91864b02d1dc",
     "showTitle": true,
     "title": "Utilities for calling the API"
    }
   },
   "outputs": [],
   "source": [
    "def post(url: str, params: Dict):\n",
    "    BASE = \"https://sturdystatistics.com/api/text/v1/index\"\n",
    "    payload = {\"api_key\": API_KEY, **params}\n",
    "    res = requests.post(BASE + url, json=payload)\n",
    "    return res\n",
    "\n",
    "def get(url: str, params: Dict):\n",
    "    BASE = \"https://sturdystatistics.com/api/text/v1/index\"\n",
    "    params = {\"api_key\": API_KEY, **params}\n",
    "    res = requests.get(BASE + url , params=params)\n",
    "    return res\n",
    "\n",
    "def check_status(info: Response):\n",
    "    if (200 != info.status_code):\n",
    "        print(f\"\"\"error code {info.status_code}\"\"\")\n",
    "        print(info.content.decode('utf-8'))\n",
    "\n",
    "    assert(200 == info.status_code)"
   ]
  },
  {
   "cell_type": "markdown",
   "metadata": {
    "application/vnd.databricks.v1+cell": {
     "cellMetadata": {},
     "inputWidgets": {},
     "nuid": "80a42a1b-aa11-4af4-a6a5-0eefa5697e23",
     "showTitle": false,
     "title": ""
    }
   },
   "source": [
    "Next we have a function to create (or to look up) an index.\n",
    "An index is the fundamental structure for storing and interacting with Sturdy Stats data: it contains the documents you upload, along with any AI models you train.\n",
    "The index also powers querying and analysis of your data."
   ]
  },
  {
   "cell_type": "code",
   "execution_count": 0,
   "metadata": {
    "application/vnd.databricks.v1+cell": {
     "cellMetadata": {
      "byteLimit": 2048000,
      "rowLimit": 10000
     },
     "inputWidgets": {},
     "nuid": "249c7027-9caa-437e-8449-3918771fe6ab",
     "showTitle": true,
     "title": "Create a new index"
    }
   },
   "outputs": [],
   "source": [
    "def create_index(index_name: str):\n",
    "    \"\"\"\n",
    "    Creates a new index. An index is the core data structure for storing data.\n",
    "    Once the index is trained, an index may also be used to search, query, and \n",
    "    analyze data. If an index with the provided name already exists, no index \n",
    "    will be created and the metadata of that index will be returned.\n",
    "\n",
    "    https://sturdystatistics.com/api/documentation#tag/apitextv1/operation/createIndex\n",
    "    \"\"\"\n",
    "\n",
    "    # Create a new index associated with this API key.  Equivalent to:\n",
    "    #\n",
    "    # curl -X POST https://sturdystatistics.com/api/text/v1/index \\\n",
    "    #   -H \"Content-Type: application/json\" \\\n",
    "    #   -d '{\n",
    "    #      \"api_key\": \"API_KEY\",\n",
    "    #      \"name\": \"INDEX_NAME\"\n",
    "    #    }'\n",
    "\n",
    "    info = post(\"\", dict(name=index_name))\n",
    "    check_status(info)\n",
    "\n",
    "    index_id = info.json()[\"index_id\"]\n",
    "    print(f\"\"\"Created a new index with index_id=\"{index_id}\".\"\"\")\n",
    "\n",
    "    return index_id"
   ]
  },
  {
   "cell_type": "code",
   "execution_count": 0,
   "metadata": {
    "application/vnd.databricks.v1+cell": {
     "cellMetadata": {
      "byteLimit": 2048000,
      "rowLimit": 10000
     },
     "inputWidgets": {},
     "nuid": "67a8aa72-6779-46e0-807b-d4cb7bc58542",
     "showTitle": true,
     "title": "Check the status of an index"
    }
   },
   "outputs": [],
   "source": [
    "def get_index_status(index_name: str):\n",
    "    \"\"\"\n",
    "    Look up an index by name and return all metadata associated with the index.\n",
    "    \"\"\"\n",
    "\n",
    "    # List all indices associated with this API key.  Equivalent to:\n",
    "    #\n",
    "    # curl -X GET 'https://sturdystatistics.com/api/text/v1/index?api_key=API_KEY'\n",
    "    #\n",
    "    # https://sturdystatistics.com/api/documentation#tag/apitextv1/operation/listIndicies\n",
    "\n",
    "    info = get(\"\", dict())\n",
    "    check_status(info)\n",
    "\n",
    "    # find matches by name\n",
    "    matches = [ i for i in info.json() if i['name'] == index_name ]\n",
    "    if (0 == len(matches)):\n",
    "        return None\n",
    "\n",
    "    assert(1 == len(matches))\n",
    "    return matches[0]"
   ]
  },
  {
   "cell_type": "markdown",
   "metadata": {
    "application/vnd.databricks.v1+cell": {
     "cellMetadata": {},
     "inputWidgets": {},
     "nuid": "50323611-aa6e-4e16-8b23-fbe67560b002",
     "showTitle": false,
     "title": ""
    }
   },
   "source": [
    "Once the index is created, we need to add data to it.\n",
    "Uploading data to a Sturdy Stats index is a two-step process: data first goes into a temporary *staging index,* and then can be *committed* to the permanent index by issuing the `commit` command.\n",
    "In this demo, we will simplify the workflow upload and commit in the same function."
   ]
  },
  {
   "cell_type": "code",
   "execution_count": 0,
   "metadata": {
    "application/vnd.databricks.v1+cell": {
     "cellMetadata": {
      "byteLimit": 2048000,
      "rowLimit": 10000
     },
     "inputWidgets": {},
     "nuid": "044e3825-2336-4181-82d2-7a940511fee1",
     "showTitle": true,
     "title": "Upload data and commit permamently to the index"
    }
   },
   "outputs": [],
   "source": [
    "def upload_to_index_and_commit(index_name: str, records: Iterable[Dict], batch_size: int = 200):\n",
    "    \"\"\"\n",
    "    Uploads documents to the index and commit them for permanent storage.\n",
    "    Documents are processed by the AI model if the index has been trained.\n",
    "\n",
    "    Documents are provided as a list of dictionaries. The content of each \n",
    "    document must be plain text and is provided under the required field doc. \n",
    "    You may provide a unique document identifier under the optional field\n",
    "    doc_id. If no doc_id is provided, we will create an identifier by hashing\n",
    "    the contents of the document. Documents can be updated via an upsert \n",
    "    mechanism that matches on doc_id. If doc_id is not provided and two docs\n",
    "    have identical content, the most recently uploaded document will upsert \n",
    "    the previously uploaded document.\n",
    "\n",
    "    This is a locking operation. A client cannot call upload, train or commit\n",
    "    while an upload is already in progress. Consequently, the operation is more\n",
    "    efficient with batches of documents. The API supports a batch size of up to\n",
    "    250 documents at a time. The larger the batch size, the more efficient the\n",
    "    upload.\n",
    "\n",
    "    https://sturdystatistics.com/api/documentation#tag/apitextv1/operation/writeDocs\n",
    "    \"\"\"\n",
    "\n",
    "    status = get_index_status(index_name)\n",
    "\n",
    "    if 'untrained' == status['state']:\n",
    "        print(\"uploading data to UNTRAINED index for training.\")\n",
    "    elif 'ready' == status['state']:\n",
    "        print(\"uploading data to TRAINED index for prediction.\")\n",
    "    else:\n",
    "        raise RuntimeError(f\"unknown status {status['state']} for index {index_name}.\")\n",
    "    \n",
    "    index_id = status['index_id']\n",
    "\n",
    "    results = []\n",
    "\n",
    "    # Upload docs to the staging index.  Equivalent to:\n",
    "    #\n",
    "    # curl -X POST https://sturdystatistics.com/api/text/v1/index/{index_id}/doc \\\n",
    "    #   -H \"Content-Type: application/json\" \\\n",
    "    #   -d '{\n",
    "    #      \"api_key\": \"API_KEY\",\n",
    "    #      \"docs\": JSON_DOC_DATA\n",
    "    #    }'\n",
    "\n",
    "    print(\"uploading data to index...\")\n",
    "    for i, batch in enumerate(chunked(records, batch_size)):\n",
    "        info = post(f\"/{index_id}/doc\", dict(docs=batch))\n",
    "        check_status(info)\n",
    "        results.extend(info.json()['results'])\n",
    "        print(f\"\"\"    upload batch {1+i:4d}: response {str(info)}\"\"\")\n",
    "\n",
    "    # Commit changes from the staging index to the permanent index.  Equivalent to:\n",
    "    #\n",
    "    # curl -X POST https://sturdystatistics.com/api/text/v1/index/{index_id}/doc/commit \\\n",
    "    #   -H \"Content-Type: application/json\" \\\n",
    "    #   -d '{\n",
    "    #      \"api_key\": \"API_KEY\",\n",
    "    #    }'\n",
    "\n",
    "    print(\"committing changes to index...\")\n",
    "    info = post(f\"/{index_id}/doc/commit\", dict())\n",
    "    check_status(info)\n",
    "    print(\"...done\")\n",
    "\n",
    "    return results, info.json()"
   ]
  },
  {
   "cell_type": "markdown",
   "metadata": {
    "application/vnd.databricks.v1+cell": {
     "cellMetadata": {},
     "inputWidgets": {},
     "nuid": "82f42f04-edf5-4081-abe7-0b8315306545",
     "showTitle": false,
     "title": ""
    }
   },
   "source": [
    "After uploading data to the index, we can *train* an AI model to automatically organize the data.\n",
    "Training enables smarter querying and analysis tasks in the index."
   ]
  },
  {
   "cell_type": "code",
   "execution_count": 0,
   "metadata": {
    "application/vnd.databricks.v1+cell": {
     "cellMetadata": {
      "byteLimit": 2048000,
      "rowLimit": 10000
     },
     "inputWidgets": {},
     "nuid": "87d32d6b-7000-4047-ba66-54b4f684525a",
     "showTitle": true,
     "title": "Train an index"
    }
   },
   "outputs": [],
   "source": [
    "def train_index(index_name: str, params: Dict):\n",
    "    \"\"\"\n",
    "    Trains an AI model on all documents in the production index. Once an \n",
    "    index has been trained, documents are queryable, and the model \n",
    "    automatically processes subsequently uploaded documents.\n",
    "\n",
    "    The AI model identifies thematic information in documents, permitting \n",
    "    semantic indexing and semantic search. It also enables quantitative \n",
    "    analysis of, e.g., topic trends.\n",
    "\n",
    "    The AI model may optionally be supervised using metadata present in the \n",
    "    index. Thematic decomposition of the data is not unique; supervision \n",
    "    guides the model and aligns the identified topics to your intended \n",
    "    application. Supervision also allows the model to make predictions.\n",
    "\n",
    "    Data for supervision may be supplied explicitly using the \n",
    "    label_field_names parameter. Metadata field names listed in this \n",
    "    parameter must each store data in a ternary true/false/unknown format. \n",
    "    For convenience, supervision data may also be supplied in a sparse \"tag\" \n",
    "    format using the tag_field_names parameter. Metadata field names listed \n",
    "    in this parameter must contain a list of labels for each document. The \n",
    "    document is considered \"true\" for each label listed; it is implicitly \n",
    "    considered \"false\" for each label not listed. Consequently, the \"tag\" \n",
    "    format does not allow for unknown labels. Any combination of \n",
    "    label_field_names and tag_field_names may be supplied.\n",
    "\n",
    "    https://sturdystatistics.com/api/documentation#tag/apitextv1/operation/trainIndex\n",
    "    \"\"\"\n",
    "\n",
    "    status = get_index_status(index_name)\n",
    "\n",
    "    if 'untrained' != status['state']:\n",
    "        print(f\"index {index_name} is already trained.\")\n",
    "        return status\n",
    "    \n",
    "    index_id = status['index_id']\n",
    "\n",
    "    # Issue a training command to the index.  Equivalent to:\n",
    "    #\n",
    "    # curl -X POST https://sturdystatistics.com/api/text/v1/index/{index_id}/train \\\n",
    "    #   -H \"Content-Type: application/json\" \\\n",
    "    #   -d '{\n",
    "    #      \"api_key\": \"API_KEY\",\n",
    "    #      PARAMS\n",
    "    #    }'\n",
    "\n",
    "    info = post(f\"/{index_id}/train\", params)\n",
    "    check_status(info)\n",
    "\n",
    "    return info.json()"
   ]
  },
  {
   "cell_type": "markdown",
   "metadata": {
    "application/vnd.databricks.v1+cell": {
     "cellMetadata": {},
     "inputWidgets": {},
     "nuid": "13ad917d-5b7c-420f-83dc-f06570791237",
     "showTitle": false,
     "title": ""
    }
   },
   "source": [
    "Once the index has been trained, among other things it can make *predictions* to classify new documents.\n",
    "Predictions are applied automatically when documents are uploaded to the index, but for simplicity and for compatibility with other ML frameworks, we will define a `predict` function which accepts a batch of documents and returns predictions.\n",
    "This method does not *commit* data to the index, and therefore does not mutate the permanent index in any way."
   ]
  },
  {
   "cell_type": "code",
   "execution_count": 0,
   "metadata": {
    "application/vnd.databricks.v1+cell": {
     "cellMetadata": {
      "byteLimit": 2048000,
      "rowLimit": 10000
     },
     "inputWidgets": {},
     "nuid": "5eccb583-4984-47ae-97aa-032091085e1a",
     "showTitle": true,
     "title": "Ephemeral predictions without saving to or otherwise mutating the index"
    }
   },
   "outputs": [],
   "source": [
    "def predict(index_name: str, records: Iterable[Dict], batch_size: int = 200):\n",
    "    \"\"\"\n",
    "    \"Predict\" function analogous to sklearn or keras: accepts a batch of \n",
    "    documents and returns their corresponding predictions.\n",
    "\n",
    "    Performs an upload operation with `save=false` and without a commit step.\n",
    "    This function does not mutate the index in any way.\n",
    "\n",
    "    https://sturdystatistics.com/api/documentation#tag/apitextv1/operation/writeDocs\n",
    "    \"\"\"\n",
    "\n",
    "    status = get_index_status(index_name)\n",
    "\n",
    "    if 'ready' != status['state']:\n",
    "        raise RuntimeError(f\"cannot run predictions on index {INDEX_NAME} with state {status['state']}.\")\n",
    "    \n",
    "    index_id = status['index_id']\n",
    "\n",
    "    results = []\n",
    "\n",
    "    # Upload docs to the staging index.  Equivalent to:\n",
    "    #\n",
    "    # curl -X POST https://sturdystatistics.com/api/text/v1/index/{index_id}/doc \\\n",
    "    #   -H \"Content-Type: application/json\" \\\n",
    "    #   -d '{\n",
    "    #      \"api_key\": \"API_KEY\",\n",
    "    #      \"save\": \"false\",\n",
    "    #      \"docs\": JSON_DOC_DATA\n",
    "    #    }'\n",
    "\n",
    "    print(\"running predictions...\")\n",
    "    for i, batch in enumerate(chunked(records, batch_size)):\n",
    "        info = post(f\"/{index_id}/doc\", dict(docs=batch, save=\"false\"))\n",
    "        check_status(info)\n",
    "        results.extend(info.json()['results'])\n",
    "        print(f\"\"\"    upload batch {1+i:4d}: response {str(info)}\"\"\")\n",
    "    print(\"...done\")\n",
    "\n",
    "    # no commit needed since this makes no change to the index\n",
    "\n",
    "    return results"
   ]
  },
  {
   "cell_type": "markdown",
   "metadata": {
    "application/vnd.databricks.v1+cell": {
     "cellMetadata": {},
     "inputWidgets": {},
     "nuid": "86505471-8324-43d8-a71e-8997cd578396",
     "showTitle": false,
     "title": ""
    }
   },
   "source": [
    "With those premilinaries out the the way, we are able to begin training our first Sturdy Stats model!"
   ]
  },
  {
   "cell_type": "markdown",
   "metadata": {
    "application/vnd.databricks.v1+cell": {
     "cellMetadata": {
      "byteLimit": 2048000,
      "rowLimit": 10000
     },
     "inputWidgets": {},
     "nuid": "c6b6bcca-11fd-4371-b2e1-4528fbc3efab",
     "showTitle": false,
     "title": ""
    }
   },
   "source": [
    "# 1. Make (or retrieve) an index for our data and model\n",
    "\n",
    "The first step is to create a new *index* associated with our API key.\n",
    "The index stores the data we upload, along with any AI models we train.\n",
    "The index also powers any querying or analysis that we do on our data."
   ]
  },
  {
   "cell_type": "code",
   "execution_count": 0,
   "metadata": {
    "application/vnd.databricks.v1+cell": {
     "cellMetadata": {
      "byteLimit": 2048000,
      "rowLimit": 10000
     },
     "inputWidgets": {},
     "nuid": "7fddda1e-e0bb-40cd-8c93-10c6e845256a",
     "showTitle": true,
     "title": "Create the index"
    }
   },
   "outputs": [
    {
     "output_type": "stream",
     "name": "stdout",
     "output_type": "stream",
     "text": [
      "Created a new index with index_id=\"index_92383669c51e4c42afa09881fcfafd3e\".\n"
     ]
    }
   ],
   "source": [
    "# NB create_index will *either* create or return an index with the provided name.\n",
    "# in this case, I want to know whether a new index was created.\n",
    "\n",
    "status = get_index_status(INDEX_NAME)\n",
    "\n",
    "if status is None:\n",
    "    index_id = create_index(INDEX_NAME)\n",
    "else:\n",
    "    print(f\"\"\"Found an existing index with index_id=\"{status['index_id']}\":\"\"\", end=\"\\n\\n\")\n",
    "    index_id = status['index_id']\n",
    "    pprint.pprint(status)"
   ]
  },
  {
   "cell_type": "markdown",
   "metadata": {
    "application/vnd.databricks.v1+cell": {
     "cellMetadata": {
      "byteLimit": 2048000,
      "rowLimit": 10000
     },
     "inputWidgets": {},
     "nuid": "75f0a1d3-067d-4b7b-ab9f-b2875dbb2202",
     "showTitle": false,
     "title": ""
    }
   },
   "source": [
    "# 2. Upload training data to the index\n",
    "\n",
    "The next step is to upload data to our new index.\n",
    "We'll use this data to train an AI model.\n",
    "Note that the training data may consist of both labeled data for supervised training and unlabeled data for unsupervised training.\n",
    "Unsupervised data is used for *language modeling*; it enables the AI model to infer the topics and recurring themes in your dataset.\n",
    "These may be used for semantic search, for summarization, for smart querying, and for quantitative analysis.\n",
    "\n",
    "Thematic decomposition of the data is not unique, however, and without labeled data you cannot control which representation you receive.\n",
    "Supervision guides the model and aligns the identified topics to your intended application.\n",
    "Supervision also allows the model to make predictions."
   ]
  },
  {
   "cell_type": "code",
   "execution_count": 0,
   "metadata": {
    "application/vnd.databricks.v1+cell": {
     "cellMetadata": {
      "byteLimit": 2048000,
      "rowLimit": 10000
     },
     "inputWidgets": {},
     "nuid": "11cb5e59-dbf4-41ce-8341-35dd8297ea57",
     "showTitle": true,
     "title": "Upload training data to the index"
    }
   },
   "outputs": [
    {
     "output_type": "stream",
     "name": "stdout",
     "output_type": "stream",
     "text": [
      "uploading data to UNTRAINED index for training.\nuploading data to index...\n    upload batch    1: response <Response [200]>\n    upload batch    2: response <Response [200]>\n    upload batch    3: response <Response [200]>\ncommitting changes to index...\n...done\nuploading data to UNTRAINED index for training.\nuploading data to index...\n    upload batch    1: response <Response [200]>\n    upload batch    2: response <Response [200]>\n    upload batch    3: response <Response [200]>\n    upload batch    4: response <Response [200]>\n    upload batch    5: response <Response [200]>\n    upload batch    6: response <Response [200]>\n    upload batch    7: response <Response [200]>\n    upload batch    8: response <Response [200]>\n    upload batch    9: response <Response [200]>\n    upload batch   10: response <Response [200]>\n    upload batch   11: response <Response [200]>\n    upload batch   12: response <Response [200]>\n    upload batch   13: response <Response [200]>\n    upload batch   14: response <Response [200]>\n    upload batch   15: response <Response [200]>\n    upload batch   16: response <Response [200]>\n    upload batch   17: response <Response [200]>\n    upload batch   18: response <Response [200]>\n    upload batch   19: response <Response [200]>\n    upload batch   20: response <Response [200]>\n    upload batch   21: response <Response [200]>\n    upload batch   22: response <Response [200]>\n    upload batch   23: response <Response [200]>\n    upload batch   24: response <Response [200]>\n    upload batch   25: response <Response [200]>\ncommitting changes to index...\n...done\n{'index_id': 'index_92383669c51e4c42afa09881fcfafd3e',\n 'name': 'NLTK-Reuters-Train-Demo',\n 'state': 'untrained'}\n"
     ]
    }
   ],
   "source": [
    "# upload labeled training data\n",
    "train_records = df_train.to_dict(orient='records')\n",
    "\n",
    "_, status = upload_to_index_and_commit(INDEX_NAME, train_records)\n",
    "\n",
    "\n",
    "# upload extra records without any metadata or labels\n",
    "extra_records = df_test[['doc_id', 'doc', 'id']].to_dict(orient='records')\n",
    "\n",
    "_, status = upload_to_index_and_commit(INDEX_NAME, extra_records)\n",
    "\n",
    "\n",
    "# check the index status\n",
    "pprint.pprint(status)"
   ]
  },
  {
   "cell_type": "markdown",
   "metadata": {
    "application/vnd.databricks.v1+cell": {
     "cellMetadata": {
      "byteLimit": 2048000,
      "rowLimit": 10000
     },
     "inputWidgets": {},
     "nuid": "2033a3df-fb73-44a7-b284-0a3eee445dbb",
     "showTitle": false,
     "title": ""
    }
   },
   "source": [
    "# 3. Train the AI model\n",
    "\n",
    "Now that our index has some data, we can go ahead and train an AI model!\n",
    "We'll do supervised training, using the sparse \"tag\" metadata field as a label.\n",
    "Note that training can take a while, depending on the quantity and complexity of the data in your index.\n",
    "You can issue a training command and then periodically poll the index status to see when it is ready."
   ]
  },
  {
   "cell_type": "code",
   "execution_count": 0,
   "metadata": {
    "application/vnd.databricks.v1+cell": {
     "cellMetadata": {
      "byteLimit": 2048000,
      "rowLimit": 10000
     },
     "inputWidgets": {},
     "nuid": "74f70d82-82ab-4770-904a-e23882adf52a",
     "showTitle": true,
     "title": "Train the model"
    }
   },
   "outputs": [
    {
     "output_type": "stream",
     "name": "stdout",
     "output_type": "stream",
     "text": [
      "{'index_id': 'index_92383669c51e4c42afa09881fcfafd3e',\n 'name': 'NLTK-Reuters-Train-Demo',\n 'state': 'training'}\n"
     ]
    }
   ],
   "source": [
    "status = train_index(INDEX_NAME, dict(tag_field_names=[\"tags\"], K=32))\n",
    "\n",
    "pprint.pprint(status)"
   ]
  },
  {
   "cell_type": "markdown",
   "metadata": {
    "application/vnd.databricks.v1+cell": {
     "cellMetadata": {
      "byteLimit": 2048000,
      "rowLimit": 10000
     },
     "inputWidgets": {},
     "nuid": "4193f442-378e-48c0-97b3-1b2e1d952b83",
     "showTitle": false,
     "title": ""
    }
   },
   "source": [
    "while the model is training, you can check its status as follows to see when it is ready"
   ]
  },
  {
   "cell_type": "code",
   "execution_count": 0,
   "metadata": {
    "application/vnd.databricks.v1+cell": {
     "cellMetadata": {
      "byteLimit": 2048000,
      "rowLimit": 10000
     },
     "inputWidgets": {},
     "nuid": "9d7bb3d1-c96f-43ed-ae89-3422c13a888e",
     "showTitle": true,
     "title": "Poll the index status to see when training is done"
    }
   },
   "outputs": [
    {
     "output_type": "stream",
     "name": "stdout",
     "output_type": "stream",
     "text": [
      "{'index_id': 'index_92383669c51e4c42afa09881fcfafd3e',\n 'name': 'NLTK-Reuters-Train-Demo',\n 'state': 'ready'}\n"
     ]
    }
   ],
   "source": [
    "pprint.pprint(get_index_status(INDEX_NAME))"
   ]
  },
  {
   "cell_type": "markdown",
   "metadata": {
    "application/vnd.databricks.v1+cell": {
     "cellMetadata": {
      "byteLimit": 2048000,
      "rowLimit": 10000
     },
     "inputWidgets": {},
     "nuid": "21ef37ab-6813-440d-9565-5799252f8160",
     "showTitle": false,
     "title": ""
    }
   },
   "source": [
    "# 4. Run ephemeral predictions\n",
    "\n",
    "Once the AI model is trained, we can use it to make ephemeral predictions like you would with a classifier in, e.g., scikit-learn or keras."
   ]
  },
  {
   "cell_type": "code",
   "execution_count": 0,
   "metadata": {
    "application/vnd.databricks.v1+cell": {
     "cellMetadata": {
      "byteLimit": 2048000,
      "rowLimit": 10000
     },
     "inputWidgets": {},
     "nuid": "634b80c8-885f-4406-ad5b-d8ec3210dccb",
     "showTitle": true,
     "title": "Run an ephemeral prediction without mutating the index"
    }
   },
   "outputs": [
    {
     "output_type": "stream",
     "name": "stdout",
     "output_type": "stream",
     "text": [
      "running predictions...\n    upload batch    1: response <Response [200]>\n...done\n\n[{'doc_id': '4c7cc4ad82dc5c0eb66a9c90bd15b396',\n  'predictions': {'acq': 0.45902329683303833,\n                  'corn': 0.5148919820785522,\n                  'crude': 0.3169301748275757,\n                  'earn': 0.27290281653404236,\n                  'gold': 0.9282642602920532,\n                  'grain': 0.27914997935295105,\n                  'interest': 0.08897025138139725,\n                  'money-fx': 0.39946383237838745,\n                  'ship': 0.2930334806442261,\n                  'trade': 0.25648075342178345,\n                  'wheat': 0.19165800511837006}}]\n\nP(gold) = 92.8%\n"
     ]
    }
   ],
   "source": [
    "example_prediction = predict(INDEX_NAME, [{'doc': \"This is definitely an article about gold, mining, and precious metals.\"}])\n",
    "\n",
    "print(\"\\n\", end=\"\")\n",
    "pprint.pprint(example_prediction)\n",
    "print()\n",
    "print(f\"\"\"P(gold) = {example_prediction[0]['predictions']['gold']:.1%}\"\"\")"
   ]
  },
  {
   "cell_type": "markdown",
   "metadata": {
    "application/vnd.databricks.v1+cell": {
     "cellMetadata": {
      "byteLimit": 2048000,
      "rowLimit": 10000
     },
     "inputWidgets": {},
     "nuid": "971b991f-c2ce-4999-9bcb-6a3be0111f88",
     "showTitle": false,
     "title": ""
    }
   },
   "source": [
    "# 5. Automatically organize data with the \"smart\" index\n",
    "\n",
    "Once the AI model is trained, it will automatically annotate and organize the documents in subsequent uploads.\n",
    "\n",
    "There are many things you can do with these annotations; in this demo we will check the predictions, and will also dive into the model to see which themes correlate with each label.\n",
    "In other demos, we eill show how you can make use of this organization for data mining and for other purposes.\n",
    "\n",
    "Note that the upload returns predictions.\n",
    "Predictions can be retrieved later using the API, but for convenience we will collect the prediction responses into a pandas DataFrame for analysis.\n",
    "This fits a standard data science workflow."
   ]
  },
  {
   "cell_type": "code",
   "execution_count": 0,
   "metadata": {
    "application/vnd.databricks.v1+cell": {
     "cellMetadata": {
      "byteLimit": 2048000,
      "rowLimit": 10000
     },
     "inputWidgets": {},
     "nuid": "42087047-e410-47ad-9933-f56edc5d19c3",
     "showTitle": true,
     "title": "Run predictions and save them to the index"
    }
   },
   "outputs": [
    {
     "output_type": "stream",
     "name": "stdout",
     "output_type": "stream",
     "text": [
      "uploading data to TRAINED index for prediction.\nuploading data to index...\n    upload batch    1: response <Response [200]>\n    upload batch    2: response <Response [200]>\n    upload batch    3: response <Response [200]>\n    upload batch    4: response <Response [200]>\n    upload batch    5: response <Response [200]>\n    upload batch    6: response <Response [200]>\n    upload batch    7: response <Response [200]>\n    upload batch    8: response <Response [200]>\n    upload batch    9: response <Response [200]>\n    upload batch   10: response <Response [200]>\n    upload batch   11: response <Response [200]>\n    upload batch   12: response <Response [200]>\n    upload batch   13: response <Response [200]>\n    upload batch   14: response <Response [200]>\n    upload batch   15: response <Response [200]>\n    upload batch   16: response <Response [200]>\n    upload batch   17: response <Response [200]>\n    upload batch   18: response <Response [200]>\n    upload batch   19: response <Response [200]>\n    upload batch   20: response <Response [200]>\n    upload batch   21: response <Response [200]>\n    upload batch   22: response <Response [200]>\n    upload batch   23: response <Response [200]>\n    upload batch   24: response <Response [200]>\n    upload batch   25: response <Response [200]>\ncommitting changes to index...\n...done\n{'index_id': 'index_92383669c51e4c42afa09881fcfafd3e',\n 'name': 'NLTK-Reuters-Train-Demo',\n 'state': 'ready'}\n"
     ]
    }
   ],
   "source": [
    "test_records = df_test[['doc_id', 'doc', 'id']].to_dict(orient='records')\n",
    "\n",
    "results, status = upload_to_index_and_commit(INDEX_NAME, test_records)\n",
    "\n",
    "pprint.pprint(status)"
   ]
  },
  {
   "cell_type": "code",
   "execution_count": 0,
   "metadata": {
    "application/vnd.databricks.v1+cell": {
     "cellMetadata": {
      "byteLimit": 2048000,
      "rowLimit": 10000
     },
     "inputWidgets": {},
     "nuid": "eb966a39-4866-41d9-9338-4f6d8566e797",
     "showTitle": true,
     "title": "Save the prediction results into a DataFrame for convenience"
    }
   },
   "outputs": [
    {
     "output_type": "execute_result",
     "data": {
      "text/html": [
       "<div>\n",
       "<style scoped>\n",
       "    .dataframe tbody tr th:only-of-type {\n",
       "        vertical-align: middle;\n",
       "    }\n",
       "\n",
       "    .dataframe tbody tr th {\n",
       "        vertical-align: top;\n",
       "    }\n",
       "\n",
       "    .dataframe thead th {\n",
       "        text-align: right;\n",
       "    }\n",
       "</style>\n",
       "<table border=\"1\" class=\"dataframe\">\n",
       "  <thead>\n",
       "    <tr style=\"text-align: right;\">\n",
       "      <th></th>\n",
       "      <th>doc_id</th>\n",
       "      <th>acq</th>\n",
       "      <th>corn</th>\n",
       "      <th>crude</th>\n",
       "      <th>earn</th>\n",
       "      <th>gold</th>\n",
       "      <th>grain</th>\n",
       "      <th>interest</th>\n",
       "      <th>money-fx</th>\n",
       "      <th>ship</th>\n",
       "      <th>trade</th>\n",
       "      <th>wheat</th>\n",
       "    </tr>\n",
       "  </thead>\n",
       "  <tbody>\n",
       "    <tr>\n",
       "      <th>0</th>\n",
       "      <td>0c63275952f38426566f61a081d5d9eb</td>\n",
       "      <td>0.124757</td>\n",
       "      <td>0.897200</td>\n",
       "      <td>0.452393</td>\n",
       "      <td>0.025363</td>\n",
       "      <td>0.108807</td>\n",
       "      <td>0.553194</td>\n",
       "      <td>0.128163</td>\n",
       "      <td>0.221672</td>\n",
       "      <td>0.248666</td>\n",
       "      <td>0.933371</td>\n",
       "      <td>0.275681</td>\n",
       "    </tr>\n",
       "    <tr>\n",
       "      <th>1</th>\n",
       "      <td>0c6e9d89636a933953d9975dadfb53e7</td>\n",
       "      <td>0.070464</td>\n",
       "      <td>0.125068</td>\n",
       "      <td>0.269874</td>\n",
       "      <td>0.160749</td>\n",
       "      <td>0.063650</td>\n",
       "      <td>0.258392</td>\n",
       "      <td>0.101070</td>\n",
       "      <td>0.238421</td>\n",
       "      <td>0.163881</td>\n",
       "      <td>0.901866</td>\n",
       "      <td>0.167396</td>\n",
       "    </tr>\n",
       "    <tr>\n",
       "      <th>2</th>\n",
       "      <td>0c80c00a7bd3d987a43ba8d49814f8df</td>\n",
       "      <td>0.007904</td>\n",
       "      <td>0.053494</td>\n",
       "      <td>0.122360</td>\n",
       "      <td>0.663182</td>\n",
       "      <td>0.031563</td>\n",
       "      <td>0.070750</td>\n",
       "      <td>0.025557</td>\n",
       "      <td>0.020664</td>\n",
       "      <td>0.063335</td>\n",
       "      <td>0.029473</td>\n",
       "      <td>0.067832</td>\n",
       "    </tr>\n",
       "    <tr>\n",
       "      <th>3</th>\n",
       "      <td>0c8e4f9fbac26ed04a8cdab0df80e578</td>\n",
       "      <td>0.859395</td>\n",
       "      <td>0.180559</td>\n",
       "      <td>0.322113</td>\n",
       "      <td>0.151096</td>\n",
       "      <td>0.896389</td>\n",
       "      <td>0.125128</td>\n",
       "      <td>0.023034</td>\n",
       "      <td>0.049403</td>\n",
       "      <td>0.024037</td>\n",
       "      <td>0.014747</td>\n",
       "      <td>0.058254</td>\n",
       "    </tr>\n",
       "    <tr>\n",
       "      <th>4</th>\n",
       "      <td>0ca077c8a8f5025f2f856ecb4fd59b3a</td>\n",
       "      <td>0.123892</td>\n",
       "      <td>0.833443</td>\n",
       "      <td>0.446467</td>\n",
       "      <td>0.021332</td>\n",
       "      <td>0.061761</td>\n",
       "      <td>0.589171</td>\n",
       "      <td>0.140580</td>\n",
       "      <td>0.303507</td>\n",
       "      <td>0.305607</td>\n",
       "      <td>0.971845</td>\n",
       "      <td>0.211971</td>\n",
       "    </tr>\n",
       "  </tbody>\n",
       "</table>\n",
       "</div>"
      ],
      "text/plain": [
       "                             doc_id       acq  ...     trade     wheat\n",
       "0  0c63275952f38426566f61a081d5d9eb  0.124757  ...  0.933371  0.275681\n",
       "1  0c6e9d89636a933953d9975dadfb53e7  0.070464  ...  0.901866  0.167396\n",
       "2  0c80c00a7bd3d987a43ba8d49814f8df  0.007904  ...  0.029473  0.067832\n",
       "3  0c8e4f9fbac26ed04a8cdab0df80e578  0.859395  ...  0.014747  0.058254\n",
       "4  0ca077c8a8f5025f2f856ecb4fd59b3a  0.123892  ...  0.971845  0.211971\n",
       "\n",
       "[5 rows x 12 columns]"
      ]
     },
     "execution_count": 26,
     "metadata": {},
     "output_type": "execute_result"
    }
   ],
   "source": [
    "df_prediction = pd.DataFrame([ { 'doc_id': r['doc_id'], **r['predictions'] } for r in results ])\n",
    "df_prediction.head()"
   ]
  },
  {
   "cell_type": "markdown",
   "metadata": {
    "application/vnd.databricks.v1+cell": {
     "cellMetadata": {
      "byteLimit": 2048000,
      "rowLimit": 10000
     },
     "inputWidgets": {},
     "nuid": "a2bb34a8-bce5-4e54-bb20-f1a57adb4437",
     "showTitle": false,
     "title": ""
    }
   },
   "source": [
    "# 6. Query docs based on prediction\n",
    "\n",
    "Before diving into an analysis of the predictions, let's show a quick example of how you can retrieve documents based on prediction values using the `doc` API:"
   ]
  },
  {
   "cell_type": "code",
   "execution_count": 0,
   "metadata": {
    "application/vnd.databricks.v1+cell": {
     "cellMetadata": {
      "byteLimit": 2048000,
      "rowLimit": 10000
     },
     "inputWidgets": {},
     "nuid": "71d4d86a-89e0-4558-8343-a504f8b149ff",
     "showTitle": true,
     "title": "Utility function to print example search results"
    }
   },
   "outputs": [],
   "source": [
    "def show_search_results(search_results):\n",
    "    \"\"\"\n",
    "    Small utility function to print search results made using the\n",
    "    get(f'/{index_id}/doc') API call.\n",
    "    \"\"\"\n",
    "\n",
    "    # truncate text and format to a fixed width\n",
    "    def mywrap(text):\n",
    "        words = text.split()\n",
    "        if len(words) > 50:\n",
    "            words = words[:49] + ['...']\n",
    "        short_text = ' '.join(words)\n",
    "        lines = wrap(short_text, width=80)\n",
    "        return indent('\\n'.join(lines), prefix=\"    \")\n",
    "\n",
    "    # print the first 5 results\n",
    "    for res in search_results[:5]:\n",
    "        res_id = res['metadata']['id']\n",
    "        df_ = pd.concat((df_test, df_train), sort=False)\n",
    "\n",
    "        gt = df_.loc[df_['id'] == res_id, 'tags'].values[0]\n",
    "        gt = f\"\"\"[{', '.join(gt)}]\"\"\"\n",
    "        \n",
    "        print(f\"\"\"P('{label}') = {res['predictions'][label]:.1%}   ground truth = {gt}\"\"\", end=\"\\n\\n\")\n",
    "        print(mywrap(res['text']), end=\"\\n\\n\")"
   ]
  },
  {
   "cell_type": "markdown",
   "metadata": {
    "application/vnd.databricks.v1+cell": {
     "cellMetadata": {},
     "inputWidgets": {},
     "nuid": "aceaac55-a7ca-4ae0-b3e0-ab8d25a43904",
     "showTitle": false,
     "title": ""
    }
   },
   "source": [
    "Let's take the tag \"acq;\" I believe this indicates articles related to M&A activity.\n",
    "We can search for documents *predicted* to match this tag by adding the SQL filter `pred_acq>0.5` to the query endpoint.\n",
    "\n",
    "In this case, the `doc_id` is the md5 hash of the document contents.\n",
    "We can get an effectively random sample of true predictions by applying the filter and then sorting by the `doc_id`; this gives a sense of \"typical\" prediction results:"
   ]
  },
  {
   "cell_type": "code",
   "execution_count": 0,
   "metadata": {
    "application/vnd.databricks.v1+cell": {
     "cellMetadata": {
      "byteLimit": 2048000,
      "rowLimit": 10000
     },
     "inputWidgets": {},
     "nuid": "ca22ff43-95d7-48b1-bff0-460fa9672008",
     "showTitle": true,
     "title": "Check typical predictions for the \"earn\" category"
    }
   },
   "outputs": [
    {
     "output_type": "stream",
     "name": "stdout",
     "output_type": "stream",
     "text": [
      "P('acq') = 85.9%   ground truth = [acq]\n\n    PIEDMONT AVIATION & lt ; PIE > BOARD TO MEET TODAY Piedmont Avaition Inc ' s\n    board of directors will conduct a special meeting beginning at 1400 est today ,\n    a Piedmont spokesman said . The spokesman would not say what was on the agenda .\n    In mid - ...\n\nP('acq') = 64.5%   ground truth = [acq]\n\n    FOREIGN FIRMS HOPE TO JOIN JAPAN TELECOM COMPANY One of two rival firms seeking\n    to enter Japan ' s international telecommunications market said it will offer a\n    stake in the company to 10 foreign firms . President of & lt ; International\n    Telecom Japan Inc > ( ITJ ), ...\n\nP('acq') = 88.1%   ground truth = [acq]\n\n    & lt ; FMD INC > IN MERGER AGREEMENT FMD Inc said it has agreed to acquire\n    Bankers Protective Financial Corp for 28 , 836 , 000 common shares , subject to\n    approval by the Texas State Board of Insurance . Bankers Protective is a life\n    insurance company based ...\n\nP('acq') = 88.5%   ground truth = [acq]\n\n    COMPUTER ASSOCIATES & lt ; CA > STARTS BPI & lt ; BPII > BID Computer Associates\n    International Inc said it has started its previously - announced 1 . 92 dlr per\n    share tender offer for all shares of BPI Systems Inc . In a newspaper\n    advertisement , the ...\n\nP('acq') = 76.8%   ground truth = [acq]\n\n    NATIONWIDE CELLULAR & lt ; NCEL > COMPLETES PURCHASE Nationwide Cellular Service\n    Inc said it has completed the previously - announced acquisition of privately -\n    held Nova Cellular Co , a Chicago reseller of mobile telephone service with 1 ,\n    800 subscribers , for about 65 , 000 common ...\n\n"
     ]
    }
   ],
   "source": [
    "label = \"acq\"\n",
    "\n",
    "info = get(f'/{index_id}/doc', dict(filters=f\"pred_{label}>0.5\", limit=10, sort_by=\"doc_id\"))\n",
    "check_status(info)\n",
    "search_results = info.json()['docs']\n",
    "\n",
    "show_search_results(search_results)"
   ]
  },
  {
   "cell_type": "markdown",
   "metadata": {
    "application/vnd.databricks.v1+cell": {
     "cellMetadata": {},
     "inputWidgets": {},
     "nuid": "1fc2a7c5-26d9-4812-a246-a758524d9a19",
     "showTitle": false,
     "title": ""
    }
   },
   "source": [
    "The above shows *typical* examples of documents predicted to match the \"acq\" tag.\n",
    "If we instead want the documents predicted to *best* fit the \"acq\" tag, we can instead order by the prediction value:"
   ]
  },
  {
   "cell_type": "code",
   "execution_count": 0,
   "metadata": {
    "application/vnd.databricks.v1+cell": {
     "cellMetadata": {
      "byteLimit": 2048000,
      "rowLimit": 10000
     },
     "inputWidgets": {},
     "nuid": "49664932-cd94-4f5f-8539-b71c37068bbd",
     "showTitle": true,
     "title": "Check exemplary predictions for the \"earn\" category"
    }
   },
   "outputs": [
    {
     "output_type": "stream",
     "name": "stdout",
     "output_type": "stream",
     "text": [
      "P('acq') = 99.3%   ground truth = [acq]\n\n    AIR CANADA COURIER BUY SHARPLY ALTERS INDUSTRY Air Canada ' s 54 mln U . S . dlr\n    acquisition of Gelco Corp ' s & lt ; GEC > Canadian unit has dramatically\n    altered Canada ' s fast growing courier industry , largely dominated by U . S .\n    ...\n\nP('acq') = 99.1%   ground truth = [acq]\n\n    CLAYTON AND DUBILIER NEW JOINT UNIT TO BUY FIRM Clayton and Dubilier Inc and\n    senior management of a unit of Borg - Warner Corp & lt ; BOR > said it will form\n    a new company to buy Borg - Warner ' s industrial products group for about 240\n    ...\n\nP('acq') = 99.1%   ground truth = [acq]\n\n    GENCORP & lt ; GY > BID COULD BE RAISED , GROUP SAYS An investor group said it\n    might be willing to raise its 100 dlr per share offer for GenCorp but so far the\n    company has turned down requests for a meeting . \" We might be able ...\n\nP('acq') = 98.8%   ground truth = [acq]\n\n    CONTROL DATA & lt ; CDA > TO BUY PERIPHERALS STAKE Control Data Corp said it\n    agreed to acquire Unisys Inc ' s & lt ; UIS > 13 pct stake in & lt ; Magnetic\n    Peripherals Inc >. The letter of intent provides that Unisys converts from an\n    ...\n\nP('acq') = 98.8%   ground truth = [acq]\n\n    HUNT GROUP HAS COMDATA STAKE , SEEKS INFLUENCE An investor group led by members\n    of the Hunt family of Dallas , Texas , told the Securities and Exchange\n    Commission it has acquired a 6 . 2 pct stake in Comdata Network Inc & lt ; CDN >\n    and may ...\n\n"
     ]
    }
   ],
   "source": [
    "info = get(f'/{index_id}/doc', dict(filters=f\"pred_{label}>0.5\", limit=10, sort_by=f\"pred_{label}\", ascending=\"false\"))\n",
    "check_status(info)\n",
    "search_results = info.json()['docs']\n",
    "\n",
    "show_search_results(search_results)"
   ]
  },
  {
   "cell_type": "markdown",
   "metadata": {
    "application/vnd.databricks.v1+cell": {
     "cellMetadata": {},
     "inputWidgets": {},
     "nuid": "87f21fe3-90f1-411f-8df8-ff1916742abe",
     "showTitle": false,
     "title": ""
    }
   },
   "source": [
    "# 7. Check model prediction metrics\n",
    "\n",
    "In this section, we'll measure the model's prediction performance using standard metric functions from scikit-learn.\n",
    "First, we'll need to convert the \"ground truth\" labels in the test set from the sparse \"tag\" format into a binary encoding:"
   ]
  },
  {
   "cell_type": "code",
   "execution_count": 0,
   "metadata": {
    "application/vnd.databricks.v1+cell": {
     "cellMetadata": {
      "byteLimit": 2048000,
      "rowLimit": 10000
     },
     "inputWidgets": {},
     "nuid": "1fc53834-ced1-4c5e-a628-b8b4eb1e2069",
     "showTitle": true,
     "title": "Convert ground truth tags into binary variables"
    }
   },
   "outputs": [
    {
     "output_type": "execute_result",
     "data": {
      "text/html": [
       "<div>\n",
       "<style scoped>\n",
       "    .dataframe tbody tr th:only-of-type {\n",
       "        vertical-align: middle;\n",
       "    }\n",
       "\n",
       "    .dataframe tbody tr th {\n",
       "        vertical-align: top;\n",
       "    }\n",
       "\n",
       "    .dataframe thead th {\n",
       "        text-align: right;\n",
       "    }\n",
       "</style>\n",
       "<table border=\"1\" class=\"dataframe\">\n",
       "  <thead>\n",
       "    <tr style=\"text-align: right;\">\n",
       "      <th></th>\n",
       "      <th>doc_id</th>\n",
       "      <th>acq</th>\n",
       "      <th>corn</th>\n",
       "      <th>crude</th>\n",
       "      <th>earn</th>\n",
       "      <th>gold</th>\n",
       "      <th>grain</th>\n",
       "      <th>interest</th>\n",
       "      <th>money-fx</th>\n",
       "      <th>ship</th>\n",
       "      <th>trade</th>\n",
       "      <th>wheat</th>\n",
       "    </tr>\n",
       "  </thead>\n",
       "  <tbody>\n",
       "    <tr>\n",
       "      <th>500</th>\n",
       "      <td>0c63275952f38426566f61a081d5d9eb</td>\n",
       "      <td>0</td>\n",
       "      <td>0</td>\n",
       "      <td>0</td>\n",
       "      <td>0</td>\n",
       "      <td>0</td>\n",
       "      <td>1</td>\n",
       "      <td>0</td>\n",
       "      <td>0</td>\n",
       "      <td>0</td>\n",
       "      <td>0</td>\n",
       "      <td>1</td>\n",
       "    </tr>\n",
       "    <tr>\n",
       "      <th>501</th>\n",
       "      <td>0c6e9d89636a933953d9975dadfb53e7</td>\n",
       "      <td>0</td>\n",
       "      <td>0</td>\n",
       "      <td>0</td>\n",
       "      <td>0</td>\n",
       "      <td>0</td>\n",
       "      <td>0</td>\n",
       "      <td>0</td>\n",
       "      <td>0</td>\n",
       "      <td>0</td>\n",
       "      <td>0</td>\n",
       "      <td>0</td>\n",
       "    </tr>\n",
       "    <tr>\n",
       "      <th>502</th>\n",
       "      <td>0c80c00a7bd3d987a43ba8d49814f8df</td>\n",
       "      <td>0</td>\n",
       "      <td>0</td>\n",
       "      <td>0</td>\n",
       "      <td>1</td>\n",
       "      <td>0</td>\n",
       "      <td>0</td>\n",
       "      <td>0</td>\n",
       "      <td>0</td>\n",
       "      <td>0</td>\n",
       "      <td>0</td>\n",
       "      <td>0</td>\n",
       "    </tr>\n",
       "    <tr>\n",
       "      <th>503</th>\n",
       "      <td>0c8e4f9fbac26ed04a8cdab0df80e578</td>\n",
       "      <td>1</td>\n",
       "      <td>0</td>\n",
       "      <td>0</td>\n",
       "      <td>0</td>\n",
       "      <td>0</td>\n",
       "      <td>0</td>\n",
       "      <td>0</td>\n",
       "      <td>0</td>\n",
       "      <td>0</td>\n",
       "      <td>0</td>\n",
       "      <td>0</td>\n",
       "    </tr>\n",
       "    <tr>\n",
       "      <th>504</th>\n",
       "      <td>0ca077c8a8f5025f2f856ecb4fd59b3a</td>\n",
       "      <td>0</td>\n",
       "      <td>0</td>\n",
       "      <td>0</td>\n",
       "      <td>0</td>\n",
       "      <td>0</td>\n",
       "      <td>0</td>\n",
       "      <td>0</td>\n",
       "      <td>0</td>\n",
       "      <td>0</td>\n",
       "      <td>1</td>\n",
       "      <td>0</td>\n",
       "    </tr>\n",
       "  </tbody>\n",
       "</table>\n",
       "</div>"
      ],
      "text/plain": [
       "                               doc_id  acq  corn  ...  ship  trade  wheat\n",
       "500  0c63275952f38426566f61a081d5d9eb    0     0  ...     0      0      1\n",
       "501  0c6e9d89636a933953d9975dadfb53e7    0     0  ...     0      0      0\n",
       "502  0c80c00a7bd3d987a43ba8d49814f8df    0     0  ...     0      0      0\n",
       "503  0c8e4f9fbac26ed04a8cdab0df80e578    1     0  ...     0      0      0\n",
       "504  0ca077c8a8f5025f2f856ecb4fd59b3a    0     0  ...     0      1      0\n",
       "\n",
       "[5 rows x 12 columns]"
      ]
     },
     "execution_count": 35,
     "metadata": {},
     "output_type": "execute_result"
    }
   ],
   "source": [
    "# convert the tag format to boolean indicator variables\n",
    "df_test_dense = df_test['tags'].apply(lambda x: ','.join(x)).str.get_dummies(sep=',')\n",
    "df_test_dense['doc_id'] = df_test['doc_id']\n",
    "\n",
    "# reorder indicator variables to match columns in the prediction DataFrame\n",
    "df_test_dense = df_test_dense[df_prediction.columns]\n",
    "\n",
    "df_test_dense.head()"
   ]
  },
  {
   "cell_type": "markdown",
   "metadata": {
    "application/vnd.databricks.v1+cell": {
     "cellMetadata": {},
     "inputWidgets": {},
     "nuid": "504285c3-deb2-4ce1-81b4-e5c0548f1530",
     "showTitle": false,
     "title": ""
    }
   },
   "source": [
    "Now that we have both predictions and ground truth labels, we can evaluate the model's predictive performance in the usual way:"
   ]
  },
  {
   "cell_type": "code",
   "execution_count": 0,
   "metadata": {
    "application/vnd.databricks.v1+cell": {
     "cellMetadata": {
      "byteLimit": 2048000,
      "rowLimit": 10000
     },
     "inputWidgets": {},
     "nuid": "a98472aa-b37e-4859-946d-6429711aa951",
     "showTitle": true,
     "title": "Evaluate Model Performance on Multilabel Data"
    }
   },
   "outputs": [
    {
     "output_type": "execute_result",
     "data": {
      "text/html": [
       "<div>\n",
       "<style scoped>\n",
       "    .dataframe tbody tr th:only-of-type {\n",
       "        vertical-align: middle;\n",
       "    }\n",
       "\n",
       "    .dataframe tbody tr th {\n",
       "        vertical-align: top;\n",
       "    }\n",
       "\n",
       "    .dataframe thead th {\n",
       "        text-align: right;\n",
       "    }\n",
       "</style>\n",
       "<table border=\"1\" class=\"dataframe\">\n",
       "  <thead>\n",
       "    <tr style=\"text-align: right;\">\n",
       "      <th></th>\n",
       "      <th>label</th>\n",
       "      <th>precision</th>\n",
       "      <th>recall</th>\n",
       "      <th>f1</th>\n",
       "      <th>AUC</th>\n",
       "    </tr>\n",
       "  </thead>\n",
       "  <tbody>\n",
       "    <tr>\n",
       "      <th>0</th>\n",
       "      <td>acq</td>\n",
       "      <td>0.933064</td>\n",
       "      <td>0.941313</td>\n",
       "      <td>0.937099</td>\n",
       "      <td>0.983170</td>\n",
       "    </tr>\n",
       "    <tr>\n",
       "      <th>1</th>\n",
       "      <td>corn</td>\n",
       "      <td>0.546665</td>\n",
       "      <td>0.855191</td>\n",
       "      <td>0.529894</td>\n",
       "      <td>0.925410</td>\n",
       "    </tr>\n",
       "    <tr>\n",
       "      <th>2</th>\n",
       "      <td>crude</td>\n",
       "      <td>0.724202</td>\n",
       "      <td>0.908973</td>\n",
       "      <td>0.782845</td>\n",
       "      <td>0.950101</td>\n",
       "    </tr>\n",
       "    <tr>\n",
       "      <th>3</th>\n",
       "      <td>earn</td>\n",
       "      <td>0.958602</td>\n",
       "      <td>0.940202</td>\n",
       "      <td>0.948235</td>\n",
       "      <td>0.988495</td>\n",
       "    </tr>\n",
       "    <tr>\n",
       "      <th>4</th>\n",
       "      <td>gold</td>\n",
       "      <td>0.601803</td>\n",
       "      <td>0.941919</td>\n",
       "      <td>0.657864</td>\n",
       "      <td>0.987943</td>\n",
       "    </tr>\n",
       "    <tr>\n",
       "      <th>5</th>\n",
       "      <td>grain</td>\n",
       "      <td>0.694286</td>\n",
       "      <td>0.901607</td>\n",
       "      <td>0.752064</td>\n",
       "      <td>0.961025</td>\n",
       "    </tr>\n",
       "    <tr>\n",
       "      <th>6</th>\n",
       "      <td>interest</td>\n",
       "      <td>0.727817</td>\n",
       "      <td>0.912104</td>\n",
       "      <td>0.788500</td>\n",
       "      <td>0.975814</td>\n",
       "    </tr>\n",
       "    <tr>\n",
       "      <th>7</th>\n",
       "      <td>money-fx</td>\n",
       "      <td>0.719043</td>\n",
       "      <td>0.900638</td>\n",
       "      <td>0.775394</td>\n",
       "      <td>0.967683</td>\n",
       "    </tr>\n",
       "    <tr>\n",
       "      <th>8</th>\n",
       "      <td>ship</td>\n",
       "      <td>0.631789</td>\n",
       "      <td>0.867988</td>\n",
       "      <td>0.684868</td>\n",
       "      <td>0.940554</td>\n",
       "    </tr>\n",
       "    <tr>\n",
       "      <th>9</th>\n",
       "      <td>trade</td>\n",
       "      <td>0.627155</td>\n",
       "      <td>0.881443</td>\n",
       "      <td>0.669589</td>\n",
       "      <td>0.939615</td>\n",
       "    </tr>\n",
       "    <tr>\n",
       "      <th>10</th>\n",
       "      <td>wheat</td>\n",
       "      <td>0.588145</td>\n",
       "      <td>0.923595</td>\n",
       "      <td>0.619785</td>\n",
       "      <td>0.963912</td>\n",
       "    </tr>\n",
       "  </tbody>\n",
       "</table>\n",
       "</div>"
      ],
      "text/plain": [
       "       label  precision    recall        f1       AUC\n",
       "0        acq   0.933064  0.941313  0.937099  0.983170\n",
       "1       corn   0.546665  0.855191  0.529894  0.925410\n",
       "2      crude   0.724202  0.908973  0.782845  0.950101\n",
       "3       earn   0.958602  0.940202  0.948235  0.988495\n",
       "4       gold   0.601803  0.941919  0.657864  0.987943\n",
       "5      grain   0.694286  0.901607  0.752064  0.961025\n",
       "6   interest   0.727817  0.912104  0.788500  0.975814\n",
       "7   money-fx   0.719043  0.900638  0.775394  0.967683\n",
       "8       ship   0.631789  0.867988  0.684868  0.940554\n",
       "9      trade   0.627155  0.881443  0.669589  0.939615\n",
       "10     wheat   0.588145  0.923595  0.619785  0.963912"
      ]
     },
     "execution_count": 36,
     "metadata": {},
     "output_type": "execute_result"
    }
   ],
   "source": [
    "records = []\n",
    "for tag in df_prediction.columns.drop('doc_id'):\n",
    "    p, r, f, _ = precision_recall_fscore_support(df_test_dense[tag].values, df_prediction[tag].values>0.5, \n",
    "                                                 average='macro', zero_division=0.0)\n",
    "    a = roc_auc_score(df_test_dense[tag].values, df_prediction[tag].values, average='macro')\n",
    "    records.append({'label': tag, 'precision': p, 'recall': r, 'f1': f, 'AUC': a})\n",
    "\n",
    "df_metrics = pd.DataFrame.from_records(records)\n",
    "\n",
    "df_metrics"
   ]
  },
  {
   "cell_type": "markdown",
   "metadata": {
    "application/vnd.databricks.v1+cell": {
     "cellMetadata": {},
     "inputWidgets": {},
     "nuid": "d969c204-0b7d-4c40-a50b-d5235d1bbcc0",
     "showTitle": false,
     "title": ""
    }
   },
   "source": [
    "# 8. Inspect model predictions\n",
    "\n",
    "Thus far, we've received and reviewed predictions exactly as you would with any other text classification framework.\n",
    "\n",
    "However, a *primary* advantage of the Sturdy Stats system is that you can dive into predictions to understand what the model learned from the data.\n",
    "This enables you to learn patterns in the data and build trust in the model.\n",
    "It also enables you to explain exactly *why* the model predicted the way it did.\n",
    "Thus, you can easily monitor Sturdy Stats models for biased on undesirable behavior."
   ]
  },
  {
   "cell_type": "code",
   "execution_count": 0,
   "metadata": {
    "application/vnd.databricks.v1+cell": {
     "cellMetadata": {
      "byteLimit": 2048000,
      "rowLimit": 10000
     },
     "inputWidgets": {},
     "nuid": "94194dbd-b31d-4541-85fc-a0aa26920ad6",
     "showTitle": true,
     "title": "Download the \"pandata\" with metdata learned by the AI"
    }
   },
   "outputs": [],
   "source": [
    "import sys\n",
    "sys.path.append('/Workspace/Repos/prod/kramer')\n",
    "from kramer import Pandata\n",
    "\n",
    "# curl -X GET --output pandata.msgpack \\\n",
    "# 'https://lit.review/api/text/v1/index/{index_id}/pandata?api_key={API_KEY}'\n",
    "\n",
    "info = get(f\"\"\"/{index_id}/pandata\"\"\", dict())\n",
    "check_status(info)\n",
    "\n",
    "pandata = srsly.msgpack_loads(info.content)\n",
    "\n",
    "pandata = Pandata(pandata)"
   ]
  },
  {
   "cell_type": "markdown",
   "metadata": {
    "application/vnd.databricks.v1+cell": {
     "cellMetadata": {},
     "inputWidgets": {},
     "nuid": "32592343-8abf-4e2e-9341-c9446a8ff161",
     "showTitle": false,
     "title": ""
    }
   },
   "source": [
    "For this deep dive, we'll need to pull out some particular data from the pandata.\n",
    "We'll need the *topic annotations*, which desribe the themes in the data discovered by the AI, and the *regression weights*, which indicate the degree to which each topic causes a document to be predicted with each label.\n",
    "\n",
    "You'll notice that the regression weights are in a (L×K) matrix, where L is the number of labels and K is the number of topics.\n",
    "You can think of this as a matrix correlating labels to topics, but the model producing these weights doesn't merely look for correlations.\n",
    "Instead, the model uses a structured hierarchical prior to find topics which both predict the label and which are distictive to that label.\n",
    "This fact makes Sturdy Stats models less *brittle* than other models, and helps them to *generalize* to new data."
   ]
  },
  {
   "cell_type": "code",
   "execution_count": 0,
   "metadata": {
    "application/vnd.databricks.v1+cell": {
     "cellMetadata": {
      "byteLimit": 2048000,
      "rowLimit": 10000
     },
     "inputWidgets": {},
     "nuid": "2334f349-7c60-4391-ba0e-6da58a5f6661",
     "showTitle": true,
     "title": "Extract relevant data from the pandata"
    }
   },
   "outputs": [],
   "source": [
    "# extract some data from the pandata object\n",
    "\n",
    "# regression weights\n",
    "eta_samples = pandata.nu_file(\"logistic_regression/eta_samples\")\n",
    "eta_lookup = dict(zip(pandata['label_field_names'], range(len(pandata['label_field_names']))))\n",
    "\n",
    "# topic annotations\n",
    "df_topic_group = pd.DataFrame.from_records(pandata['gpt_topic_group_annotations'])\n",
    "df_topic = pd.DataFrame.from_records(pandata['gpt_topic_annotations'])\n",
    "\n",
    "df_topic_group.set_index('topic_group_id', drop=True, inplace=True)\n",
    "df_topic.set_index('topic_id', drop=True, inplace=True)"
   ]
  },
  {
   "cell_type": "markdown",
   "metadata": {
    "application/vnd.databricks.v1+cell": {
     "cellMetadata": {},
     "inputWidgets": {},
     "nuid": "6a7baef8-cddc-44dc-b04f-8336e391014d",
     "showTitle": false,
     "title": ""
    }
   },
   "source": [
    "Let's take a look at the \"ship\" label.\n",
    "We'll use the regression weights to identify which topics most influence predictions of this category."
   ]
  },
  {
   "cell_type": "code",
   "execution_count": 0,
   "metadata": {
    "application/vnd.databricks.v1+cell": {
     "cellMetadata": {
      "byteLimit": 2048000,
      "rowLimit": 10000
     },
     "inputWidgets": {},
     "nuid": "325caf29-6253-43b0-bf64-2d71e974effc",
     "showTitle": true,
     "title": "Identify the top topics which cause the label \"crude\""
    }
   },
   "outputs": [],
   "source": [
    "label = 'ship'\n",
    "\n",
    "j = eta_lookup[label]\n",
    "tmp = eta_samples[j].mean(axis=0)\n",
    "\n",
    "# find the topics which make up 70% of the explanatory power for this label (with a maximum of 5)\n",
    "cdf = np.cumsum(np.sort(tmp[tmp>0])[::-1]) / tmp[tmp>0].sum()\n",
    "imax = min(1+(cdf < 0.7).sum(), 5)\n",
    "idx = tmp.argsort()[-1:-(imax+1):-1]"
   ]
  },
  {
   "cell_type": "markdown",
   "metadata": {
    "application/vnd.databricks.v1+cell": {
     "cellMetadata": {},
     "inputWidgets": {},
     "nuid": "a447a28f-b5aa-4d61-8a1e-f4a17d7ee3bb",
     "showTitle": false,
     "title": ""
    }
   },
   "source": [
    "Once we know *which* topics cause the \"ship\" label to be predicted, we can look them up in the `topic_annotations` data.\n",
    "\n",
    "We find that the most predictive topics are categorized together in a group called *\"Business and Government Policies\"*, and that they relate to \"Labour Disputes in Shipping Industry\" and \"Gulf War Attacks.\"\n",
    "\n",
    "With somewhat lower confidence, we also see a topic in the *\"Financial Market Analysis\"* category related to \"numerical data,\" most likely about the financial perfomance of various companies."
   ]
  },
  {
   "cell_type": "code",
   "execution_count": 0,
   "metadata": {
    "application/vnd.databricks.v1+cell": {
     "cellMetadata": {
      "byteLimit": 2048000,
      "rowLimit": 10000
     },
     "inputWidgets": {},
     "nuid": "0a563ee3-2b7b-4874-8cd5-69d11624cf53",
     "showTitle": true,
     "title": "Retrieve topic annotations for the top topics"
    }
   },
   "outputs": [
    {
     "output_type": "execute_result",
     "data": {
      "text/html": [
       "<div>\n",
       "<style scoped>\n",
       "    .dataframe tbody tr th:only-of-type {\n",
       "        vertical-align: middle;\n",
       "    }\n",
       "\n",
       "    .dataframe tbody tr th {\n",
       "        vertical-align: top;\n",
       "    }\n",
       "\n",
       "    .dataframe thead th {\n",
       "        text-align: right;\n",
       "    }\n",
       "</style>\n",
       "<table border=\"1\" class=\"dataframe\">\n",
       "  <thead>\n",
       "    <tr style=\"text-align: right;\">\n",
       "      <th></th>\n",
       "      <th>short_title</th>\n",
       "      <th>one_sentence_summary</th>\n",
       "      <th>eta</th>\n",
       "      <th>topic_group</th>\n",
       "    </tr>\n",
       "    <tr>\n",
       "      <th>topic_id</th>\n",
       "      <th></th>\n",
       "      <th></th>\n",
       "      <th></th>\n",
       "      <th></th>\n",
       "    </tr>\n",
       "  </thead>\n",
       "  <tbody>\n",
       "    <tr>\n",
       "      <th>25</th>\n",
       "      <td>Labour Disputes in Shipping Industry</td>\n",
       "      <td>A collection of news stories detailing various...</td>\n",
       "      <td>3.808208</td>\n",
       "      <td>Business and Government Policies</td>\n",
       "    </tr>\n",
       "    <tr>\n",
       "      <th>11</th>\n",
       "      <td>Gulf War Attacks</td>\n",
       "      <td>The theme revolves around various attacks, ret...</td>\n",
       "      <td>2.436100</td>\n",
       "      <td>Business and Government Policies</td>\n",
       "    </tr>\n",
       "    <tr>\n",
       "      <th>6</th>\n",
       "      <td>Precise numerical data</td>\n",
       "      <td>The theme revolves around detailed numerical d...</td>\n",
       "      <td>1.689948</td>\n",
       "      <td>Financial Market Analysis</td>\n",
       "    </tr>\n",
       "  </tbody>\n",
       "</table>\n",
       "</div>"
      ],
      "text/plain": [
       "                                   short_title  ...                       topic_group\n",
       "topic_id                                        ...                                  \n",
       "25        Labour Disputes in Shipping Industry  ...  Business and Government Policies\n",
       "11                            Gulf War Attacks  ...  Business and Government Policies\n",
       "6                       Precise numerical data  ...         Financial Market Analysis\n",
       "\n",
       "[3 rows x 4 columns]"
      ]
     },
     "execution_count": 128,
     "metadata": {},
     "output_type": "execute_result"
    }
   ],
   "source": [
    "df_explain = df_topic.loc[idx][['short_title', 'one_sentence_summary', 'topic_group_id']].copy()\n",
    "df_explain['eta'] = tmp[idx]\n",
    "\n",
    "df_explain['topic_group'] = df_topic_group.loc[df_explain['topic_group_id'], 'short_title'].values\n",
    "df_explain.drop(columns='topic_group_id', inplace=True)\n",
    "\n",
    "df_explain"
   ]
  },
  {
   "cell_type": "code",
   "execution_count": 0,
   "metadata": {
    "application/vnd.databricks.v1+cell": {
     "cellMetadata": {
      "byteLimit": 2048000,
      "rowLimit": 10000
     },
     "inputWidgets": {},
     "nuid": "e06e8eb5-828c-4014-8876-4feca88abd28",
     "showTitle": true,
     "title": "Print out a short report on why the model predicts \"crude\""
    }
   },
   "outputs": [
    {
     "output_type": "stream",
     "name": "stdout",
     "output_type": "stream",
     "text": [
      "Top topics informing the label `ship`:\n\n 1. Labour Disputes in Shipping Industry (Business and Government Policies)\n\n    A collection of news stories detailing various labour disputes and strikes\n    within the shipping industry, involving protests, strikes, and negotiations\n    between unions, seafarers, employers, and government officials.\n\n 2. Gulf War Attacks (Business and Government Policies)\n\n    The theme revolves around various attacks, retaliations, and military actions\n    involving warships, missiles, and oil rigs in the Gulf region during a time of\n    conflict between Iraq, Iran, and Kuwait.\n\n 3. Precise numerical data (Financial Market Analysis)\n\n    The theme revolves around detailed numerical data such as pre-tax profits,\n    turnover figures, and other financial statistics from various industries and\n    countries.\n\n"
     ]
    }
   ],
   "source": [
    "def mywrap(text):\n",
    "    lines = wrap(text, width=80)\n",
    "    return indent('\\n'.join(lines), prefix=\"    \")\n",
    "\n",
    "print(f\"\"\"Top topics informing the label `{label}`:\"\"\", end=\"\\n\\n\")\n",
    "for i, (_, row) in enumerate(df_explain.iterrows()):\n",
    "    print(f\"\"\" {1+i:1d}. {row['short_title']} ({row['topic_group']})\"\"\", end=\"\\n\\n\")\n",
    "    print(mywrap(row['one_sentence_summary']), end=\"\\n\\n\")\n"
   ]
  },
  {
   "cell_type": "markdown",
   "metadata": {
    "application/vnd.databricks.v1+cell": {
     "cellMetadata": {},
     "inputWidgets": {},
     "nuid": "4df5dcaf-e49c-4a12-bf34-06c9c0463f72",
     "showTitle": false,
     "title": ""
    }
   },
   "source": [
    "You may have noticed that the regression weights η are stored as \"samples\" rather than as single values.\n",
    "\n",
    "Sturdy Stats models are *Bayesian*, meaning that they keep track of uncertainty in all their parameters.\n",
    "This feature also makes Sturdy Stats models less brittle, and makes them generalize better, than models from other frameworks.\n",
    "\n",
    "We present the uncertainty in regression weight values by storing samples from the learned posterior distribution.\n",
    "We can inspect these samples to see the degree of confidence the AI model has in each association:"
   ]
  },
  {
   "cell_type": "code",
   "execution_count": 0,
   "metadata": {
    "application/vnd.databricks.v1+cell": {
     "cellMetadata": {
      "byteLimit": 2048000,
      "rowLimit": 10000
     },
     "inputWidgets": {},
     "nuid": "9a5982ae-160c-4c74-a34f-324f5cb5bf9c",
     "showTitle": false,
     "title": ""
    }
   },
   "outputs": [
    {
     "output_type": "display_data",
     "data": {
      "image/png": "[encoded data removed]",
      "text/plain": [
       "<Figure size 1000x400 with 4 Axes>"
      ]
     },
     "metadata": {},
     "output_type": "display_data"
    }
   ],
   "source": [
    "fig, axs = plt.subplots(2, 2, figsize=(10,4))\n",
    "\n",
    "bins = np.linspace(-2,4,30)\n",
    "for ax, s, title in itertools.zip_longest(axs.flat, eta_samples[j,:,idx], df_explain['short_title'], fillvalue=None):\n",
    "    if s is None:\n",
    "        ax.axis('off'); continue\n",
    "    elif ax is None:\n",
    "        continue;\n",
    "\n",
    "    ax.hist(s, density=True, alpha=0.5, label=title, bins=bins)\n",
    "\n",
    "    ax.set_title(title); ax.set_xlim(-2,4); ax.axvline(x=0.0, color='black', linewidth=1); ax.set_yticks([]);\n",
    "\n",
    "sns.despine(fig, left=True); fig.tight_layout();"
   ]
  },
  {
   "cell_type": "markdown",
   "metadata": {
    "application/vnd.databricks.v1+cell": {
     "cellMetadata": {},
     "inputWidgets": {},
     "nuid": "06484949-840d-4795-8c7e-c6251a8962db",
     "showTitle": false,
     "title": ""
    }
   },
   "source": [
    "# 9. ARBITRARY inspection\n",
    "\n",
    "We just saw how you can peer into a supervised Sturdy Stats model to see what it learned from the data and why it makes the predictions it does.\n",
    "\n",
    "However, similar functionality is availble, even for models which aren't trained!\n",
    "You can provide any two sets of documents, defined by SQL queries, and see which topics differentiate those sets of documents.\n",
    "This requires the index to be trained, but it does not require a supervised training for the distinction you are making.\n",
    "Indeed, the AI model can be entirely unsupervised for this analysis!\n",
    "\n",
    "Here, we'll provide two queries: `pred_crude>0.5` and `pred_crude<0.5`; i.e., we will look at the differences between documents predicted to be related to \"crude\" and documents predicted not to be.\n",
    "This should be similar to what we saw from the supervised model.\n",
    "\n",
    "Note that, without a supervised model, we can only look at *correlations* in this type of analysis.\n",
    "While we attempt to separate the signal from the noise, without supervised training we are unable to separate correlation from causation."
   ]
  },
  {
   "cell_type": "code",
   "execution_count": 0,
   "metadata": {
    "application/vnd.databricks.v1+cell": {
     "cellMetadata": {
      "byteLimit": 2048000,
      "rowLimit": 10000
     },
     "inputWidgets": {},
     "nuid": "0cb16804-1b42-4837-8be6-b1de82ed5efb",
     "showTitle": false,
     "title": ""
    }
   },
   "outputs": [
    {
     "output_type": "execute_result",
     "data": {
      "text/html": [
       "<div>\n",
       "<style scoped>\n",
       "    .dataframe tbody tr th:only-of-type {\n",
       "        vertical-align: middle;\n",
       "    }\n",
       "\n",
       "    .dataframe tbody tr th {\n",
       "        vertical-align: top;\n",
       "    }\n",
       "\n",
       "    .dataframe thead th {\n",
       "        text-align: right;\n",
       "    }\n",
       "</style>\n",
       "<table border=\"1\" class=\"dataframe\">\n",
       "  <thead>\n",
       "    <tr style=\"text-align: right;\">\n",
       "      <th></th>\n",
       "      <th>confidence</th>\n",
       "      <th>executive_paragraph_summary</th>\n",
       "      <th>one_sentence_summary</th>\n",
       "      <th>prevalence</th>\n",
       "      <th>prevalence_ratio</th>\n",
       "      <th>short_title</th>\n",
       "      <th>topic_group_id</th>\n",
       "      <th>topic_group_short_title</th>\n",
       "      <th>topic_id</th>\n",
       "    </tr>\n",
       "  </thead>\n",
       "  <tbody>\n",
       "    <tr>\n",
       "      <th>0</th>\n",
       "      <td>100</td>\n",
       "      <td>The examples provided showcase a series of mil...</td>\n",
       "      <td>The theme revolves around various attacks, ret...</td>\n",
       "      <td>0.055791</td>\n",
       "      <td>9.960087</td>\n",
       "      <td>Gulf War Attacks</td>\n",
       "      <td>0</td>\n",
       "      <td>Business and Government Policies</td>\n",
       "      <td>11</td>\n",
       "    </tr>\n",
       "    <tr>\n",
       "      <th>1</th>\n",
       "      <td>100</td>\n",
       "      <td>This theme showcases a series of events relate...</td>\n",
       "      <td>A collection of news stories detailing various...</td>\n",
       "      <td>0.103130</td>\n",
       "      <td>8.302635</td>\n",
       "      <td>Labour Disputes in Shipping Industry</td>\n",
       "      <td>0</td>\n",
       "      <td>Business and Government Policies</td>\n",
       "      <td>25</td>\n",
       "    </tr>\n",
       "    <tr>\n",
       "      <th>2</th>\n",
       "      <td>100</td>\n",
       "      <td>This theme delves into the agricultural export...</td>\n",
       "      <td>The theme focuses on agricultural export enhan...</td>\n",
       "      <td>0.045533</td>\n",
       "      <td>5.460525</td>\n",
       "      <td>Agricultural Export Credits</td>\n",
       "      <td>0</td>\n",
       "      <td>Business and Government Policies</td>\n",
       "      <td>27</td>\n",
       "    </tr>\n",
       "    <tr>\n",
       "      <th>3</th>\n",
       "      <td>100</td>\n",
       "      <td>The European grain trade theme focuses on the ...</td>\n",
       "      <td>The theme revolves around the European Communi...</td>\n",
       "      <td>0.060795</td>\n",
       "      <td>3.232642</td>\n",
       "      <td>European Grain Trade</td>\n",
       "      <td>0</td>\n",
       "      <td>Business and Government Policies</td>\n",
       "      <td>28</td>\n",
       "    </tr>\n",
       "    <tr>\n",
       "      <th>4</th>\n",
       "      <td>100</td>\n",
       "      <td>The theme of agricultural legislation and poli...</td>\n",
       "      <td>This theme covers various legislative actions,...</td>\n",
       "      <td>0.035546</td>\n",
       "      <td>2.802875</td>\n",
       "      <td>Agricultural Legislation and Policies</td>\n",
       "      <td>0</td>\n",
       "      <td>Business and Government Policies</td>\n",
       "      <td>13</td>\n",
       "    </tr>\n",
       "    <tr>\n",
       "      <th>5</th>\n",
       "      <td>100</td>\n",
       "      <td>The theme of precise numerical data showcases ...</td>\n",
       "      <td>The theme revolves around detailed numerical d...</td>\n",
       "      <td>0.122827</td>\n",
       "      <td>2.070913</td>\n",
       "      <td>Precise numerical data</td>\n",
       "      <td>1</td>\n",
       "      <td>Financial Market Analysis</td>\n",
       "      <td>6</td>\n",
       "    </tr>\n",
       "  </tbody>\n",
       "</table>\n",
       "</div>"
      ],
      "text/plain": [
       "   confidence  ... topic_id\n",
       "0         100  ...       11\n",
       "1         100  ...       25\n",
       "2         100  ...       27\n",
       "3         100  ...       28\n",
       "4         100  ...       13\n",
       "5         100  ...        6\n",
       "\n",
       "[6 rows x 9 columns]"
      ]
     },
     "execution_count": 135,
     "metadata": {},
     "output_type": "execute_result"
    }
   ],
   "source": [
    "info = get(f'/{index_id}/topic/diff', dict(q1=f\"pred_{label}>0.5\", q2=f\"pred_{label}<0.5\"))\n",
    "check_status(info)\n",
    "results = info.json()\n",
    "\n",
    "pd.DataFrame.from_records(results['topics'])"
   ]
  },
  {
   "cell_type": "markdown",
   "metadata": {
    "application/vnd.databricks.v1+cell": {
     "cellMetadata": {},
     "inputWidgets": {},
     "nuid": "4dc76d8e-d5a4-4f61-a347-ee1a3a957224",
     "showTitle": false,
     "title": ""
    }
   },
   "source": [
    "# Appendix A1: Comparison to scikit-learn classifiers\n",
    "\n",
    "For comparison, we'll train a scikit-learn classifier on the same data and compare results.\n",
    "This isn't a particularly meaningful comparison, but is included for completeness.\n",
    "We'll try the *Multilayer Perceptron* classifier (a feedforward neural network) and the *Multinomial Naive Bayes* (a simple statistical model); both of these are straigtforward to apply to multi-label text classification."
   ]
  },
  {
   "cell_type": "code",
   "execution_count": 0,
   "metadata": {
    "application/vnd.databricks.v1+cell": {
     "cellMetadata": {
      "byteLimit": 2048000,
      "rowLimit": 10000
     },
     "inputWidgets": {},
     "nuid": "49ad08bf-e2b8-498e-87b9-daa3c113892f",
     "showTitle": false,
     "title": ""
    }
   },
   "outputs": [
    {
     "output_type": "execute_result",
     "data": {
      "text/html": [
       "<div>\n",
       "<style scoped>\n",
       "    .dataframe tbody tr th:only-of-type {\n",
       "        vertical-align: middle;\n",
       "    }\n",
       "\n",
       "    .dataframe tbody tr th {\n",
       "        vertical-align: top;\n",
       "    }\n",
       "\n",
       "    .dataframe thead th {\n",
       "        text-align: right;\n",
       "    }\n",
       "</style>\n",
       "<table border=\"1\" class=\"dataframe\">\n",
       "  <thead>\n",
       "    <tr style=\"text-align: right;\">\n",
       "      <th></th>\n",
       "      <th>doc_id</th>\n",
       "      <th>acq</th>\n",
       "      <th>corn</th>\n",
       "      <th>crude</th>\n",
       "      <th>earn</th>\n",
       "      <th>gold</th>\n",
       "      <th>grain</th>\n",
       "      <th>interest</th>\n",
       "      <th>money-fx</th>\n",
       "      <th>ship</th>\n",
       "      <th>trade</th>\n",
       "      <th>wheat</th>\n",
       "    </tr>\n",
       "  </thead>\n",
       "  <tbody>\n",
       "    <tr>\n",
       "      <th>0</th>\n",
       "      <td>0c63275952f38426566f61a081d5d9eb</td>\n",
       "      <td>0.000730</td>\n",
       "      <td>4.952372e-07</td>\n",
       "      <td>0.000012</td>\n",
       "      <td>1.551964e-10</td>\n",
       "      <td>1.447300e-08</td>\n",
       "      <td>2.027919e-06</td>\n",
       "      <td>4.981363e-07</td>\n",
       "      <td>0.000003</td>\n",
       "      <td>2.886726e-07</td>\n",
       "      <td>0.000108</td>\n",
       "      <td>8.383128e-08</td>\n",
       "    </tr>\n",
       "    <tr>\n",
       "      <th>1</th>\n",
       "      <td>0c6e9d89636a933953d9975dadfb53e7</td>\n",
       "      <td>0.000001</td>\n",
       "      <td>9.576685e-07</td>\n",
       "      <td>0.000003</td>\n",
       "      <td>3.653961e-04</td>\n",
       "      <td>4.860202e-06</td>\n",
       "      <td>1.971839e-06</td>\n",
       "      <td>2.175343e-04</td>\n",
       "      <td>0.000070</td>\n",
       "      <td>1.971918e-06</td>\n",
       "      <td>0.000030</td>\n",
       "      <td>1.624913e-06</td>\n",
       "    </tr>\n",
       "    <tr>\n",
       "      <th>2</th>\n",
       "      <td>0c80c00a7bd3d987a43ba8d49814f8df</td>\n",
       "      <td>0.000033</td>\n",
       "      <td>2.401030e-05</td>\n",
       "      <td>0.000013</td>\n",
       "      <td>9.999124e-01</td>\n",
       "      <td>5.972036e-06</td>\n",
       "      <td>2.972790e-05</td>\n",
       "      <td>1.398992e-05</td>\n",
       "      <td>0.000037</td>\n",
       "      <td>1.813093e-05</td>\n",
       "      <td>0.000007</td>\n",
       "      <td>1.949908e-05</td>\n",
       "    </tr>\n",
       "    <tr>\n",
       "      <th>3</th>\n",
       "      <td>0c8e4f9fbac26ed04a8cdab0df80e578</td>\n",
       "      <td>0.449594</td>\n",
       "      <td>1.024204e-04</td>\n",
       "      <td>0.000159</td>\n",
       "      <td>1.420598e-03</td>\n",
       "      <td>8.084743e-05</td>\n",
       "      <td>7.765807e-05</td>\n",
       "      <td>1.200370e-04</td>\n",
       "      <td>0.001803</td>\n",
       "      <td>1.418747e-04</td>\n",
       "      <td>0.000118</td>\n",
       "      <td>4.007914e-05</td>\n",
       "    </tr>\n",
       "    <tr>\n",
       "      <th>4</th>\n",
       "      <td>0ca077c8a8f5025f2f856ecb4fd59b3a</td>\n",
       "      <td>0.004147</td>\n",
       "      <td>3.004551e-07</td>\n",
       "      <td>0.000001</td>\n",
       "      <td>1.918001e-08</td>\n",
       "      <td>4.873139e-09</td>\n",
       "      <td>3.204638e-07</td>\n",
       "      <td>7.186410e-07</td>\n",
       "      <td>0.000313</td>\n",
       "      <td>2.001611e-07</td>\n",
       "      <td>0.000075</td>\n",
       "      <td>3.225276e-08</td>\n",
       "    </tr>\n",
       "  </tbody>\n",
       "</table>\n",
       "</div>"
      ],
      "text/plain": [
       "                             doc_id       acq  ...     trade         wheat\n",
       "0  0c63275952f38426566f61a081d5d9eb  0.000730  ...  0.000108  8.383128e-08\n",
       "1  0c6e9d89636a933953d9975dadfb53e7  0.000001  ...  0.000030  1.624913e-06\n",
       "2  0c80c00a7bd3d987a43ba8d49814f8df  0.000033  ...  0.000007  1.949908e-05\n",
       "3  0c8e4f9fbac26ed04a8cdab0df80e578  0.449594  ...  0.000118  4.007914e-05\n",
       "4  0ca077c8a8f5025f2f856ecb4fd59b3a  0.004147  ...  0.000075  3.225276e-08\n",
       "\n",
       "[5 rows x 12 columns]"
      ]
     },
     "execution_count": 61,
     "metadata": {},
     "output_type": "execute_result"
    }
   ],
   "source": [
    "from sklearn.pipeline import Pipeline\n",
    "from sklearn.feature_extraction.text import CountVectorizer\n",
    "from sklearn.neural_network import MLPClassifier\n",
    "\n",
    "\n",
    "# convert the training data to a format sklearn can read:\n",
    "#\n",
    "df_train_dense = df_train['tags'].apply(lambda x: ','.join(x)).str.get_dummies(sep=',')\n",
    "df_train_dense['doc_id'] = df_train['doc_id']\n",
    "\n",
    "X = df_train['doc']\n",
    "y = df_train_dense[df_prediction.columns.drop('doc_id')]\n",
    "\n",
    "\n",
    "# construct and train an sklearn model\n",
    "#\n",
    "try:\n",
    "    # disable mlflow if on databricks\n",
    "    import mlflow\n",
    "    mlflow.autolog(disable=True)\n",
    "except:\n",
    "    pass\n",
    "\n",
    "sk_clf = Pipeline((('vec', CountVectorizer()),\n",
    "                   ('clf', MLPClassifier())))\n",
    "\n",
    "sk_clf.fit(X, y)\n",
    "\n",
    "\n",
    "# run predictions and convert back to our format\n",
    "#\n",
    "sk_pred = sk_clf.predict_proba(df_test['doc'])\n",
    "\n",
    "df_skpred = pd.DataFrame(sk_pred)\n",
    "df_skpred.columns = df_prediction.columns.drop('doc_id')\n",
    "df_skpred['doc_id'] = df_test['doc_id'].values\n",
    "df_skpred = df_skpred[df_prediction.columns]\n",
    "\n",
    "df_skpred.head()"
   ]
  },
  {
   "cell_type": "code",
   "execution_count": 0,
   "metadata": {
    "application/vnd.databricks.v1+cell": {
     "cellMetadata": {
      "byteLimit": 2048000,
      "rowLimit": 10000
     },
     "inputWidgets": {},
     "nuid": "5c8c0403-6e91-4c73-8871-74a711d3c20a",
     "showTitle": false,
     "title": ""
    }
   },
   "outputs": [
    {
     "output_type": "execute_result",
     "data": {
      "text/html": [
       "<div>\n",
       "<style scoped>\n",
       "    .dataframe tbody tr th:only-of-type {\n",
       "        vertical-align: middle;\n",
       "    }\n",
       "\n",
       "    .dataframe tbody tr th {\n",
       "        vertical-align: top;\n",
       "    }\n",
       "\n",
       "    .dataframe thead th {\n",
       "        text-align: right;\n",
       "    }\n",
       "</style>\n",
       "<table border=\"1\" class=\"dataframe\">\n",
       "  <thead>\n",
       "    <tr style=\"text-align: right;\">\n",
       "      <th></th>\n",
       "      <th>label</th>\n",
       "      <th>precision</th>\n",
       "      <th>recall</th>\n",
       "      <th>f1</th>\n",
       "      <th>AUC</th>\n",
       "    </tr>\n",
       "  </thead>\n",
       "  <tbody>\n",
       "    <tr>\n",
       "      <th>0</th>\n",
       "      <td>acq</td>\n",
       "      <td>0.953416</td>\n",
       "      <td>0.889034</td>\n",
       "      <td>0.916241</td>\n",
       "      <td>0.970160</td>\n",
       "    </tr>\n",
       "    <tr>\n",
       "      <th>1</th>\n",
       "      <td>corn</td>\n",
       "      <td>0.903399</td>\n",
       "      <td>0.582199</td>\n",
       "      <td>0.632611</td>\n",
       "      <td>0.719580</td>\n",
       "    </tr>\n",
       "    <tr>\n",
       "      <th>2</th>\n",
       "      <td>crude</td>\n",
       "      <td>0.969829</td>\n",
       "      <td>0.605450</td>\n",
       "      <td>0.662718</td>\n",
       "      <td>0.742625</td>\n",
       "    </tr>\n",
       "    <tr>\n",
       "      <th>3</th>\n",
       "      <td>earn</td>\n",
       "      <td>0.961889</td>\n",
       "      <td>0.935212</td>\n",
       "      <td>0.946261</td>\n",
       "      <td>0.961493</td>\n",
       "    </tr>\n",
       "    <tr>\n",
       "      <th>4</th>\n",
       "      <td>gold</td>\n",
       "      <td>0.995396</td>\n",
       "      <td>0.540000</td>\n",
       "      <td>0.571762</td>\n",
       "      <td>0.769131</td>\n",
       "    </tr>\n",
       "    <tr>\n",
       "      <th>5</th>\n",
       "      <td>grain</td>\n",
       "      <td>0.945338</td>\n",
       "      <td>0.667867</td>\n",
       "      <td>0.737934</td>\n",
       "      <td>0.831000</td>\n",
       "    </tr>\n",
       "    <tr>\n",
       "      <th>6</th>\n",
       "      <td>interest</td>\n",
       "      <td>0.876891</td>\n",
       "      <td>0.688294</td>\n",
       "      <td>0.748192</td>\n",
       "      <td>0.861176</td>\n",
       "    </tr>\n",
       "    <tr>\n",
       "      <th>7</th>\n",
       "      <td>money-fx</td>\n",
       "      <td>0.925749</td>\n",
       "      <td>0.757766</td>\n",
       "      <td>0.818381</td>\n",
       "      <td>0.891192</td>\n",
       "    </tr>\n",
       "    <tr>\n",
       "      <th>8</th>\n",
       "      <td>ship</td>\n",
       "      <td>0.772996</td>\n",
       "      <td>0.514959</td>\n",
       "      <td>0.522395</td>\n",
       "      <td>0.691511</td>\n",
       "    </tr>\n",
       "    <tr>\n",
       "      <th>9</th>\n",
       "      <td>trade</td>\n",
       "      <td>0.961469</td>\n",
       "      <td>0.557499</td>\n",
       "      <td>0.592990</td>\n",
       "      <td>0.747885</td>\n",
       "    </tr>\n",
       "    <tr>\n",
       "      <th>10</th>\n",
       "      <td>wheat</td>\n",
       "      <td>0.921372</td>\n",
       "      <td>0.576928</td>\n",
       "      <td>0.625606</td>\n",
       "      <td>0.756233</td>\n",
       "    </tr>\n",
       "  </tbody>\n",
       "</table>\n",
       "</div>"
      ],
      "text/plain": [
       "       label  precision    recall        f1       AUC\n",
       "0        acq   0.953416  0.889034  0.916241  0.970160\n",
       "1       corn   0.903399  0.582199  0.632611  0.719580\n",
       "2      crude   0.969829  0.605450  0.662718  0.742625\n",
       "3       earn   0.961889  0.935212  0.946261  0.961493\n",
       "4       gold   0.995396  0.540000  0.571762  0.769131\n",
       "5      grain   0.945338  0.667867  0.737934  0.831000\n",
       "6   interest   0.876891  0.688294  0.748192  0.861176\n",
       "7   money-fx   0.925749  0.757766  0.818381  0.891192\n",
       "8       ship   0.772996  0.514959  0.522395  0.691511\n",
       "9      trade   0.961469  0.557499  0.592990  0.747885\n",
       "10     wheat   0.921372  0.576928  0.625606  0.756233"
      ]
     },
     "execution_count": 62,
     "metadata": {},
     "output_type": "execute_result"
    }
   ],
   "source": [
    "records = []\n",
    "for tag in df_prediction.columns.drop('doc_id'):\n",
    "    p, r, f, _ = precision_recall_fscore_support(df_test_dense[tag].values, df_skpred[tag].values>0.5, \n",
    "                                                 average='macro', zero_division=0.0)\n",
    "    a = roc_auc_score(df_test_dense[tag].values, df_skpred[tag].values, average='macro')\n",
    "    records.append({'label': tag, 'precision': p, 'recall': r, 'f1': f, 'AUC': a})\n",
    "\n",
    "df_sk_metrics = pd.DataFrame.from_records(records)\n",
    "\n",
    "df_sk_metrics"
   ]
  },
  {
   "cell_type": "code",
   "execution_count": 0,
   "metadata": {
    "application/vnd.databricks.v1+cell": {
     "cellMetadata": {
      "byteLimit": 2048000,
      "rowLimit": 10000
     },
     "inputWidgets": {},
     "nuid": "3ec63e39-a23c-4d72-81fc-bfe0492d0022",
     "showTitle": false,
     "title": ""
    }
   },
   "outputs": [
    {
     "output_type": "display_data",
     "data": {
      "image/png": "[encoded data removed]",
      "text/plain": [
       "<Figure size 500x500 with 1 Axes>"
      ]
     },
     "metadata": {},
     "output_type": "display_data"
    }
   ],
   "source": [
    "fig, ax = plt.subplots(figsize=(5,5))\n",
    "\n",
    "ax.scatter(df_sk_metrics['AUC'], df_metrics['AUC'])\n",
    "for xx, yy, ss in zip(df_sk_metrics['AUC'], df_metrics['AUC'], df_metrics['label']):\n",
    "    ax.text(xx, yy, ss, fontsize='xx-small')\n",
    "ax.plot([0,1], [0,1], color='black', linewidth=1)\n",
    "ax.set_xlim([0.5, 1]); ax.set_ylim([0.5, 1]); ax.set_aspect(1.0)\n",
    "ax.set_xlabel('MLP Classifier AUC'); ax.set_ylabel('Sturdy Stats AUC');\n",
    "\n",
    "fig.tight_layout()"
   ]
  },
  {
   "cell_type": "code",
   "execution_count": 0,
   "metadata": {
    "application/vnd.databricks.v1+cell": {
     "cellMetadata": {
      "byteLimit": 2048000,
      "rowLimit": 10000
     },
     "inputWidgets": {},
     "nuid": "88ca6237-0565-4f2b-acd8-872d10fd0d0a",
     "showTitle": false,
     "title": ""
    }
   },
   "outputs": [
    {
     "output_type": "execute_result",
     "data": {
      "text/html": [
       "<div>\n",
       "<style scoped>\n",
       "    .dataframe tbody tr th:only-of-type {\n",
       "        vertical-align: middle;\n",
       "    }\n",
       "\n",
       "    .dataframe tbody tr th {\n",
       "        vertical-align: top;\n",
       "    }\n",
       "\n",
       "    .dataframe thead th {\n",
       "        text-align: right;\n",
       "    }\n",
       "</style>\n",
       "<table border=\"1\" class=\"dataframe\">\n",
       "  <thead>\n",
       "    <tr style=\"text-align: right;\">\n",
       "      <th></th>\n",
       "      <th>doc_id</th>\n",
       "      <th>acq</th>\n",
       "      <th>corn</th>\n",
       "      <th>crude</th>\n",
       "      <th>earn</th>\n",
       "      <th>gold</th>\n",
       "      <th>grain</th>\n",
       "      <th>interest</th>\n",
       "      <th>money-fx</th>\n",
       "      <th>ship</th>\n",
       "      <th>trade</th>\n",
       "      <th>wheat</th>\n",
       "    </tr>\n",
       "  </thead>\n",
       "  <tbody>\n",
       "    <tr>\n",
       "      <th>0</th>\n",
       "      <td>0c63275952f38426566f61a081d5d9eb</td>\n",
       "      <td>2.340450e-27</td>\n",
       "      <td>2.615912e-64</td>\n",
       "      <td>1.629835e-25</td>\n",
       "      <td>1.055060e-82</td>\n",
       "      <td>7.542532e-63</td>\n",
       "      <td>8.295734e-38</td>\n",
       "      <td>1.618994e-53</td>\n",
       "      <td>1.290659e-19</td>\n",
       "      <td>3.589083e-75</td>\n",
       "      <td>6.508249e-13</td>\n",
       "      <td>3.725141e-68</td>\n",
       "    </tr>\n",
       "    <tr>\n",
       "      <th>1</th>\n",
       "      <td>0c6e9d89636a933953d9975dadfb53e7</td>\n",
       "      <td>2.545431e-47</td>\n",
       "      <td>1.976159e-59</td>\n",
       "      <td>1.299536e-38</td>\n",
       "      <td>4.986704e-24</td>\n",
       "      <td>4.991726e-40</td>\n",
       "      <td>1.025111e-41</td>\n",
       "      <td>1.657700e-30</td>\n",
       "      <td>2.216039e-18</td>\n",
       "      <td>3.099619e-64</td>\n",
       "      <td>1.581442e-42</td>\n",
       "      <td>2.083040e-52</td>\n",
       "    </tr>\n",
       "    <tr>\n",
       "      <th>2</th>\n",
       "      <td>0c80c00a7bd3d987a43ba8d49814f8df</td>\n",
       "      <td>4.707482e-40</td>\n",
       "      <td>4.612955e-42</td>\n",
       "      <td>8.480157e-39</td>\n",
       "      <td>1.000000e+00</td>\n",
       "      <td>2.172357e-40</td>\n",
       "      <td>3.427586e-41</td>\n",
       "      <td>2.277408e-49</td>\n",
       "      <td>1.922566e-51</td>\n",
       "      <td>2.330195e-45</td>\n",
       "      <td>1.205872e-54</td>\n",
       "      <td>7.004075e-41</td>\n",
       "    </tr>\n",
       "    <tr>\n",
       "      <th>3</th>\n",
       "      <td>0c8e4f9fbac26ed04a8cdab0df80e578</td>\n",
       "      <td>1.426491e-01</td>\n",
       "      <td>1.424604e-32</td>\n",
       "      <td>2.364225e-17</td>\n",
       "      <td>1.235339e-10</td>\n",
       "      <td>1.311035e-27</td>\n",
       "      <td>8.813887e-26</td>\n",
       "      <td>9.083388e-27</td>\n",
       "      <td>5.468257e-16</td>\n",
       "      <td>1.366091e-35</td>\n",
       "      <td>2.686686e-26</td>\n",
       "      <td>4.590406e-35</td>\n",
       "    </tr>\n",
       "    <tr>\n",
       "      <th>4</th>\n",
       "      <td>0ca077c8a8f5025f2f856ecb4fd59b3a</td>\n",
       "      <td>5.566214e-23</td>\n",
       "      <td>1.204266e-66</td>\n",
       "      <td>1.476195e-35</td>\n",
       "      <td>1.244013e-67</td>\n",
       "      <td>1.372256e-61</td>\n",
       "      <td>1.778465e-46</td>\n",
       "      <td>7.254024e-46</td>\n",
       "      <td>4.926553e-12</td>\n",
       "      <td>5.514692e-74</td>\n",
       "      <td>9.981640e-01</td>\n",
       "      <td>5.144332e-82</td>\n",
       "    </tr>\n",
       "  </tbody>\n",
       "</table>\n",
       "</div>"
      ],
      "text/plain": [
       "                             doc_id           acq  ...         trade         wheat\n",
       "0  0c63275952f38426566f61a081d5d9eb  2.340450e-27  ...  6.508249e-13  3.725141e-68\n",
       "1  0c6e9d89636a933953d9975dadfb53e7  2.545431e-47  ...  1.581442e-42  2.083040e-52\n",
       "2  0c80c00a7bd3d987a43ba8d49814f8df  4.707482e-40  ...  1.205872e-54  7.004075e-41\n",
       "3  0c8e4f9fbac26ed04a8cdab0df80e578  1.426491e-01  ...  2.686686e-26  4.590406e-35\n",
       "4  0ca077c8a8f5025f2f856ecb4fd59b3a  5.566214e-23  ...  9.981640e-01  5.144332e-82\n",
       "\n",
       "[5 rows x 12 columns]"
      ]
     },
     "execution_count": 147,
     "metadata": {},
     "output_type": "execute_result"
    }
   ],
   "source": [
    "from sklearn.pipeline import Pipeline\n",
    "from sklearn.feature_extraction.text import CountVectorizer\n",
    "from sklearn.multiclass import OneVsRestClassifier\n",
    "from sklearn.naive_bayes import MultinomialNB\n",
    "\n",
    "\n",
    "# convert the training data to a format sklearn can read:\n",
    "#\n",
    "df_train_dense = df_train['tags'].apply(lambda x: ','.join(x)).str.get_dummies(sep=',')\n",
    "df_train_dense['doc_id'] = df_train['doc_id']\n",
    "\n",
    "X = df_train['doc']\n",
    "y = df_train_dense[df_prediction.columns.drop('doc_id')]\n",
    "\n",
    "\n",
    "# construct and train an sklearn model\n",
    "#\n",
    "try:\n",
    "    # disable mlflow if on databricks\n",
    "    import mlflow\n",
    "    mlflow.autolog(disable=True)\n",
    "except:\n",
    "    pass\n",
    "\n",
    "sk_clf = Pipeline((('vec', CountVectorizer()),\n",
    "                   ('clf', OneVsRestClassifier(MultinomialNB()))))\n",
    "\n",
    "sk_clf.fit(X, y)\n",
    "\n",
    "\n",
    "# run predictions and convert back to our format\n",
    "#\n",
    "sk_pred = sk_clf.predict_proba(df_test['doc'])\n",
    "\n",
    "df_skpred = pd.DataFrame(sk_pred)\n",
    "df_skpred.columns = df_prediction.columns.drop('doc_id')\n",
    "df_skpred['doc_id'] = df_test['doc_id'].values\n",
    "df_skpred = df_skpred[df_prediction.columns]\n",
    "\n",
    "df_skpred.head()"
   ]
  },
  {
   "cell_type": "code",
   "execution_count": 0,
   "metadata": {
    "application/vnd.databricks.v1+cell": {
     "cellMetadata": {
      "byteLimit": 2048000,
      "rowLimit": 10000
     },
     "inputWidgets": {},
     "nuid": "798feeb2-c278-4942-b4a7-d4fa0e13d528",
     "showTitle": false,
     "title": ""
    }
   },
   "outputs": [
    {
     "output_type": "execute_result",
     "data": {
      "text/html": [
       "<div>\n",
       "<style scoped>\n",
       "    .dataframe tbody tr th:only-of-type {\n",
       "        vertical-align: middle;\n",
       "    }\n",
       "\n",
       "    .dataframe tbody tr th {\n",
       "        vertical-align: top;\n",
       "    }\n",
       "\n",
       "    .dataframe thead th {\n",
       "        text-align: right;\n",
       "    }\n",
       "</style>\n",
       "<table border=\"1\" class=\"dataframe\">\n",
       "  <thead>\n",
       "    <tr style=\"text-align: right;\">\n",
       "      <th></th>\n",
       "      <th>label</th>\n",
       "      <th>precision</th>\n",
       "      <th>recall</th>\n",
       "      <th>f1</th>\n",
       "      <th>AUC</th>\n",
       "    </tr>\n",
       "  </thead>\n",
       "  <tbody>\n",
       "    <tr>\n",
       "      <th>0</th>\n",
       "      <td>acq</td>\n",
       "      <td>0.954598</td>\n",
       "      <td>0.930435</td>\n",
       "      <td>0.941807</td>\n",
       "      <td>0.977619</td>\n",
       "    </tr>\n",
       "    <tr>\n",
       "      <th>1</th>\n",
       "      <td>corn</td>\n",
       "      <td>0.937531</td>\n",
       "      <td>0.573708</td>\n",
       "      <td>0.621798</td>\n",
       "      <td>0.675237</td>\n",
       "    </tr>\n",
       "    <tr>\n",
       "      <th>2</th>\n",
       "      <td>crude</td>\n",
       "      <td>0.918872</td>\n",
       "      <td>0.698309</td>\n",
       "      <td>0.764847</td>\n",
       "      <td>0.854255</td>\n",
       "    </tr>\n",
       "    <tr>\n",
       "      <th>3</th>\n",
       "      <td>earn</td>\n",
       "      <td>0.952883</td>\n",
       "      <td>0.939692</td>\n",
       "      <td>0.945651</td>\n",
       "      <td>0.963594</td>\n",
       "    </tr>\n",
       "    <tr>\n",
       "      <th>4</th>\n",
       "      <td>gold</td>\n",
       "      <td>0.995495</td>\n",
       "      <td>0.550000</td>\n",
       "      <td>0.588647</td>\n",
       "      <td>0.746186</td>\n",
       "    </tr>\n",
       "    <tr>\n",
       "      <th>5</th>\n",
       "      <td>grain</td>\n",
       "      <td>0.909113</td>\n",
       "      <td>0.705361</td>\n",
       "      <td>0.769806</td>\n",
       "      <td>0.850023</td>\n",
       "    </tr>\n",
       "    <tr>\n",
       "      <th>6</th>\n",
       "      <td>interest</td>\n",
       "      <td>0.793960</td>\n",
       "      <td>0.622133</td>\n",
       "      <td>0.668806</td>\n",
       "      <td>0.835816</td>\n",
       "    </tr>\n",
       "    <tr>\n",
       "      <th>7</th>\n",
       "      <td>money-fx</td>\n",
       "      <td>0.863758</td>\n",
       "      <td>0.912092</td>\n",
       "      <td>0.886147</td>\n",
       "      <td>0.975373</td>\n",
       "    </tr>\n",
       "    <tr>\n",
       "      <th>8</th>\n",
       "      <td>ship</td>\n",
       "      <td>0.844525</td>\n",
       "      <td>0.518879</td>\n",
       "      <td>0.529742</td>\n",
       "      <td>0.679911</td>\n",
       "    </tr>\n",
       "    <tr>\n",
       "      <th>9</th>\n",
       "      <td>trade</td>\n",
       "      <td>0.860170</td>\n",
       "      <td>0.688317</td>\n",
       "      <td>0.744674</td>\n",
       "      <td>0.811298</td>\n",
       "    </tr>\n",
       "    <tr>\n",
       "      <th>10</th>\n",
       "      <td>wheat</td>\n",
       "      <td>0.817859</td>\n",
       "      <td>0.584238</td>\n",
       "      <td>0.629745</td>\n",
       "      <td>0.716932</td>\n",
       "    </tr>\n",
       "  </tbody>\n",
       "</table>\n",
       "</div>"
      ],
      "text/plain": [
       "       label  precision    recall        f1       AUC\n",
       "0        acq   0.954598  0.930435  0.941807  0.977619\n",
       "1       corn   0.937531  0.573708  0.621798  0.675237\n",
       "2      crude   0.918872  0.698309  0.764847  0.854255\n",
       "3       earn   0.952883  0.939692  0.945651  0.963594\n",
       "4       gold   0.995495  0.550000  0.588647  0.746186\n",
       "5      grain   0.909113  0.705361  0.769806  0.850023\n",
       "6   interest   0.793960  0.622133  0.668806  0.835816\n",
       "7   money-fx   0.863758  0.912092  0.886147  0.975373\n",
       "8       ship   0.844525  0.518879  0.529742  0.679911\n",
       "9      trade   0.860170  0.688317  0.744674  0.811298\n",
       "10     wheat   0.817859  0.584238  0.629745  0.716932"
      ]
     },
     "execution_count": 148,
     "metadata": {},
     "output_type": "execute_result"
    }
   ],
   "source": [
    "records = []\n",
    "for tag in df_prediction.columns.drop('doc_id'):\n",
    "    p, r, f, _ = precision_recall_fscore_support(df_test_dense[tag].values, df_skpred[tag].values>0.5, \n",
    "                                                 average='macro', zero_division=0.0)\n",
    "    a = roc_auc_score(df_test_dense[tag].values, df_skpred[tag].values, average='macro')\n",
    "    records.append({'label': tag, 'precision': p, 'recall': r, 'f1': f, 'AUC': a})\n",
    "\n",
    "df_sk_metrics = pd.DataFrame.from_records(records)\n",
    "\n",
    "df_sk_metrics"
   ]
  },
  {
   "cell_type": "code",
   "execution_count": 0,
   "metadata": {
    "application/vnd.databricks.v1+cell": {
     "cellMetadata": {
      "byteLimit": 2048000,
      "rowLimit": 10000
     },
     "inputWidgets": {},
     "nuid": "70bc09d9-c8c3-4b36-8b5f-ba8c8b3f8c10",
     "showTitle": false,
     "title": ""
    }
   },
   "outputs": [
    {
     "output_type": "display_data",
     "data": {
      "image/png": "[encoded data removed]",
      "text/plain": [
       "<Figure size 500x500 with 1 Axes>"
      ]
     },
     "metadata": {},
     "output_type": "display_data"
    }
   ],
   "source": [
    "fig, ax = plt.subplots(figsize=(5,5))\n",
    "\n",
    "ax.scatter(df_sk_metrics['AUC'], df_metrics['AUC'])\n",
    "for xx, yy, ss in zip(df_sk_metrics['AUC'], df_metrics['AUC'], df_metrics['label']):\n",
    "    ax.text(xx, yy, ss, fontsize='xx-small')\n",
    "ax.plot([0,1], [0,1], color='black', linewidth=1)\n",
    "ax.set_xlim([0.5, 1]); ax.set_ylim([0.5, 1]); ax.set_aspect(1.0)\n",
    "ax.set_xlabel('Naive Bayes Classifier AUC'); ax.set_ylabel('Sturdy Stats AUC');\n",
    "\n",
    "fig.tight_layout()"
   ]
  },
  {
   "cell_type": "code",
   "execution_count": 0,
   "metadata": {
    "application/vnd.databricks.v1+cell": {
     "cellMetadata": {},
     "inputWidgets": {},
     "nuid": "d482a096-a344-4b5d-89dc-a4bb0527dedf",
     "showTitle": false,
     "title": ""
    }
   },
   "outputs": [],
   "source": []
  }
 ],
 "metadata": {
  "application/vnd.databricks.v1+notebook": {
   "dashboards": [],
   "environmentMetadata": null,
   "language": "python",
   "notebookMetadata": {
    "pythonIndentUnit": 4
   },
   "notebookName": "Reuters Train Demo",
   "widgets": {}
  }
 },
 "nbformat": 4,
 "nbformat_minor": 0
}
