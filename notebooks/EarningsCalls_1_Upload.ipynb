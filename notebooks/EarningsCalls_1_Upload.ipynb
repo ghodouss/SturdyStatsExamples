{
 "cells": [
  {
   "cell_type": "code",
   "execution_count": 35,
   "metadata": {
    "application/vnd.databricks.v1+cell": {
     "cellMetadata": {
      "byteLimit": 2048000,
      "rowLimit": 10000
     },
     "inputWidgets": {},
     "nuid": "8bd81912-db25-4ab5-a53f-aa10bd0bb4a0",
     "showTitle": false,
     "tableResultSettingsMap": {},
     "title": ""
    }
   },
   "outputs": [],
   "source": [
    "# ! pip install sturdy-stats-sdk pandas numpy plotly seaborn"
   ]
  },
  {
   "cell_type": "code",
   "execution_count": null,
   "metadata": {
    "application/vnd.databricks.v1+cell": {
     "cellMetadata": {
      "byteLimit": 2048000,
      "rowLimit": 10000
     },
     "inputWidgets": {},
     "nuid": "21fd2543-38fd-4caa-b186-40924327ae25",
     "showTitle": false,
     "tableResultSettingsMap": {},
     "title": ""
    }
   },
   "outputs": [],
   "source": [
    "from sturdystats import Index, Job\n",
    "import pandas as pd\n",
    "import numpy as np\n",
    "\n",
    "API_KEY = None"
   ]
  },
  {
   "cell_type": "markdown",
   "metadata": {
    "application/vnd.databricks.v1+cell": {
     "cellMetadata": {},
     "inputWidgets": {},
     "nuid": "f77b0d33-220a-4f82-b13b-23bf31064e39",
     "showTitle": false,
     "tableResultSettingsMap": {},
     "title": ""
    }
   },
   "source": [
    "# 1. Load a Dataset of Earnings Calls"
   ]
  },
  {
   "cell_type": "markdown",
   "metadata": {
    "application/vnd.databricks.v1+cell": {
     "cellMetadata": {},
     "inputWidgets": {},
     "nuid": "a9d08e4e-8867-4c45-9bd3-6bf411edc16b",
     "showTitle": false,
     "tableResultSettingsMap": {},
     "title": ""
    }
   },
   "source": [
    "Earnings calls are large conference calls held by public companies following the publication of each earnings report.\n",
    "Earnings calls give investors and analysts an opportunity to ask the company for clarification about its financial performance.\n",
    "These calls, which are all publicly available, are a great source of information about companies: both what the companies highlight as major factors influencing their performance, and about what investors and analysts are most interested in learning about each company.\n",
    "\n",
    "For this demo, we have prepared a dataset containing earnings calls for the companies _Google_, _Apple_, _Meta_, _Microsoft_, and _Nvidia_ for the years 2022 &mdash; 2024.\n",
    "We have tagged each call with the stock ticker for the company, the quarter and year for the call, and the exact date the call took place.\n",
    "Since earnings calls can move the stock price, we have also tagged each earnings call with the fractional change in the stock price on the day of the call.  (E.g., a `priceDelta` of -0.02 means that the stock price opened 2% lower the day after the earnings call than it did the day of the call.)\n",
    "\n",
    "We can load and inspect the data as follows:"
   ]
  },
  {
   "cell_type": "code",
   "execution_count": null,
   "metadata": {
    "application/vnd.databricks.v1+cell": {
     "cellMetadata": {
      "byteLimit": 2048000,
      "rowLimit": 10000
     },
     "inputWidgets": {},
     "nuid": "4db7d43b-d2ed-4d66-abeb-989788ab4ceb",
     "showTitle": false,
     "tableResultSettingsMap": {},
     "title": ""
    }
   },
   "outputs": [
    {
     "data": {
      "text/html": [
       "<div>\n",
       "<style scoped>\n",
       "    .dataframe tbody tr th:only-of-type {\n",
       "        vertical-align: middle;\n",
       "    }\n",
       "\n",
       "    .dataframe tbody tr th {\n",
       "        vertical-align: top;\n",
       "    }\n",
       "\n",
       "    .dataframe thead th {\n",
       "        text-align: right;\n",
       "    }\n",
       "</style>\n",
       "<table border=\"1\" class=\"dataframe\">\n",
       "  <thead>\n",
       "    <tr style=\"text-align: right;\">\n",
       "      <th></th>\n",
       "      <th>ticker</th>\n",
       "      <th>quarter</th>\n",
       "      <th>year</th>\n",
       "      <th>doc</th>\n",
       "      <th>published</th>\n",
       "      <th>title</th>\n",
       "      <th>author</th>\n",
       "      <th>priceDelta</th>\n",
       "    </tr>\n",
       "  </thead>\n",
       "  <tbody>\n",
       "    <tr>\n",
       "      <th>0</th>\n",
       "      <td>GOOG</td>\n",
       "      <td>2024Q1</td>\n",
       "      <td>2023</td>\n",
       "      <td>Operator: Welcome, everyone. Thank you for sta...</td>\n",
       "      <td>2024-01-30</td>\n",
       "      <td>GOOG 2024Q1</td>\n",
       "      <td>GOOG</td>\n",
       "      <td>-0.091346</td>\n",
       "    </tr>\n",
       "    <tr>\n",
       "      <th>1</th>\n",
       "      <td>GOOG</td>\n",
       "      <td>2023Q4</td>\n",
       "      <td>2023</td>\n",
       "      <td>Operator: Welcome, everyone. Thank you for sta...</td>\n",
       "      <td>2023-10-24</td>\n",
       "      <td>GOOG 2023Q4</td>\n",
       "      <td>GOOG</td>\n",
       "      <td>-0.083095</td>\n",
       "    </tr>\n",
       "    <tr>\n",
       "      <th>2</th>\n",
       "      <td>GOOG</td>\n",
       "      <td>2023Q3</td>\n",
       "      <td>2023</td>\n",
       "      <td>Operator: Welcome, everyone. Thank you for sta...</td>\n",
       "      <td>2023-07-25</td>\n",
       "      <td>GOOG 2023Q3</td>\n",
       "      <td>GOOG</td>\n",
       "      <td>0.061722</td>\n",
       "    </tr>\n",
       "    <tr>\n",
       "      <th>3</th>\n",
       "      <td>GOOG</td>\n",
       "      <td>2023Q2</td>\n",
       "      <td>2023</td>\n",
       "      <td>Operator: Welcome, everyone. Thank you for sta...</td>\n",
       "      <td>2023-04-25</td>\n",
       "      <td>GOOG 2023Q2</td>\n",
       "      <td>GOOG</td>\n",
       "      <td>-0.021557</td>\n",
       "    </tr>\n",
       "    <tr>\n",
       "      <th>4</th>\n",
       "      <td>GOOG</td>\n",
       "      <td>2024Q4</td>\n",
       "      <td>2024</td>\n",
       "      <td>Operator: Welcome, everyone. Thank you for sta...</td>\n",
       "      <td>2024-10-29</td>\n",
       "      <td>GOOG 2024Q4</td>\n",
       "      <td>GOOG</td>\n",
       "      <td>0.045372</td>\n",
       "    </tr>\n",
       "  </tbody>\n",
       "</table>\n",
       "</div>"
      ],
      "text/plain": [
       "  ticker quarter  year  ...        title author priceDelta\n",
       "0   GOOG  2024Q1  2023  ...  GOOG 2024Q1   GOOG  -0.091346\n",
       "1   GOOG  2023Q4  2023  ...  GOOG 2023Q4   GOOG  -0.083095\n",
       "2   GOOG  2023Q3  2023  ...  GOOG 2023Q3   GOOG   0.061722\n",
       "3   GOOG  2023Q2  2023  ...  GOOG 2023Q2   GOOG  -0.021557\n",
       "4   GOOG  2024Q4  2024  ...  GOOG 2024Q4   GOOG   0.045372\n",
       "\n",
       "[5 rows x 8 columns]"
      ]
     },
     "execution_count": 6,
     "metadata": {},
     "output_type": "execute_result"
    }
   ],
   "source": [
    "df = pd.read_parquet(\"data/tech_earnings_calls_oct_2024.parquet\")\n",
    "df.head()"
   ]
  },
  {
   "cell_type": "markdown",
   "metadata": {
    "application/vnd.databricks.v1+cell": {
     "cellMetadata": {},
     "inputWidgets": {},
     "nuid": "fa3e5ee5-0b05-4d86-ab69-02c0a6bbcf89",
     "showTitle": false,
     "tableResultSettingsMap": {},
     "title": ""
    }
   },
   "source": [
    "And we can double-check the range of the data:"
   ]
  },
  {
   "cell_type": "code",
   "execution_count": null,
   "metadata": {
    "application/vnd.databricks.v1+cell": {
     "cellMetadata": {
      "byteLimit": 2048000,
      "rowLimit": 10000
     },
     "inputWidgets": {},
     "nuid": "9dc07447-11d2-4d29-8d09-1e006e8432be",
     "showTitle": false,
     "tableResultSettingsMap": {},
     "title": ""
    }
   },
   "outputs": [
    {
     "name": "stdout",
     "output_type": "stream",
     "text": [
      "tickers: ['GOOG' 'AAPL' 'META' 'MSFT' 'NVDA']\n",
      "\n",
      "quarters: ['2022Q2', '2022Q3', '2022Q4', '2023Q1', '2023Q2', '2023Q3', '2023Q4', '2024Q1', '2024Q2', '2024Q3', '2024Q4']\n"
     ]
    }
   ],
   "source": [
    "print('tickers:', df.ticker.unique(), end=\"\\n\\n\")\n",
    "\n",
    "print('quarters:', sorted(df.quarter.unique()))"
   ]
  },
  {
   "cell_type": "markdown",
   "metadata": {
    "application/vnd.databricks.v1+cell": {
     "cellMetadata": {},
     "inputWidgets": {},
     "nuid": "b0d305dc-bc9b-4dea-b3c4-f07753c06c82",
     "showTitle": false,
     "tableResultSettingsMap": {},
     "title": ""
    }
   },
   "source": [
    "We can see that the call transcripts are about 10,000 words:"
   ]
  },
  {
   "cell_type": "code",
   "execution_count": null,
   "metadata": {
    "application/vnd.databricks.v1+cell": {
     "cellMetadata": {
      "byteLimit": 2048000,
      "rowLimit": 10000
     },
     "inputWidgets": {},
     "nuid": "cb26ac3f-bbda-4657-b19c-3cf675d1acc5",
     "showTitle": false,
     "tableResultSettingsMap": {},
     "title": ""
    }
   },
   "outputs": [
    {
     "data": {
      "image/png": "[encoded data removed]",
      "text/plain": [
       "<Figure size 640x480 with 1 Axes>"
      ]
     },
     "metadata": {},
     "output_type": "display_data"
    }
   ],
   "source": [
    "import seaborn as sns\n",
    "ax = sns.histplot(df['doc'].apply(lambda x: len(x.split())), bins=5)\n",
    "ax.set_xlabel('word count'); ax.set_ylabel('number of transcripts');"
   ]
  },
  {
   "cell_type": "markdown",
   "metadata": {
    "application/vnd.databricks.v1+cell": {
     "cellMetadata": {},
     "inputWidgets": {},
     "nuid": "f6a3d43b-9aa3-4279-a27f-d5149b98b2f7",
     "showTitle": false,
     "tableResultSettingsMap": {},
     "title": ""
    }
   },
   "source": [
    "And we can take a look at the content:\n",
    "\n",
    "(For the full transcript in pdf format, see the investor relations page for Alphabet: [2024-q2-earnings-transcript.pdf](https://abc.xyz/assets/bd/7b/d57831684953be8bcc2c5a42aee8/2024-q2-earnings-transcript.pdf))"
   ]
  },
  {
   "cell_type": "code",
   "execution_count": null,
   "metadata": {
    "application/vnd.databricks.v1+cell": {
     "cellMetadata": {},
     "inputWidgets": {},
     "nuid": "db88b491-1460-4e6a-979e-fda6a038290b",
     "showTitle": false,
     "tableResultSettingsMap": {},
     "title": ""
    }
   },
   "outputs": [
    {
     "name": "stdout",
     "output_type": "stream",
     "text": [
      "Operator: Welcome, everyone. Thank you for standing by for the Alphabet Fourth Quarter 2023 Earnings Conference Call. [Operator Instructions] \n",
      " I would now like to hand the conference over to your speaker today, Jim Friedland, Director of Investor Relations. Please go ahead. \n",
      "James Friedland: Thank you. Good afternoon, everyone, and welcome to Alphabet's Fourth Quarter 2023 Earnings Conference Call. With us today are Sundar Pichai, Philipp Schindler and Ruth Porat. \n",
      " Now I'll quickly cover the safe harbor. Some of the statements that we make today regarding our business, operations and financial performance may be considered forward-looking. Such statements are based on current expectations and assumptions that are subject to a number of risks and uncertainties. Actual results could differ materially. Please refer to our Forms 10-K and 10-Q, including the risk factors discussed in our upcoming Form 10-K filing for the year ended December 31, 2023. We undertake no obligation to update any forward-looking statement. \n",
      " During this call, we will present both GAAP and non-GAAP financial measures. A reconciliation of non-GAAP to GAAP measures is included in today's earnings press release, which is distributed and available to the public through our Investor Relations website located at abc.xyz/investor. Our comments will be on year-over-year comparisons unless we state otherwise. \n",
      " And now I'll turn the call over to Sundar. \n",
      "Sundar Pichai: Hello, everyone. Our results reflect strong momentum and product innovation continuing into 2024. Today, I'm going to talk about four main topics. One, our investments in AI, including how it's helping Search; two, subscriptions, which reached $15 billion in annual revenue, up 5x since 2019. Subscriptions is growing strongly powered by YouTube Premium and Music, YouTube TV and Google One. Three, Cloud, which crossed $9 billion in revenues this quarter and saw accelerated growth driven by our GenAI and product leadership; and four, our i\n"
     ]
    }
   ],
   "source": [
    "print(df.doc.iloc[0][:2000])"
   ]
  },
  {
   "cell_type": "markdown",
   "metadata": {
    "application/vnd.databricks.v1+cell": {
     "cellMetadata": {},
     "inputWidgets": {},
     "nuid": "c8274179-7e99-4ea5-ae6e-4b5f385d85ee",
     "showTitle": false,
     "tableResultSettingsMap": {},
     "title": ""
    }
   },
   "source": [
    "# 2. Create an index and upload data\n",
    "\n"
   ]
  },
  {
   "cell_type": "markdown",
   "metadata": {
    "application/vnd.databricks.v1+cell": {
     "cellMetadata": {},
     "inputWidgets": {},
     "nuid": "3dd73de2-8cc4-4104-962a-9e1d61c937ad",
     "showTitle": false,
     "tableResultSettingsMap": {},
     "title": ""
    }
   },
   "source": [
    "The basic unit for Sturdy Statistics workflows is the _index_.\n",
    "An index stores your data, indexes it for search, and allows you to query your data using SQL.\n",
    "An index also allows you to train our machine learning models for more sophisticated analysis.\n",
    "\n",
    "Indexes are private to your API key, and each index associated with your API key has a unique _name_ and a unique identifier known as the _index_id_.\n",
    "For this demo, we&rsquo;ll go ahead and make a new index with the name `demo_tech_earnings_calls_v1`:"
   ]
  },
  {
   "cell_type": "code",
   "execution_count": null,
   "metadata": {
    "application/vnd.databricks.v1+cell": {
     "cellMetadata": {
      "byteLimit": 2048000,
      "rowLimit": 10000
     },
     "inputWidgets": {},
     "nuid": "760cc623-29c2-4d62-a750-343100927bd9",
     "showTitle": false,
     "tableResultSettingsMap": {},
     "title": ""
    }
   },
   "outputs": [
    {
     "name": "stdout",
     "output_type": "stream",
     "text": [
      "Found an existing index with id=\"index_05a7cb07da764f0f81397b39ce65ab06\".\n"
     ]
    },
    {
     "data": {
      "text/plain": [
       "{'index_id': 'index_05a7cb07da764f0f81397b39ce65ab06',\n",
       " 'name': 'demo_tech_earnings_calls__v1',\n",
       " 'state': 'ready'}"
      ]
     },
     "execution_count": 27,
     "metadata": {},
     "output_type": "execute_result"
    }
   ],
   "source": [
    "index = Index(API_key=API_KEY, name=\"demo_tech_earnings_calls_v1\")\n",
    "index.get_status()"
   ]
  },
  {
   "cell_type": "markdown",
   "metadata": {
    "application/vnd.databricks.v1+cell": {
     "cellMetadata": {},
     "inputWidgets": {},
     "nuid": "de43ec46-9bf9-4099-8ccd-dc4f1afd443b",
     "showTitle": false,
     "tableResultSettingsMap": {},
     "title": ""
    }
   },
   "source": [
    "We can see that Sturdy Statistics has automatically assigned us an `index_id`.\n",
    "If we want to access this index later, we can look it up by name, or we can retrieve it directly by the `index_id`.\n",
    "\n",
    "We can also see that this index has a state `'untrained'`.\n",
    "Not for long!"
   ]
  },
  {
   "cell_type": "markdown",
   "metadata": {
    "application/vnd.databricks.v1+cell": {
     "cellMetadata": {},
     "inputWidgets": {},
     "nuid": "51cd9a86-1f51-4e3a-b28c-f4cb1b9f92d9",
     "showTitle": false,
     "tableResultSettingsMap": {},
     "title": ""
    }
   },
   "source": [
    "## Upload the data"
   ]
  },
  {
   "cell_type": "markdown",
   "metadata": {
    "application/vnd.databricks.v1+cell": {
     "cellMetadata": {},
     "inputWidgets": {},
     "nuid": "a0aac896-8858-4499-adce-b2c9db034ac0",
     "showTitle": false,
     "tableResultSettingsMap": {},
     "title": ""
    }
   },
   "source": [
    "The upload accepts a list of dictionaries (JSON records format).\n",
    "Our only requirement is a plain-text field named `doc` which contains the text you want to analyze.\n",
    "You can optionally provide a `doc_id` identifier for each document; if you do not provide one, we will generate one for you.\n",
    "\n",
    "If you specify a `doc_id` which already exists, you can append metadata to the document (by leaving the `doc` field blank), or overwrite the `doc` content for that document (by placing new content in the `doc` field.)\n",
    "\n",
    "The next two examples demonstrate the JSON records format:"
   ]
  },
  {
   "cell_type": "code",
   "execution_count": null,
   "metadata": {
    "application/vnd.databricks.v1+cell": {
     "cellMetadata": {
      "byteLimit": 2048000,
      "rowLimit": 10000
     },
     "inputWidgets": {},
     "nuid": "41709c08-017f-4bbf-ad5b-3d8bf0f62715",
     "showTitle": false,
     "tableResultSettingsMap": {},
     "title": ""
    }
   },
   "outputs": [
    {
     "data": {
      "text/html": [
       "<pre style=\"white-space:pre;overflow-x:auto;line-height:normal;font-family:Menlo,'DejaVu Sans Mono',consolas,'Courier New',monospace\"><span style=\"font-weight: bold\">[</span>\n",
       "    <span style=\"font-weight: bold\">{</span>\n",
       "        <span style=\"color: #008000; text-decoration-color: #008000\">'ticker'</span>: <span style=\"color: #008000; text-decoration-color: #008000\">'GOOG'</span>,\n",
       "        <span style=\"color: #008000; text-decoration-color: #008000\">'quarter'</span>: <span style=\"color: #008000; text-decoration-color: #008000\">'2024Q1'</span>,\n",
       "        <span style=\"color: #008000; text-decoration-color: #008000\">'year'</span>: <span style=\"color: #008080; text-decoration-color: #008080; font-weight: bold\">2023</span>,\n",
       "        <span style=\"color: #008000; text-decoration-color: #008000\">'doc'</span>: <span style=\"color: #008000; text-decoration-color: #008000\">'Operator: Welcome, everyone. Thank you for standing by for the Alphabet Fourth Q'</span>+<span style=\"color: #008080; text-decoration-color: #008080; font-weight: bold\">50272</span>,\n",
       "        <span style=\"color: #008000; text-decoration-color: #008000\">'published'</span>: <span style=\"color: #008000; text-decoration-color: #008000\">'2024-01-30'</span>,\n",
       "        <span style=\"color: #008000; text-decoration-color: #008000\">'title'</span>: <span style=\"color: #008000; text-decoration-color: #008000\">'GOOG 2024Q1'</span>,\n",
       "        <span style=\"color: #008000; text-decoration-color: #008000\">'author'</span>: <span style=\"color: #008000; text-decoration-color: #008000\">'GOOG'</span>,\n",
       "        <span style=\"color: #008000; text-decoration-color: #008000\">'priceDelta'</span>: <span style=\"color: #008080; text-decoration-color: #008080; font-weight: bold\">-0.09134566261367119</span>\n",
       "    <span style=\"font-weight: bold\">}</span>,\n",
       "    <span style=\"font-weight: bold\">{</span>\n",
       "        <span style=\"color: #008000; text-decoration-color: #008000\">'ticker'</span>: <span style=\"color: #008000; text-decoration-color: #008000\">'GOOG'</span>,\n",
       "        <span style=\"color: #008000; text-decoration-color: #008000\">'quarter'</span>: <span style=\"color: #008000; text-decoration-color: #008000\">'2023Q4'</span>,\n",
       "        <span style=\"color: #008000; text-decoration-color: #008000\">'year'</span>: <span style=\"color: #008080; text-decoration-color: #008080; font-weight: bold\">2023</span>,\n",
       "        <span style=\"color: #008000; text-decoration-color: #008000\">'doc'</span>: <span style=\"color: #008000; text-decoration-color: #008000\">'Operator: Welcome, everyone. Thank you for standing by for the Alphabet Third Qu'</span>+<span style=\"color: #008080; text-decoration-color: #008080; font-weight: bold\">46212</span>,\n",
       "        <span style=\"color: #008000; text-decoration-color: #008000\">'published'</span>: <span style=\"color: #008000; text-decoration-color: #008000\">'2023-10-24'</span>,\n",
       "        <span style=\"color: #008000; text-decoration-color: #008000\">'title'</span>: <span style=\"color: #008000; text-decoration-color: #008000\">'GOOG 2023Q4'</span>,\n",
       "        <span style=\"color: #008000; text-decoration-color: #008000\">'author'</span>: <span style=\"color: #008000; text-decoration-color: #008000\">'GOOG'</span>,\n",
       "        <span style=\"color: #008000; text-decoration-color: #008000\">'priceDelta'</span>: <span style=\"color: #008080; text-decoration-color: #008080; font-weight: bold\">-0.08309488382740071</span>\n",
       "    <span style=\"font-weight: bold\">}</span>\n",
       "<span style=\"font-weight: bold\">]</span>\n",
       "</pre>\n"
      ],
      "text/plain": [
       "\u001b[1m[\u001b[0m\n",
       "    \u001b[1m{\u001b[0m\n",
       "        \u001b[32m'ticker'\u001b[0m: \u001b[32m'GOOG'\u001b[0m,\n",
       "        \u001b[32m'quarter'\u001b[0m: \u001b[32m'2024Q1'\u001b[0m,\n",
       "        \u001b[32m'year'\u001b[0m: \u001b[1;36m2023\u001b[0m,\n",
       "        \u001b[32m'doc'\u001b[0m: \u001b[32m'Operator: Welcome, everyone. Thank you for standing by for the Alphabet Fourth Q'\u001b[0m+\u001b[1;36m50272\u001b[0m,\n",
       "        \u001b[32m'published'\u001b[0m: \u001b[32m'2024-01-30'\u001b[0m,\n",
       "        \u001b[32m'title'\u001b[0m: \u001b[32m'GOOG 2024Q1'\u001b[0m,\n",
       "        \u001b[32m'author'\u001b[0m: \u001b[32m'GOOG'\u001b[0m,\n",
       "        \u001b[32m'priceDelta'\u001b[0m: \u001b[1;36m-0.09134566261367119\u001b[0m\n",
       "    \u001b[1m}\u001b[0m,\n",
       "    \u001b[1m{\u001b[0m\n",
       "        \u001b[32m'ticker'\u001b[0m: \u001b[32m'GOOG'\u001b[0m,\n",
       "        \u001b[32m'quarter'\u001b[0m: \u001b[32m'2023Q4'\u001b[0m,\n",
       "        \u001b[32m'year'\u001b[0m: \u001b[1;36m2023\u001b[0m,\n",
       "        \u001b[32m'doc'\u001b[0m: \u001b[32m'Operator: Welcome, everyone. Thank you for standing by for the Alphabet Third Qu'\u001b[0m+\u001b[1;36m46212\u001b[0m,\n",
       "        \u001b[32m'published'\u001b[0m: \u001b[32m'2023-10-24'\u001b[0m,\n",
       "        \u001b[32m'title'\u001b[0m: \u001b[32m'GOOG 2023Q4'\u001b[0m,\n",
       "        \u001b[32m'author'\u001b[0m: \u001b[32m'GOOG'\u001b[0m,\n",
       "        \u001b[32m'priceDelta'\u001b[0m: \u001b[1;36m-0.08309488382740071\u001b[0m\n",
       "    \u001b[1m}\u001b[0m\n",
       "\u001b[1m]\u001b[0m\n"
      ]
     },
     "metadata": {},
     "output_type": "display_data"
    }
   ],
   "source": [
    "from rich.pretty import pprint\n",
    "pprint(df.iloc[:2].to_dict(orient='records'), max_string=80, indent_guides=False)"
   ]
  },
  {
   "cell_type": "markdown",
   "metadata": {
    "application/vnd.databricks.v1+cell": {
     "cellMetadata": {},
     "inputWidgets": {},
     "nuid": "07105ba5-f2c7-497d-8535-eca5df54354b",
     "showTitle": false,
     "tableResultSettingsMap": {},
     "title": ""
    }
   },
   "source": [
    "And we can perform the upload as follows:"
   ]
  },
  {
   "cell_type": "code",
   "execution_count": null,
   "metadata": {
    "application/vnd.databricks.v1+cell": {
     "cellMetadata": {},
     "inputWidgets": {},
     "nuid": "777a3055-7da2-485b-bb80-acdf2d93bfe0",
     "showTitle": false,
     "tableResultSettingsMap": {},
     "title": ""
    }
   },
   "outputs": [
    {
     "name": "stdout",
     "output_type": "stream",
     "text": [
      "Uploading data to UNTRAINED index for training.\n",
      "uploading data to index...\n",
      "committing changes to index \"index_05a7cb07da764f0f81397b39ce65ab06\"..."
     ]
    }
   ],
   "source": [
    "res = index.upload(df.to_dict(\"records\"))"
   ]
  },
  {
   "cell_type": "markdown",
   "metadata": {
    "application/vnd.databricks.v1+cell": {
     "cellMetadata": {},
     "inputWidgets": {},
     "nuid": "0409c8b3-dfa7-4528-b144-c45a0588189b",
     "showTitle": false,
     "tableResultSettingsMap": {},
     "title": ""
    }
   },
   "source": [
    "Note that the index status is now `'ready'`.\n",
    "This means we can now query our data, or train a model.\n",
    "\n",
    "Our main goal is to train a model, but we&rsquo;ll start with a few examples how to query an untrained index:"
   ]
  },
  {
   "cell_type": "code",
   "execution_count": null,
   "metadata": {
    "application/vnd.databricks.v1+cell": {
     "cellMetadata": {
      "byteLimit": 2048000,
      "rowLimit": 10000
     },
     "inputWidgets": {},
     "nuid": "ea779138-c876-47c2-b33f-aeca8a66f0cf",
     "showTitle": false,
     "tableResultSettingsMap": {},
     "title": ""
    }
   },
   "outputs": [
    {
     "data": {
      "text/plain": [
       "{'index_id': 'index_05a7cb07da764f0f81397b39ce65ab06',\n",
       " 'name': 'demo_tech_earnings_calls__v1',\n",
       " 'state': 'ready'}"
      ]
     },
     "execution_count": 28,
     "metadata": {},
     "output_type": "execute_result"
    }
   ],
   "source": [
    "index.get_status()"
   ]
  },
  {
   "cell_type": "markdown",
   "metadata": {
    "application/vnd.databricks.v1+cell": {
     "cellMetadata": {},
     "inputWidgets": {},
     "nuid": "dcdfae83-b232-4df4-958b-a5c8f69befa1",
     "showTitle": false,
     "tableResultSettingsMap": {},
     "title": ""
    }
   },
   "source": [
    "## Query the data\n",
    "\n",
    "We can immediately query any uploaded data via standard SQL.\n",
    "This dataset does not contain very rich metadata; as a result, querying this data is not (yet) particularly interesting.\n",
    "\n",
    "The following examples demonstrate how to handle discrete and real-valued metadata fields:"
   ]
  },
  {
   "cell_type": "code",
   "execution_count": null,
   "metadata": {
    "application/vnd.databricks.v1+cell": {
     "cellMetadata": {
      "byteLimit": 2048000,
      "rowLimit": 10000
     },
     "inputWidgets": {},
     "nuid": "b02b6eb6-7c6d-4bfa-b47e-d08be6e64517",
     "showTitle": false,
     "tableResultSettingsMap": {},
     "title": ""
    }
   },
   "outputs": [
    {
     "data": {
      "text/plain": [
       "[{'quarter': '2022Q2', 'c': 1},\n",
       " {'quarter': '2022Q3', 'c': 1},\n",
       " {'quarter': '2022Q4', 'c': 2},\n",
       " {'quarter': '2023Q1', 'c': 3},\n",
       " {'quarter': '2023Q2', 'c': 5},\n",
       " {'quarter': '2023Q3', 'c': 5},\n",
       " {'quarter': '2023Q4', 'c': 5},\n",
       " {'quarter': '2024Q1', 'c': 5},\n",
       " {'quarter': '2024Q2', 'c': 4},\n",
       " {'quarter': '2024Q3', 'c': 4},\n",
       " {'quarter': '2024Q4', 'c': 2}]"
      ]
     },
     "execution_count": 29,
     "metadata": {},
     "output_type": "execute_result"
    }
   ],
   "source": [
    "index.queryMeta(\"SELECT quarter, count(*) as c FROM doc_meta GROUP BY quarter ORDER BY quarter\" )"
   ]
  },
  {
   "cell_type": "code",
   "execution_count": null,
   "metadata": {
    "application/vnd.databricks.v1+cell": {
     "cellMetadata": {
      "byteLimit": 2048000,
      "rowLimit": 10000
     },
     "inputWidgets": {},
     "nuid": "c1de52e8-47ae-4190-8cef-c5a61e3d9cf8",
     "showTitle": false,
     "tableResultSettingsMap": {},
     "title": ""
    }
   },
   "outputs": [
    {
     "data": {
      "text/plain": [
       "[{'min(priceDelta)': -0.11673849042112898,\n",
       "  'median(priceDelta)': 0.015287205521647368,\n",
       "  'mean(priceDelta)': 0.020768983716843673,\n",
       "  'max(priceDelta)': 0.212319790300389}]"
      ]
     },
     "execution_count": 41,
     "metadata": {},
     "output_type": "execute_result"
    }
   ],
   "source": [
    "index.queryMeta(\"SELECT min(priceDelta), median(priceDelta), mean(priceDelta), max(priceDelta) FROM doc_meta\")"
   ]
  },
  {
   "cell_type": "code",
   "execution_count": null,
   "metadata": {
    "application/vnd.databricks.v1+cell": {
     "cellMetadata": {
      "byteLimit": 2048000,
      "rowLimit": 10000
     },
     "inputWidgets": {},
     "nuid": "03124387-c942-410f-aeb6-391cb368d076",
     "showTitle": false,
     "tableResultSettingsMap": {},
     "title": ""
    }
   },
   "outputs": [
    {
     "data": {
      "text/plain": [
       "[{'ticker': 'META', 'quarter': '2024Q2', 'priceDelta': -0.11673849042112898}]"
      ]
     },
     "execution_count": 38,
     "metadata": {},
     "output_type": "execute_result"
    }
   ],
   "source": [
    "# who had the worst day?\n",
    "#\n",
    "index.queryMeta(\"\"\"\n",
    "SELECT ticker, quarter, priceDelta \n",
    "FROM doc_meta \n",
    "WHERE priceDelta = \n",
    "    (SELECT min(priceDelta) FROM doc_meta)\n",
    "\"\"\")"
   ]
  },
  {
   "cell_type": "code",
   "execution_count": null,
   "metadata": {
    "application/vnd.databricks.v1+cell": {
     "cellMetadata": {
      "byteLimit": 2048000,
      "rowLimit": 10000
     },
     "inputWidgets": {},
     "nuid": "5a4107ac-5e91-496a-9cb3-896fcbd4f1ba",
     "showTitle": false,
     "tableResultSettingsMap": {},
     "title": ""
    }
   },
   "outputs": [
    {
     "data": {
      "text/plain": [
       "[{'ticker': 'NVDA', 'quarter': '2023Q2', 'priceDelta': 0.212319790300389}]"
      ]
     },
     "execution_count": 39,
     "metadata": {},
     "output_type": "execute_result"
    }
   ],
   "source": [
    "# who had the best day?\n",
    "#\n",
    "index.queryMeta(\"\"\"\n",
    "SELECT ticker, quarter, priceDelta \n",
    "FROM doc_meta \n",
    "WHERE priceDelta = \n",
    "    (SELECT max(priceDelta) FROM doc_meta)\n",
    "\"\"\")"
   ]
  },
  {
   "cell_type": "markdown",
   "metadata": {
    "application/vnd.databricks.v1+cell": {
     "cellMetadata": {},
     "inputWidgets": {},
     "nuid": "1c77c478-4e82-4c89-8fcd-b21664b9d349",
     "showTitle": false,
     "tableResultSettingsMap": {},
     "title": ""
    }
   },
   "source": [
    "As we will see below, querying this dataset becomes extremely powerful once we train an AI model on this index.\n",
    "\n",
    "The Sturdy Statistics AI model identifies recurring themes in the dataset, and indexes each document according to its thematic content.\n",
    "This process actually _structures_ the otherwise unstructed data in the `doc` field, permitting you to analyze the document content using the same SQL tools that you would use for the structured metadata fields.\n",
    "\n",
    "Our approach unifies the unstructured document content with the metadata, allowing you to perform powerful analyses."
   ]
  },
  {
   "cell_type": "markdown",
   "metadata": {
    "application/vnd.databricks.v1+cell": {
     "cellMetadata": {},
     "inputWidgets": {},
     "nuid": "796156c9-701d-491f-8425-05b152338cb1",
     "showTitle": false,
     "tableResultSettingsMap": {},
     "title": ""
    }
   },
   "source": [
    "# 3. Train an AI model"
   ]
  },
  {
   "cell_type": "markdown",
   "metadata": {
    "application/vnd.databricks.v1+cell": {
     "cellMetadata": {},
     "inputWidgets": {},
     "nuid": "fa924748-fea4-4d68-b05f-d3bc232dd590",
     "showTitle": false,
     "tableResultSettingsMap": {},
     "title": ""
    }
   },
   "source": [
    "Training requires no parameters at all&hellip; if you wish, you can automatically structure your data with a simple `index.train()`.\n",
    "However, our model can take advantage of more information about the data if you choose to provide it.\n",
    "We will refine the training using two optional arguments: `regex_paragraph_splitter` and `doc_hierarchy`.\n",
    "\n",
    "The simpler of the two is `regex_paragraph_splitter`: this argument allows the user to provide a regex string which splits each document into paragraphs.\n",
    "When you do this, we will infer the thematic content of each paragraph as well as for the document as a whole.\n",
    "This enables more fine-grained search and analysis: for example, if some document as a whole is not particularly relevant to your query, but it contains a single paragraph which is highly pertinent, this chunking will enable us to rank it more appropriately.\n",
    "The earnings calls have been cleanly formatted, and paragraphs always begin on new lines, so we can simply specify `regex_paragraph_splitter=\"\\n\"`.\n",
    "(Note that this must be set for your particular dataset; if the text were filled to a fixed width, we would instead use `\"^\\n\\t\"`, or if paragraphs followed empty lines, we would use `\"\\n\\n\"`.)\n",
    "\n",
    "Though the parameter is called a &ldquo;paragraph&rdquo; splitter, you can choose any semantic unit that is appropriate for your analysis.\n",
    "For earnings calls, as for most documents, we expect paragraphs to be the most helpful semantic unit.\n",
    "However, if you&rsquo;re working with _very_ long documents which have section or chapter divisions, you might consider using those divisions instead.\n",
    "\n",
    "TODO: The `doc_hierarchy` parameter is more subtle: you can check the documentation (LINK) or this notebook (LINK) which dives into it.\n",
    "\n",
    "With all of that out of the way, we can go ahead and kick off training:"
   ]
  },
  {
   "cell_type": "code",
   "execution_count": null,
   "metadata": {
    "application/vnd.databricks.v1+cell": {
     "cellMetadata": {},
     "inputWidgets": {},
     "nuid": "f485693a-49e0-42ca-80be-b90b59264c35",
     "showTitle": false,
     "tableResultSettingsMap": {},
     "title": ""
    }
   },
   "outputs": [],
   "source": [
    "doc_hierarchy = [\"quarter\", \"ticker\"]\n",
    "regex_paragraph_splitter = \"\\n\"\n",
    "job = index.train(dict(doc_hierarchy=doc_hierarchy, regex_paragraph_splitter=regex_paragraph_splitter), wait=False)\n",
    "job.get_status()"
   ]
  },
  {
   "cell_type": "markdown",
   "metadata": {
    "application/vnd.databricks.v1+cell": {
     "cellMetadata": {},
     "inputWidgets": {},
     "nuid": "e577e719-35f3-4594-af91-564d88aaacb3",
     "showTitle": false,
     "tableResultSettingsMap": {},
     "title": ""
    }
   },
   "source": [
    "## Crunching the numbers\n",
    "Because we set `wait=False`, the train function call returns immediately with a `job` object.\n",
    "This object allows us to poll the training job and check its status.\n",
    "Training time scales linearly with the number of tokens in your dataset; it can take anywhere from a few minutes to &sim;48 hours.\n",
    "\n",
    "We are training a custom model tuned to your data and your data alone.\n",
    "Our Bayesian deep learning algorithm hierarchically organizes your data and identifies the data&rsquo;s recurring themes.\n",
    "The model then orgainizes these themes into a discrete set of topics, and tags each word, sentence, paragraph, document with its thematic content.\n",
    "\n",
    "While you wait for your model to finish training, we can take a look at one we have already trained:"
   ]
  },
  {
   "cell_type": "markdown",
   "metadata": {
    "application/vnd.databricks.v1+cell": {
     "cellMetadata": {},
     "inputWidgets": {},
     "nuid": "f245531d-7869-4cd6-9828-db1569da1c9f",
     "showTitle": false,
     "tableResultSettingsMap": {},
     "title": ""
    }
   },
   "source": [
    "You can then analyze this thematic content however you wish, including comparing it with any structured metadata you provide.\n",
    "By its very nature, this statistical structure does not hallucinate, and it readily permits quantitative analysis on unstructured data. \n",
    "\n",
    "Once a model is trained, all future uploads will automatically be indexed using the same statistical structure.\n",
    "\n",
    "In a follow-on notebook, we will dive deeper into the sorts of analysis you can do with this thematic data.\n",
    "\n",
    "While you wait, you can explore a model that has already been trained on this dataset here: https://sturdystatistics.com/analyze?folder_id=index_05a7cb07da764f0f81397b39ce65ab06&comp_fields=ticker,quarter&max_excerpts_per_doc=5&bar_plot_fields=ticker,quarter\n"
   ]
  },
  {
   "cell_type": "markdown",
   "metadata": {
    "application/vnd.databricks.v1+cell": {
     "cellMetadata": {},
     "inputWidgets": {},
     "nuid": "79aca5f7-26aa-4f62-b63c-2ea95e0fabe9",
     "showTitle": false,
     "tableResultSettingsMap": {},
     "title": ""
    }
   },
   "source": [
    "# 4. Explore your data!"
   ]
  },
  {
   "cell_type": "markdown",
   "metadata": {
    "application/vnd.databricks.v1+cell": {
     "cellMetadata": {},
     "inputWidgets": {},
     "nuid": "1da27848-f444-458d-a59a-964d893394de",
     "showTitle": false,
     "tableResultSettingsMap": {},
     "title": ""
    }
   },
   "source": [
    "Once the job is done, you can explore your data using our website&rsquo;s dashboard!\n",
    "\n",
    "If you wish, you can also use SQL expressions to build out your own visualizations; we will demonstrate this in a separate notebook."
   ]
  },
  {
   "cell_type": "code",
   "execution_count": null,
   "metadata": {
    "application/vnd.databricks.v1+cell": {
     "cellMetadata": {},
     "inputWidgets": {},
     "nuid": "5eda4c1f-37f2-4dd7-9224-57bc8c7e51f7",
     "showTitle": false,
     "tableResultSettingsMap": {},
     "title": ""
    }
   },
   "outputs": [
    {
     "name": "stdout",
     "output_type": "stream",
     "text": [
      "index_id: index_05a7cb07da764f0f81397b39ce65ab06\n"
     ]
    },
    {
     "data": {
      "text/plain": [
       "'https://sturdystatistics.com/analyze?folder_id=index_05a7cb07da764f0f81397b39ce65ab06&comp_fields=ticker,quarter&max_excerpts_per_doc=5&bar_plot_fields=ticker,quarter'"
      ]
     },
     "execution_count": 79,
     "metadata": {},
     "output_type": "execute_result"
    }
   ],
   "source": [
    "def getURL(index_id, api_key):\n",
    "    url = f\"https://sturdystatistics.com/analyze?folder_id={index_id}&comp_fields=ticker,quarter&max_excerpts_per_doc=5&bar_plot_fields=ticker,quarter\"\n",
    "    if api_key is not None:\n",
    "        url += f\"&api_key={api_key}\"\n",
    "    return url\n",
    "print(\"index_id:\", index.id)\n",
    "getURL(index.id, API_KEY)\n",
    "job.wait()"
   ]
  },
  {
   "cell_type": "markdown",
   "metadata": {
    "application/vnd.databricks.v1+cell": {
     "cellMetadata": {},
     "inputWidgets": {},
     "nuid": "668fb4e3-bac4-4fcb-b65f-0ecde2b0f9dd",
     "showTitle": false,
     "tableResultSettingsMap": {},
     "title": ""
    }
   },
   "source": [
    "# 5. Next Steps\n",
    "\n",
    "We have a series of additional notebooks in this series\n",
    "1. Upload the data\n",
    "2. Build Visualizations\n",
    "3. Throw our dirty old RAGs: Use Topic Augmented Generation to supercharge LLMs. "
   ]
  },
  {
   "cell_type": "code",
   "execution_count": null,
   "metadata": {},
   "outputs": [],
   "source": []
  }
 ],
 "metadata": {
  "application/vnd.databricks.v1+notebook": {
   "dashboards": [],
   "environmentMetadata": null,
   "language": "python",
   "notebookMetadata": {
    "pythonIndentUnit": 4
   },
   "notebookName": "EarningCalls_1_Upload_tmp",
   "widgets": {}
  },
  "kernelspec": {
   "display_name": "Python 3 (ipykernel)",
   "language": "python",
   "name": "python3"
  },
  "language_info": {
   "codemirror_mode": {
    "name": "ipython",
    "version": 3
   },
   "file_extension": ".py",
   "mimetype": "text/x-python",
   "name": "python",
   "nbconvert_exporter": "python",
   "pygments_lexer": "ipython3",
   "version": "3.11.5"
  }
 },
 "nbformat": 4,
 "nbformat_minor": 4
}
