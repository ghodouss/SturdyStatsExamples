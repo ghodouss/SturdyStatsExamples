{
 "cells": [
  {
   "cell_type": "markdown",
   "id": "901c2e27-6194-47d0-91d4-47f2a3cc906c",
   "metadata": {},
   "source": [
    "# Sturdy Statistics Earnings Calls 2: Explore\n",
    "Download the notebook on github: https://github.com/ghodouss/SturdyStatsExamples/blob/main/notebooks/EarningsCalls_2_explore.ipynb"
   ]
  },
  {
   "cell_type": "code",
   "execution_count": 1,
   "id": "bfda2f15-84a8-4a82-afbe-c18a818d1025",
   "metadata": {},
   "outputs": [
    {
     "name": "stdout",
     "output_type": "stream",
     "text": [
      "Found an existing index with id=\"index_05a7cb07da764f0f81397b39ce65ab06\".\n"
     ]
    }
   ],
   "source": [
    "# pip install sturdy-stats-sdk pandas numpy plotly\n",
    "\n",
    "from sturdystats import Index, Job\n",
    "import pandas as pd\n",
    "import numpy as np\n",
    "\n",
    "API_KEY = None\n",
    "index_id = \"index_05a7cb07da764f0f81397b39ce65ab06\" ## Optionally Replace with your own if you want\n",
    "\n",
    "index = Index(API_key=API_KEY, id=index_id)"
   ]
  },
  {
   "cell_type": "markdown",
   "id": "038cf337-5c4d-46dc-9eed-42a14ba91e9a",
   "metadata": {},
   "source": [
    "## Section 1: Intro to API\n",
    "\n",
    "Our query api allows you to perform a semantic search"
   ]
  },
  {
   "cell_type": "markdown",
   "id": "444e6c0c-3354-4d66-9e22-3a10520b93f3",
   "metadata": {},
   "source": [
    "###  Search Metadata"
   ]
  },
  {
   "cell_type": "code",
   "execution_count": 2,
   "id": "b0c170d3-3a14-4333-80ce-b29d58f6404b",
   "metadata": {},
   "outputs": [
    {
     "name": "stdout",
     "output_type": "stream",
     "text": [
      "dict_keys(['doc_id', 'doc_topics', 'metadata', 'nu_score', 'paragraph_id', 'paragraph_topics', 'predictions', 'text'])\n",
      "dict_keys(['author', 'clf_predictions', 'doc', 'doc_id', 'nu_quarter', 'nu_ticker', 'ordered_doc_index', 'priceDelta', 'published', 'quarter', 'ticker', 'title', 'year'])\n"
     ]
    }
   ],
   "source": [
    "res = index.query(search_query=\"ai\")\n",
    "docs = res[\"docs\"]\n",
    "doc = docs[0]\n",
    "print(doc.keys())\n",
    "print(doc[\"metadata\"].keys())"
   ]
  },
  {
   "cell_type": "markdown",
   "id": "eaed6563-f592-4e8c-94cc-2bba0f3db98a",
   "metadata": {},
   "source": [
    "### Paragraph extraction\n",
    "Our api automatically extracts the most relevent paragraphs from each doc. You can also provide a `context` int of size size 0->inf of how many paragraph above or below the selected excerpts to return"
   ]
  },
  {
   "cell_type": "code",
   "execution_count": 3,
   "id": "272a98b0-9462-4632-b5e6-37efa86138ab",
   "metadata": {},
   "outputs": [
    {
     "name": "stdout",
     "output_type": "stream",
     "text": [
      "Title: MSFT 2024Q2\n",
      "Published: 2024-04-25\n",
      "Content: Keith Weiss: Thank you, guys for taking the question and congratulations on a fantastic quarter. A lot of excitement in the marketplace around generative AI and the potential of these technologies, but there’s also a lot of investment going on behind them. It looks like Microsoft is on track to ramp CapEx over 50% year-on-year this year to over $50 billion. And there’s media speculation of more spending ahead with some reports talking about like $100 billion data center. So obviously, investments are coming well ahead of the revenue contribution. But what I was hoping for is that you could give us some color on how use as the management team, try to quantify the potential opportunities that underlie these investments because they are getting very big. And maybe if you could give us some hint on whether there's any truth to the potential of like $100 billion data center out there? Thank you so much.\n",
      "\n",
      "\n",
      "Title: AAPL 2024Q2\n",
      "Published: 2024-05-02\n",
      "Content: Ben Reitzes: Okay. Hey, thanks, Tim. And then my follow-up, I want to ask this carefully though. It's a -- there's a fear out there that, you may lose some traffic acquisition revenue. And I was wondering if you thought AI from big picture and it doesn't have to be on a long-term basis, I mean from a big picture, if AI is an opportunity for you to continue to monetize your mobile real estate, just how you -- how maybe investors can think about that from a big picture, just given that's been one of the concerns that's potentially been an overhang, of course, due to, you know, a lot of the news and the media around some of the legal cases? And I was wondering if there's just a big-picture color you could give that makes us kind of think about it better and your ability to sort of continue to monetize that real estate? Thanks a lot.\n",
      "\n",
      "\n",
      "Title: META 2024Q4\n",
      "Published: 2024-10-30\n",
      "Content: Eric Sheridan: Thanks so much for taking the question. Maybe just one building on that question from Brian and going back to Mark's comments about the learnings as you do go through the business planning process. Mark, I wanted to understand better what you continue to learn about what the biggest opportunity sets are to apply AI to when you think about your platform, your product portfolio, and your internal processes because you sound quite optimistic about key learnings and how they continue to ramp and maybe even accelerate in terms of the potential for return profile. I just want to go a little bit deeper into what your key learnings are as you go through that process. Thank you.\n",
      "\n",
      "\n"
     ]
    }
   ],
   "source": [
    "for doc in docs[:3]:\n",
    "    print(\"Title:\", doc[\"metadata\"][\"title\"])\n",
    "    print(\"Published:\", doc[\"metadata\"][\"published\"])\n",
    "    print(\"Content:\", doc[\"text\"])\n",
    "    print(\"\")"
   ]
  },
  {
   "cell_type": "markdown",
   "id": "98542629-fd54-4fca-95e0-5a5c1d3fa04b",
   "metadata": {},
   "source": [
    "### Beyond individual documents\n",
    "\n",
    "You can also perform search on the corpus as a whole. In order to support arbitrarily complex quantitative operations, we support SQL for query analysis. \n",
    "\n",
    "The `topicDiff` api pulls out the topics that are statistically significantly more prevalent in excerpts that contain `ai` compared to excerpts that do not contain `ai`. The parameter `q1` defines the group you are interested in and the parameter `q2` defines the group against which you want to compare q1.  "
   ]
  },
  {
   "cell_type": "code",
   "execution_count": 4,
   "id": "426aa80f-7cc7-4eae-8aca-9169ffe697c2",
   "metadata": {},
   "outputs": [
    {
     "data": {
      "text/html": [
       "<div>\n",
       "<style scoped>\n",
       "    .dataframe tbody tr th:only-of-type {\n",
       "        vertical-align: middle;\n",
       "    }\n",
       "\n",
       "    .dataframe tbody tr th {\n",
       "        vertical-align: top;\n",
       "    }\n",
       "\n",
       "    .dataframe thead th {\n",
       "        text-align: right;\n",
       "    }\n",
       "</style>\n",
       "<table border=\"1\" class=\"dataframe\">\n",
       "  <thead>\n",
       "    <tr style=\"text-align: right;\">\n",
       "      <th></th>\n",
       "      <th>short_title</th>\n",
       "      <th>topic_group_short_title</th>\n",
       "      <th>confidence</th>\n",
       "      <th>prevalence</th>\n",
       "    </tr>\n",
       "  </thead>\n",
       "  <tbody>\n",
       "    <tr>\n",
       "      <th>0</th>\n",
       "      <td>AI Cloud Services</td>\n",
       "      <td>AI Innovations</td>\n",
       "      <td>100</td>\n",
       "      <td>0.062975</td>\n",
       "    </tr>\n",
       "    <tr>\n",
       "      <th>1</th>\n",
       "      <td>AI Interaction and Engagement</td>\n",
       "      <td>Artificial Intelligence</td>\n",
       "      <td>100</td>\n",
       "      <td>0.060210</td>\n",
       "    </tr>\n",
       "    <tr>\n",
       "      <th>2</th>\n",
       "      <td>Microsoft Business Solutions</td>\n",
       "      <td>Microsoft Developments</td>\n",
       "      <td>100</td>\n",
       "      <td>0.046305</td>\n",
       "    </tr>\n",
       "    <tr>\n",
       "      <th>3</th>\n",
       "      <td>AI Workload Optimization</td>\n",
       "      <td>Business Strategies</td>\n",
       "      <td>100</td>\n",
       "      <td>0.039414</td>\n",
       "    </tr>\n",
       "    <tr>\n",
       "      <th>4</th>\n",
       "      <td>AI-Driven Data Processing</td>\n",
       "      <td>AI Innovations</td>\n",
       "      <td>100</td>\n",
       "      <td>0.034608</td>\n",
       "    </tr>\n",
       "  </tbody>\n",
       "</table>\n",
       "</div>"
      ],
      "text/plain": [
       "                     short_title  topic_group_short_title  confidence  \\\n",
       "0              AI Cloud Services           AI Innovations         100   \n",
       "1  AI Interaction and Engagement  Artificial Intelligence         100   \n",
       "2   Microsoft Business Solutions   Microsoft Developments         100   \n",
       "3       AI Workload Optimization      Business Strategies         100   \n",
       "4      AI-Driven Data Processing           AI Innovations         100   \n",
       "\n",
       "   prevalence  \n",
       "0    0.062975  \n",
       "1    0.060210  \n",
       "2    0.046305  \n",
       "3    0.039414  \n",
       "4    0.034608  "
      ]
     },
     "execution_count": 20,
     "metadata": {},
     "output_type": "execute_result"
    }
   ],
   "source": [
    "q1 = \"search('ai')\"\n",
    "topic_df = pd.DataFrame(index.topicDiff(q1=q1, q2=f\"NOT ({q1})\", limit=50 )[\"topics\"])\n",
    "topic_df.head(5)[[\"short_title\", \"topic_group_short_title\", \"confidence\", \"prevalence\"]]"
   ]
  },
  {
   "cell_type": "markdown",
   "id": "165f583a-5f01-4b3a-bd72-341bc1c9ea35",
   "metadata": {},
   "source": [
    "##### Each topic \n",
    "is tagged with a `short-title`, a `one_sentence_summary` and an `executive_paragraph_summary`"
   ]
  },
  {
   "cell_type": "code",
   "execution_count": 5,
   "id": "0d25922b-e1d8-49d3-9caa-67f21ca6ebd8",
   "metadata": {},
   "outputs": [
    {
     "name": "stdout",
     "output_type": "stream",
     "text": [
      "Title: E-commerce Integration\n",
      "Sentence: The theme focuses on enhancing the online shopping experience through partnerships and innovative ad solutions for e-commerce platforms.\n",
      "Summary: Recent discussions around e-commerce highlight a strong emphasis on integrating various commerce platforms like Shopify and Amazon to simplify the shopping experience for consumers. Notable efforts include improvements in ad performance, specifically through the Advantage+ tools, which aim to enhance conversion rates and facilitate seamless onboarding for businesses on platforms like Facebook and Instagram. These developments suggest a commitment to leveraging partnerships to maximize commercial potential, especially with initiatives like Shops ads and the Amazon collaboration, which aim to streamline the purchasing process and foster a consumer-friendly environment. Overall, the focus is on optimizing the advertising landscape to benefit both sellers and buyers in the ever-evolving digital commerce space.\n"
     ]
    }
   ],
   "source": [
    "row = topic_df.sample().iloc[0]\n",
    "print(\"Title:\", row.short_title)\n",
    "print(\"Sentence:\", row.one_sentence_summary)\n",
    "print(\"Summary:\", row.executive_paragraph_summary)"
   ]
  },
  {
   "cell_type": "markdown",
   "id": "2ad57933-0fae-43fa-8d5f-639aa2ecff61",
   "metadata": {},
   "source": [
    "#### Topic Prevalence\n",
    "\n",
    "Each topic contains a field titled `prevalence`.\n",
    "\n",
    "`prevalance` describes the percentage of the set of data in which you are interested (`q1`) that that topic makes up. This is extremely useful for data visualizations\n"
   ]
  },
  {
   "cell_type": "code",
   "execution_count": 6,
   "id": "9ad87af3-1dc6-4d60-81ba-85a44183fd99",
   "metadata": {},
   "outputs": [
    {
     "data": {
      "text/html": [
       "        <script type=\"text/javascript\">\n",
       "        window.PlotlyConfig = {MathJaxConfig: 'local'};\n",
       "        if (window.MathJax && window.MathJax.Hub && window.MathJax.Hub.Config) {window.MathJax.Hub.Config({SVG: {font: \"STIX-Web\"}});}\n",
       "        if (typeof require !== 'undefined') {\n",
       "        require.undef(\"plotly\");\n",
       "        requirejs.config({\n",
       "            paths: {\n",
       "                'plotly': ['https://cdn.plot.ly/plotly-2.27.0.min']\n",
       "            }\n",
       "        });\n",
       "        require(['plotly'], function(Plotly) {\n",
       "            window._Plotly = Plotly;\n",
       "        });\n",
       "        }\n",
       "        </script>\n",
       "        "
      ]
     },
     "metadata": {},
     "output_type": "display_data"
    },
    {
     "data": {
      "text/html": [
       "<div>                            <div id=\"7687f61d-eb53-49dc-9a8f-287f4d0f4dbd\" class=\"plotly-graph-div\" style=\"height:600px; width:600px;\"></div>            <script type=\"text/javascript\">                require([\"plotly\"], function(Plotly) {                    window.PLOTLYENV=window.PLOTLYENV || {};                                    if (document.getElementById(\"7687f61d-eb53-49dc-9a8f-287f4d0f4dbd\")) {                    Plotly.newPlot(                        \"7687f61d-eb53-49dc-9a8f-287f4d0f4dbd\",                        [{\"branchvalues\":\"total\",\"customdata\":[[\"The integration of AI technologies across various industries such as automotive, healthcare, and financial services is driving innovation and improving operational efficiencies.\",80],[\"The emergence of advanced generative AI models and cloud computing technologies is revolutionizing enterprise capabilities and creating significant market opportunities.\",42],[\"Organizations are significantly investing in AI infrastructure to scale their systems and enhance performance through advanced models and architectures.\",46],[\"The emergence of various AI agents created for people to interact with across different platforms emphasizes the evolving relationship between technology and human communication.\",32],[\"Organizations are strategically investing in AI infrastructure and capabilities to enhance core business functions while evaluating the return on investment across distinct categories of AI initiatives.\",73],[\"The discussion centers around the evolving landscape of AI model training and inference, highlighting the importance of large model training, fine-tuning, and the distinction between small and large model workloads.\",33],[\"The ongoing evolution of supercomputing technology, particularly through the integration of NVIDIA's Grace Hopper Superchips and advanced GPU architectures, is reshaping AI infrastructure and capabilities on a national and global scale.\",44],[\"The theme revolves around the strategic emphasis on new project starts and the optimization of AI workloads within Azure's cloud infrastructure.\",50],[\"The integration of AI models with advanced database services like Cosmos DB and Microsoft Azure is driving significant innovations and efficiencies in data management and application development.\",66],[\"The integration of advanced AI technologies across consumer devices, particularly smartphones, is enhancing user experience and broadening capabilities through multimodal understanding and innovative models.\",87],[\"AI and machine learning are integral to the development of technology that enriches lives and provides life-saving features.\",70],[\"Google is enhancing the search experience through AI-driven features, making searches more helpful and relevant for users while integrating effective advertising solutions.\",124],[\"The emerging trend of AI factories signifies a shift towards automating intelligence through data-driven machine learning techniques across various industries.\",170],[\"The integration of AI across platforms is enhancing member engagement, skill-building, and trust in digital solutions for hiring and advertising.\",43],[\"The integration of AI within advertising and marketing strategies is significantly enhancing asset creation, optimizing bidding, and improving ROI for retailers and advertisers across various campaigns.\",77],[\"The documents outline expectations regarding the financial impacts of the Activision acquisition and related accounting considerations for the fiscal year.\",114],[\"Recent developments in AI, particularly large language models and deep learning techniques, are driving significant improvements in data processing, contextual understanding, and generative capabilities across various applications, including natural language and biological analysis.\",26],[\"The recurring theme highlights the automation and optimization of advertising campaigns through the Advantage+ suite and business messaging tools like WhatsApp and Messenger, leading to improved performance and conversions for advertisers.\",86],[\"The theme revolves around the growth and integration of fully autonomous ride-hailing services, spearheaded by Waymo's advancements in safety and partnerships in key cities.\",69],[\"The integration of NVIDIA's advanced GPU technology and Omniverse platform is revolutionizing the automotive industry's approach to simulation, design, and digital twin creation for self-driving vehicles and efficient manufacturing workflows.\",121],[\"The theme revolves around the increasing revenue growth driven by Azure's consumption business and the impact of Microsoft 365 and AI solutions on overall performance, while also highlighting moderation in certain growth areas due to market conditions and the size of the existing customer base.\",128],[\"Companies are increasing their capital expenditures (CapEx) in 2023 and beyond, particularly in data center construction and server equipment, to enhance their technical infrastructure and support AI workloads.\",145],[\"The documents emphasize the strategic focus on investing in cloud and AI technologies to drive growth, profitability, and customer value while managing costs efficiently amidst economic uncertainty.\",21],[\"Organizations, including major companies like Pfizer and American Family Insurance, are increasingly leveraging AI and integrated cybersecurity solutions to enhance their threat analysis, incident response, and overall security operations.\",11],[\"The integration of AI-driven tools like GitHub Copilot is significantly enhancing developer productivity and code quality across organizations.\",91],[\"The theme focuses on enhancing the online shopping experience through partnerships and innovative ad solutions for e-commerce platforms.\",137],[\"Companies are focusing on efficiency and discipline in operations while investing ambitively in long-term technological advancements.\",151],[\"The ongoing strategy focuses on enhancing user engagement through personalized content recommendations, particularly in video formats like Reels, while simultaneously improving monetization efficiency across platforms.\",39],[\"Companies are leveraging proprietary AI tools and platforms to build tailored AI solutions that enhance their capabilities and meet specific domain needs.\",107],[\"The theme emphasizes the strategic planning and investment in GPU capacity and data center infrastructure to meet future computational demands for advanced AI services.\",165],[\"The GeForce RTX 40 Series GPUs, built on the Ada Lovelace architecture, have received strong market reception and popularity for both laptops and desktops, driving significant revenue and widespread upgrades in the gaming community.\",81],[\"Google Cloud is leading the generative AI landscape with optimized infrastructure and innovative models to empower customers across various industries.\",57],[\"The theme revolves around the use of generative AI to create tailored advertising assets that enhance relevance and effectiveness in reaching targeted customers.\",173],[\"Companies are strategically managing headcount through hiring freezes, layoffs, and targeted recruitment in priority areas while focusing on efficiency and budgeting processes for 2024.\",19],[\"The integration of high-performance networking solutions like InfiniBand and Spectrum-X is essential for optimizing data center infrastructure, particularly for AI and supercomputing applications.\",14],[\"The ongoing development and integration of advanced technologies in the metaverse, particularly through mixed reality devices and smart eyewear, is central to creating immersive digital experiences and fusing physical and virtual worlds.\",27],[\"Microsoft's suite of business applications and platforms, including Dynamics 365 and Power Platform, is transforming organizations through AI-driven solutions that enhance productivity and customer interactions.\",0],[\"Microsoft's Azure cloud platform is positioned as the leading choice for companies migrating their workloads and leveraging AI capabilities in their operations.\",62],[\"Microsoft's suite of collaboration tools, including Teams, Viva, and their premium offerings, demonstrates significant growth in active users and adoption across enterprises driven by enhanced features and integration for hybrid work environments.\",184],[\"The integration of open-source practices in AI infrastructure and model development enhances safety, efficiency, and innovation across the industry.\",25],[\"Companies are providing guidance on expected revenue growth and declines for various segments, emphasizing quarterly variability and specific drivers such as subscription growth and market conditions.\",122],[\"The transition from general-purpose computing to accelerated computing powered by generative AI is reshaping the data center landscape and increasing energy efficiency and performance.\",15],[\"The theme revolves around the impact of U.S. government export regulations on data center products, particularly regarding the limitations imposed on shipments to international markets such as China.\",147]],\"domain\":{\"x\":[0.0,1.0],\"y\":[0.0,1.0]},\"hovertemplate\":\"labels=%{label}\\u003cbr\\u003eprevalence=%{value}\\u003cbr\\u003eparent=%{parent}\\u003cbr\\u003eid=%{id}\\u003cbr\\u003eone_sentence_summary=%{customdata[0]}\\u003cbr\\u003etopic_id=%{customdata[1]}\\u003cextra\\u003e\\u003c\\u002fextra\\u003e\",\"ids\":[\"AI Across Industries\",\"AI Cloud Services\",\"AI Infrastructure Investment\",\"AI Interaction and Engagement\",\"AI Investment Strategy\",\"AI Model Training and Inference\",\"AI Supercomputing Advancements\",\"AI Workload Optimization\",\"AI and Data Integration\",\"AI in Consumer Devices\",\"AI in Life-Saving Tech\",\"AI in Search Experience\",\"AI-Driven Data Processing\",\"AI-Driven Member Engagement\",\"AI-Powered Retail Advertising\",\"Activision Acquisition Impact\",\"Advancements in AI Models\",\"Advantage+ Ad Solutions\",\"Autonomous Ride-Hailing Expansion\",\"Autonomous Vehicle Visualization\",\"Azure Consumption Growth\",\"CapEx and Data Center Investments\",\"Cloud Investment Strategy\",\"Cybersecurity Innovations\",\"Developer Productivity Tools\",\"E-commerce Integration\",\"Efficient Growth Strategies\",\"Engagement and Monetization Strategy\",\"Enterprise AI Development\",\"Future GPU Investments\",\"GeForce RTX 40 Series\",\"Generative AI Infrastructure\",\"Generative AI for Ads\",\"Headcount Management Strategies\",\"High-Performance Networking for AI\",\"Metaverse and Mixed Reality\",\"Microsoft Business Solutions\",\"Microsoft Cloud Migration\",\"Microsoft Collaboration Growth\",\"Open Source Innovations\",\"Quarterly Revenue Expectations\",\"Transition to Accelerated Computing\",\"U.S. Export Regulations\"],\"labels\":[\"AI Across Industries\",\"AI Cloud Services\",\"AI Infrastructure Investment\",\"AI Interaction and Engagement\",\"AI Investment Strategy\",\"AI Model Training and Inference\",\"AI Supercomputing Advancements\",\"AI Workload Optimization\",\"AI and Data Integration\",\"AI in Consumer Devices\",\"AI in Life-Saving Tech\",\"AI in Search Experience\",\"AI-Driven Data Processing\",\"AI-Driven Member Engagement\",\"AI-Powered Retail Advertising\",\"Activision Acquisition Impact\",\"Advancements in AI Models\",\"Advantage+ Ad Solutions\",\"Autonomous Ride-Hailing Expansion\",\"Autonomous Vehicle Visualization\",\"Azure Consumption Growth\",\"CapEx and Data Center Investments\",\"Cloud Investment Strategy\",\"Cybersecurity Innovations\",\"Developer Productivity Tools\",\"E-commerce Integration\",\"Efficient Growth Strategies\",\"Engagement and Monetization Strategy\",\"Enterprise AI Development\",\"Future GPU Investments\",\"GeForce RTX 40 Series\",\"Generative AI Infrastructure\",\"Generative AI for Ads\",\"Headcount Management Strategies\",\"High-Performance Networking for AI\",\"Metaverse and Mixed Reality\",\"Microsoft Business Solutions\",\"Microsoft Cloud Migration\",\"Microsoft Collaboration Growth\",\"Open Source Innovations\",\"Quarterly Revenue Expectations\",\"Transition to Accelerated Computing\",\"U.S. Export Regulations\"],\"name\":\"\",\"parents\":[\"\",\"\",\"\",\"\",\"\",\"\",\"\",\"\",\"\",\"\",\"\",\"\",\"\",\"\",\"\",\"\",\"\",\"\",\"\",\"\",\"\",\"\",\"\",\"\",\"\",\"\",\"\",\"\",\"\",\"\",\"\",\"\",\"\",\"\",\"\",\"\",\"\",\"\",\"\",\"\",\"\",\"\",\"\"],\"values\":[0.004126640036702156,0.06297456473112106,0.0038372939452528954,0.06020982936024666,0.011892344802618027,0.002165126847103238,0.0055669816210865974,0.03941427916288376,0.006934552453458309,0.013543603010475636,0.002112169284373522,0.026991184800863266,0.0346081368625164,0.010146950371563435,0.028450684621930122,0.02213646098971367,0.020568372681736946,0.03058694675564766,0.0031210032757371664,0.03350181132555008,0.006265013478696346,0.005622948985546827,0.009903255850076675,0.0030802818946540356,0.005063250195235014,0.0005440895329229534,0.0030463163275271654,0.030913829803466797,0.005158756393939257,0.0027574249543249607,0.00277322088368237,0.03374464809894562,0.0009221857180818915,0.00537213496863842,0.029980503022670746,0.019568778574466705,0.04630545899271965,0.021311696618795395,0.00924549251794815,0.014377139508724213,0.012807038612663746,0.01607816107571125,0.004336186219006777],\"type\":\"sunburst\"}],                        {\"template\":{\"data\":{\"histogram2dcontour\":[{\"type\":\"histogram2dcontour\",\"colorbar\":{\"outlinewidth\":0,\"ticks\":\"\"},\"colorscale\":[[0.0,\"#0d0887\"],[0.1111111111111111,\"#46039f\"],[0.2222222222222222,\"#7201a8\"],[0.3333333333333333,\"#9c179e\"],[0.4444444444444444,\"#bd3786\"],[0.5555555555555556,\"#d8576b\"],[0.6666666666666666,\"#ed7953\"],[0.7777777777777778,\"#fb9f3a\"],[0.8888888888888888,\"#fdca26\"],[1.0,\"#f0f921\"]]}],\"choropleth\":[{\"type\":\"choropleth\",\"colorbar\":{\"outlinewidth\":0,\"ticks\":\"\"}}],\"histogram2d\":[{\"type\":\"histogram2d\",\"colorbar\":{\"outlinewidth\":0,\"ticks\":\"\"},\"colorscale\":[[0.0,\"#0d0887\"],[0.1111111111111111,\"#46039f\"],[0.2222222222222222,\"#7201a8\"],[0.3333333333333333,\"#9c179e\"],[0.4444444444444444,\"#bd3786\"],[0.5555555555555556,\"#d8576b\"],[0.6666666666666666,\"#ed7953\"],[0.7777777777777778,\"#fb9f3a\"],[0.8888888888888888,\"#fdca26\"],[1.0,\"#f0f921\"]]}],\"heatmap\":[{\"type\":\"heatmap\",\"colorbar\":{\"outlinewidth\":0,\"ticks\":\"\"},\"colorscale\":[[0.0,\"#0d0887\"],[0.1111111111111111,\"#46039f\"],[0.2222222222222222,\"#7201a8\"],[0.3333333333333333,\"#9c179e\"],[0.4444444444444444,\"#bd3786\"],[0.5555555555555556,\"#d8576b\"],[0.6666666666666666,\"#ed7953\"],[0.7777777777777778,\"#fb9f3a\"],[0.8888888888888888,\"#fdca26\"],[1.0,\"#f0f921\"]]}],\"heatmapgl\":[{\"type\":\"heatmapgl\",\"colorbar\":{\"outlinewidth\":0,\"ticks\":\"\"},\"colorscale\":[[0.0,\"#0d0887\"],[0.1111111111111111,\"#46039f\"],[0.2222222222222222,\"#7201a8\"],[0.3333333333333333,\"#9c179e\"],[0.4444444444444444,\"#bd3786\"],[0.5555555555555556,\"#d8576b\"],[0.6666666666666666,\"#ed7953\"],[0.7777777777777778,\"#fb9f3a\"],[0.8888888888888888,\"#fdca26\"],[1.0,\"#f0f921\"]]}],\"contourcarpet\":[{\"type\":\"contourcarpet\",\"colorbar\":{\"outlinewidth\":0,\"ticks\":\"\"}}],\"contour\":[{\"type\":\"contour\",\"colorbar\":{\"outlinewidth\":0,\"ticks\":\"\"},\"colorscale\":[[0.0,\"#0d0887\"],[0.1111111111111111,\"#46039f\"],[0.2222222222222222,\"#7201a8\"],[0.3333333333333333,\"#9c179e\"],[0.4444444444444444,\"#bd3786\"],[0.5555555555555556,\"#d8576b\"],[0.6666666666666666,\"#ed7953\"],[0.7777777777777778,\"#fb9f3a\"],[0.8888888888888888,\"#fdca26\"],[1.0,\"#f0f921\"]]}],\"surface\":[{\"type\":\"surface\",\"colorbar\":{\"outlinewidth\":0,\"ticks\":\"\"},\"colorscale\":[[0.0,\"#0d0887\"],[0.1111111111111111,\"#46039f\"],[0.2222222222222222,\"#7201a8\"],[0.3333333333333333,\"#9c179e\"],[0.4444444444444444,\"#bd3786\"],[0.5555555555555556,\"#d8576b\"],[0.6666666666666666,\"#ed7953\"],[0.7777777777777778,\"#fb9f3a\"],[0.8888888888888888,\"#fdca26\"],[1.0,\"#f0f921\"]]}],\"mesh3d\":[{\"type\":\"mesh3d\",\"colorbar\":{\"outlinewidth\":0,\"ticks\":\"\"}}],\"scatter\":[{\"fillpattern\":{\"fillmode\":\"overlay\",\"size\":10,\"solidity\":0.2},\"type\":\"scatter\"}],\"parcoords\":[{\"type\":\"parcoords\",\"line\":{\"colorbar\":{\"outlinewidth\":0,\"ticks\":\"\"}}}],\"scatterpolargl\":[{\"type\":\"scatterpolargl\",\"marker\":{\"colorbar\":{\"outlinewidth\":0,\"ticks\":\"\"}}}],\"bar\":[{\"error_x\":{\"color\":\"#2a3f5f\"},\"error_y\":{\"color\":\"#2a3f5f\"},\"marker\":{\"line\":{\"color\":\"#E5ECF6\",\"width\":0.5},\"pattern\":{\"fillmode\":\"overlay\",\"size\":10,\"solidity\":0.2}},\"type\":\"bar\"}],\"scattergeo\":[{\"type\":\"scattergeo\",\"marker\":{\"colorbar\":{\"outlinewidth\":0,\"ticks\":\"\"}}}],\"scatterpolar\":[{\"type\":\"scatterpolar\",\"marker\":{\"colorbar\":{\"outlinewidth\":0,\"ticks\":\"\"}}}],\"histogram\":[{\"marker\":{\"pattern\":{\"fillmode\":\"overlay\",\"size\":10,\"solidity\":0.2}},\"type\":\"histogram\"}],\"scattergl\":[{\"type\":\"scattergl\",\"marker\":{\"colorbar\":{\"outlinewidth\":0,\"ticks\":\"\"}}}],\"scatter3d\":[{\"type\":\"scatter3d\",\"line\":{\"colorbar\":{\"outlinewidth\":0,\"ticks\":\"\"}},\"marker\":{\"colorbar\":{\"outlinewidth\":0,\"ticks\":\"\"}}}],\"scattermapbox\":[{\"type\":\"scattermapbox\",\"marker\":{\"colorbar\":{\"outlinewidth\":0,\"ticks\":\"\"}}}],\"scatterternary\":[{\"type\":\"scatterternary\",\"marker\":{\"colorbar\":{\"outlinewidth\":0,\"ticks\":\"\"}}}],\"scattercarpet\":[{\"type\":\"scattercarpet\",\"marker\":{\"colorbar\":{\"outlinewidth\":0,\"ticks\":\"\"}}}],\"carpet\":[{\"aaxis\":{\"endlinecolor\":\"#2a3f5f\",\"gridcolor\":\"white\",\"linecolor\":\"white\",\"minorgridcolor\":\"white\",\"startlinecolor\":\"#2a3f5f\"},\"baxis\":{\"endlinecolor\":\"#2a3f5f\",\"gridcolor\":\"white\",\"linecolor\":\"white\",\"minorgridcolor\":\"white\",\"startlinecolor\":\"#2a3f5f\"},\"type\":\"carpet\"}],\"table\":[{\"cells\":{\"fill\":{\"color\":\"#EBF0F8\"},\"line\":{\"color\":\"white\"}},\"header\":{\"fill\":{\"color\":\"#C8D4E3\"},\"line\":{\"color\":\"white\"}},\"type\":\"table\"}],\"barpolar\":[{\"marker\":{\"line\":{\"color\":\"#E5ECF6\",\"width\":0.5},\"pattern\":{\"fillmode\":\"overlay\",\"size\":10,\"solidity\":0.2}},\"type\":\"barpolar\"}],\"pie\":[{\"automargin\":true,\"type\":\"pie\"}]},\"layout\":{\"autotypenumbers\":\"strict\",\"colorway\":[\"#636efa\",\"#EF553B\",\"#00cc96\",\"#ab63fa\",\"#FFA15A\",\"#19d3f3\",\"#FF6692\",\"#B6E880\",\"#FF97FF\",\"#FECB52\"],\"font\":{\"color\":\"#2a3f5f\"},\"hovermode\":\"closest\",\"hoverlabel\":{\"align\":\"left\"},\"paper_bgcolor\":\"white\",\"plot_bgcolor\":\"#E5ECF6\",\"polar\":{\"bgcolor\":\"#E5ECF6\",\"angularaxis\":{\"gridcolor\":\"white\",\"linecolor\":\"white\",\"ticks\":\"\"},\"radialaxis\":{\"gridcolor\":\"white\",\"linecolor\":\"white\",\"ticks\":\"\"}},\"ternary\":{\"bgcolor\":\"#E5ECF6\",\"aaxis\":{\"gridcolor\":\"white\",\"linecolor\":\"white\",\"ticks\":\"\"},\"baxis\":{\"gridcolor\":\"white\",\"linecolor\":\"white\",\"ticks\":\"\"},\"caxis\":{\"gridcolor\":\"white\",\"linecolor\":\"white\",\"ticks\":\"\"}},\"coloraxis\":{\"colorbar\":{\"outlinewidth\":0,\"ticks\":\"\"}},\"colorscale\":{\"sequential\":[[0.0,\"#0d0887\"],[0.1111111111111111,\"#46039f\"],[0.2222222222222222,\"#7201a8\"],[0.3333333333333333,\"#9c179e\"],[0.4444444444444444,\"#bd3786\"],[0.5555555555555556,\"#d8576b\"],[0.6666666666666666,\"#ed7953\"],[0.7777777777777778,\"#fb9f3a\"],[0.8888888888888888,\"#fdca26\"],[1.0,\"#f0f921\"]],\"sequentialminus\":[[0.0,\"#0d0887\"],[0.1111111111111111,\"#46039f\"],[0.2222222222222222,\"#7201a8\"],[0.3333333333333333,\"#9c179e\"],[0.4444444444444444,\"#bd3786\"],[0.5555555555555556,\"#d8576b\"],[0.6666666666666666,\"#ed7953\"],[0.7777777777777778,\"#fb9f3a\"],[0.8888888888888888,\"#fdca26\"],[1.0,\"#f0f921\"]],\"diverging\":[[0,\"#8e0152\"],[0.1,\"#c51b7d\"],[0.2,\"#de77ae\"],[0.3,\"#f1b6da\"],[0.4,\"#fde0ef\"],[0.5,\"#f7f7f7\"],[0.6,\"#e6f5d0\"],[0.7,\"#b8e186\"],[0.8,\"#7fbc41\"],[0.9,\"#4d9221\"],[1,\"#276419\"]]},\"xaxis\":{\"gridcolor\":\"white\",\"linecolor\":\"white\",\"ticks\":\"\",\"title\":{\"standoff\":15},\"zerolinecolor\":\"white\",\"automargin\":true,\"zerolinewidth\":2},\"yaxis\":{\"gridcolor\":\"white\",\"linecolor\":\"white\",\"ticks\":\"\",\"title\":{\"standoff\":15},\"zerolinecolor\":\"white\",\"automargin\":true,\"zerolinewidth\":2},\"scene\":{\"xaxis\":{\"backgroundcolor\":\"#E5ECF6\",\"gridcolor\":\"white\",\"linecolor\":\"white\",\"showbackground\":true,\"ticks\":\"\",\"zerolinecolor\":\"white\",\"gridwidth\":2},\"yaxis\":{\"backgroundcolor\":\"#E5ECF6\",\"gridcolor\":\"white\",\"linecolor\":\"white\",\"showbackground\":true,\"ticks\":\"\",\"zerolinecolor\":\"white\",\"gridwidth\":2},\"zaxis\":{\"backgroundcolor\":\"#E5ECF6\",\"gridcolor\":\"white\",\"linecolor\":\"white\",\"showbackground\":true,\"ticks\":\"\",\"zerolinecolor\":\"white\",\"gridwidth\":2}},\"shapedefaults\":{\"line\":{\"color\":\"#2a3f5f\"}},\"annotationdefaults\":{\"arrowcolor\":\"#2a3f5f\",\"arrowhead\":0,\"arrowwidth\":1},\"geo\":{\"bgcolor\":\"white\",\"landcolor\":\"#E5ECF6\",\"subunitcolor\":\"white\",\"showland\":true,\"showlakes\":true,\"lakecolor\":\"white\"},\"title\":{\"x\":0.05},\"mapbox\":{\"style\":\"light\"},\"margin\":{\"b\":0,\"l\":0,\"r\":0,\"t\":30}}},\"legend\":{\"tracegroupgap\":0},\"width\":600,\"height\":600},                        {\"responsive\": true}                    ).then(function(){\n",
       "                            \n",
       "var gd = document.getElementById('7687f61d-eb53-49dc-9a8f-287f4d0f4dbd');\n",
       "var x = new MutationObserver(function (mutations, observer) {{\n",
       "        var display = window.getComputedStyle(gd).display;\n",
       "        if (!display || display === 'none') {{\n",
       "            console.log([gd, 'removed!']);\n",
       "            Plotly.purge(gd);\n",
       "            observer.disconnect();\n",
       "        }}\n",
       "}});\n",
       "\n",
       "// Listen for the removal of the full notebook cells\n",
       "var notebookContainer = gd.closest('#notebook-container');\n",
       "if (notebookContainer) {{\n",
       "    x.observe(notebookContainer, {childList: true});\n",
       "}}\n",
       "\n",
       "// Listen for the clearing of the current output cell\n",
       "var outputEl = gd.closest('.output');\n",
       "if (outputEl) {{\n",
       "    x.observe(outputEl, {childList: true});\n",
       "}}\n",
       "\n",
       "                        })                };                });            </script>        </div>"
      ]
     },
     "metadata": {},
     "output_type": "display_data"
    }
   ],
   "source": [
    "import plotly.express as px\n",
    "%matplotlib inline\n",
    "\n",
    "## Note the size if each pie slice is the prevalence of the topic\n",
    "fig = px.sunburst(topic_df, path=[\"short_title\"], values=\"prevalence\", hover_data=[\"topic_id\"])\n",
    "fig.update_layout(width=800, height=800)\n",
    "fig.show()"
   ]
  },
  {
   "cell_type": "markdown",
   "id": "7176b6ab-8e44-4c5c-ad25-f48e95e5caa0",
   "metadata": {},
   "source": [
    "#### Topic Groups\n",
    "Topics are organized into topic groups. These topic groups to provide high-level organization on top of our extremely granular set of topics. "
   ]
  },
  {
   "cell_type": "code",
   "execution_count": 1,
   "id": "3e19b635-46c1-4238-ad83-c309085b8205",
   "metadata": {},
   "outputs": [
    {
     "ename": "NameError",
     "evalue": "name 'px' is not defined",
     "output_type": "error",
     "traceback": [
      "\u001b[0;31m---------------------------------------------------------------------------\u001b[0m",
      "\u001b[0;31mNameError\u001b[0m                                 Traceback (most recent call last)",
      "Cell \u001b[0;32mIn[1], line 1\u001b[0m\n\u001b[0;32m----> 1\u001b[0m fig \u001b[38;5;241m=\u001b[39m \u001b[43mpx\u001b[49m\u001b[38;5;241m.\u001b[39msunburst(topic_df, path\u001b[38;5;241m=\u001b[39m[\u001b[38;5;124m\"\u001b[39m\u001b[38;5;124mtopic_group_short_title\u001b[39m\u001b[38;5;124m\"\u001b[39m, \u001b[38;5;124m\"\u001b[39m\u001b[38;5;124mshort_title\u001b[39m\u001b[38;5;124m\"\u001b[39m], values\u001b[38;5;241m=\u001b[39m\u001b[38;5;124m\"\u001b[39m\u001b[38;5;124mprevalence\u001b[39m\u001b[38;5;124m\"\u001b[39m, hover_data\u001b[38;5;241m=\u001b[39m[\u001b[38;5;124m\"\u001b[39m\u001b[38;5;124mtopic_id\u001b[39m\u001b[38;5;124m\"\u001b[39m] )\n\u001b[1;32m      2\u001b[0m fig\u001b[38;5;241m.\u001b[39mupdate_layout(width\u001b[38;5;241m=\u001b[39m\u001b[38;5;241m800\u001b[39m, height\u001b[38;5;241m=\u001b[39m\u001b[38;5;241m800\u001b[39m)\n\u001b[1;32m      3\u001b[0m fig\u001b[38;5;241m.\u001b[39mshow()\n",
      "\u001b[0;31mNameError\u001b[0m: name 'px' is not defined"
     ]
    }
   ],
   "source": [
    "fig = px.sunburst(topic_df, path=[\"topic_group_short_title\", \"short_title\"], values=\"prevalence\", hover_data=[\"topic_id\"] )\n",
    "fig.update_layout(width=800, height=800)\n",
    "fig.show()"
   ]
  },
  {
   "cell_type": "markdown",
   "id": "649ea58f-2e00-4071-8297-92bef21408c0",
   "metadata": {},
   "source": [
    "## Section 2: A Topic Caught my Eye \n",
    "AI-Powered Retail Advertising. Topic 77 (the id is visible when hovering over the sunburst)."
   ]
  },
  {
   "cell_type": "code",
   "execution_count": 8,
   "id": "84c6daad-c494-45e2-8cf7-bc56492da2ec",
   "metadata": {},
   "outputs": [
    {
     "name": "stdout",
     "output_type": "stream",
     "text": [
      "Title: AI-Powered Retail Advertising\n",
      "Summary: Recent discussions highlight the transformative role of AI in optimizing retail advertising strategies, focusing on the use of tools like Performance Max (PMax) and DemandGen to streamline workflows, enhance creative asset production, and drive higher conversion rates. Retailers are witnessing substantial improvements in return on ad spend (ROAS), with notable success stories including increased omni-channel revenue for a U.S. big-box retailer and significantly higher conversion rates for a global fashion brand. Advanced AI solutions aid in media buying processes, enabling advertisers to test varied creatives, while improvements to local inventory ads have boosted shopper confidence. Moreover, tools like virtual try-ons and optimized bidding strategies ensure that retailers remain competitive during critical shopping seasons, ultimately creating a more seamless experience for consumers.\n"
     ]
    }
   ],
   "source": [
    "topic_id = 77\n",
    "row = topic_df.loc[topic_df.topic_id == topic_id].iloc[0]\n",
    "print(\"Title:\", row.short_title)\n",
    "print(\"Summary:\", row.executive_paragraph_summary)"
   ]
  },
  {
   "cell_type": "markdown",
   "id": "f64c3c03-2ceb-4e9d-ba99-aa00e7a11cbc",
   "metadata": {},
   "source": [
    "### Summaries are helpful but ...\n",
    "the original data with examples are where the real work is done.\n",
    "\n",
    "Fortunately, hopping between topics and documents is seamless"
   ]
  },
  {
   "cell_type": "code",
   "execution_count": 9,
   "id": "aa5b32ea-0b1f-478d-a00f-110fc16cdd57",
   "metadata": {},
   "outputs": [
    {
     "name": "stdout",
     "output_type": "stream",
     "text": [
      "Title: GOOG 2024Q3\n",
      "Published: 2024-07-23\n",
      "Content: Across Search, PMax, DemandGen, and Retail, we're applying AI to streamline workflows, enhance creative asset production, and provide more engaging experiences for consumers. Listening to our customers, retailers in particular have welcomed AI-powered features to help scale the depth and breadth of their assets. For example, as part of a new and easier-to-use merchant center, we've expanded Product Studio, with tools that bring the power of Google AI to every business owner. You can upload a product image from the AI with something like, feature this product with Paris skyline in the background and Product Studio will generate campaign ready assets. I also hear great feedback from our customers on many of our other new AI-powered features. We're beta testing, virtual try on and shopping ads and plan to roll it out widely later this year. Feedback shows this feature gets 60% more high-quality views than other images and a higher click-out to retailer sites. Retailers love it because it drives purchasing decisions and fewer returns. Our AI-driven profit optimization tools have been expanded to performance max and standard shopping campaigns. Advertisers use profit optimization and smart bidding see a 15% uplift in profit on average compared to revenue-only bidding. Lastly, DemandGen is rolling out to Display in Video 360 and Search Ads 360 in the coming months with new generative image tools that create stunning high-quality image assets for social marketers.\n",
      "\n",
      "Title: GOOG 2023Q4\n",
      "Published: 2023-10-24\n",
      "Content: I'll highlight more ways we're innovating with the best of Google AI as we double-click into our core business. In Retail, we had a great quarter. In a market where every dollar counts, our proven AI-powered solutions like Search and PMax are helping retailers drive reliable, strong ROI and meet customers wherever they are across the funnel. In Q3, we also started prepping retailers for what will be a long holiday season. Let me share some things. Number one, with a maximum number of days between Thanksgiving and Christmas and expectations for many micro peaks beyond Cyber-Five, we're arming businesses with insights and planning tools, including OptiScore and Performance Planner to uncover new opportunities, plan budgets and targets to stay competitive and be smarter with their inventory and pricing strategy. Number two. Consumer expectations are shifting, especially around price and convenience. We've seen 4x deals queries during the holidays versus other periods. 75% of users say they'll shop with those offering free shipping. Retailers are capitalizing on these trends with our differentiated merchant offerings like merchant promotions and fulfillment options. And we're making improvements to significantly boost the number of deals shown to shoppers in Search this holiday season. Look out for more in the coming days about new ways we'll help shoppers browse deals across the web this year.\n",
      "\n",
      "Title: GOOG 2024Q4\n",
      "Published: 2024-10-29\n",
      "Content: We're now seeing that people find ads directly within AI Overviews helpful because they can quickly connect with relevant businesses, products and services to take the next step at the exact moment they need. As I've said before, we believe AI will revolutionize every part of the marketing value chain. Let's start with creative. Advertisers now use our Gemini-powered tools to build and test a larger variety of relevant creatives at scale. Audi used our AI tools to generate multiple video image and text assets in different links and orientations out of existing long-form videos. It then fed the newly generated creatives into demand gen to drive reach, traffic and booking to their driving experience. The campaign increased website visits by 80% and increased clicks by 2.7 times, delivering a lift in their sales. Last week, we updated image generation at Google Ads with our most advanced text-to-image model, Imagine 3, which we tuned using ads performance data from multiple industries to help customers produce high-quality imagery for their campaigns. Advertisers can now create even higher-performing assets for PMax, Demand Gen app and Display campaigns. Turning to media buying. AI-powered campaigns help advertisers get faster feedback on what creatives work, where and redirect their media buying. Using Demand Gen, DoorDash tested a mix of image and video assets to drive more impact across Google and YouTube's visually immersive surfaces.\n",
      "\n"
     ]
    }
   ],
   "source": [
    "docs = index.query(topic_id=topic_id)[\"docs\"]\n",
    "for doc in docs[:3]:\n",
    "    print(\"Title:\", doc[\"metadata\"][\"title\"])\n",
    "    print(\"Published:\", doc[\"metadata\"][\"published\"])\n",
    "    print(\"Content:\", doc[\"text\"])\n",
    "    print(\"\")"
   ]
  },
  {
   "cell_type": "markdown",
   "id": "18f5062c-02e4-4b86-b398-720c0a946e0c",
   "metadata": {},
   "source": [
    "###  Examples are helpful but ...\n",
    "I now want to ask some more high level questions ...\n",
    "\n",
    "Google seems to be releasing a suite of tools leveraging Gemini for helping companies build advertisements. I want to know when this started and how focused the earnings calls have been on this product line each quarter. \n",
    "\n",
    "Because our model statistically structures unstructured data at the word, sentence, paragraph, document and corpus level, we can actually just run basic sql queries as if our unstructured data was simply another quantitative field. "
   ]
  },
  {
   "cell_type": "code",
   "execution_count": 10,
   "id": "ce29881f-6121-469e-80ea-5e300ae4ab91",
   "metadata": {},
   "outputs": [
    {
     "data": {
      "text/html": [
       "<div>                            <div id=\"7cc1e563-9419-4649-b439-a0867bfba626\" class=\"plotly-graph-div\" style=\"height:525px; width:100%;\"></div>            <script type=\"text/javascript\">                require([\"plotly\"], function(Plotly) {                    window.PLOTLYENV=window.PLOTLYENV || {};                                    if (document.getElementById(\"7cc1e563-9419-4649-b439-a0867bfba626\")) {                    Plotly.newPlot(                        \"7cc1e563-9419-4649-b439-a0867bfba626\",                        [{\"alignmentgroup\":\"True\",\"hovertemplate\":\"quarter=%{x}\\u003cbr\\u003en_occurences=%{y}\\u003cextra\\u003e\\u003c\\u002fextra\\u003e\",\"legendgroup\":\"\",\"marker\":{\"color\":\"#636efa\",\"pattern\":{\"shape\":\"\"}},\"name\":\"\",\"offsetgroup\":\"\",\"orientation\":\"v\",\"showlegend\":false,\"textposition\":\"auto\",\"x\":[\"2022Q2\",\"2022Q3\",\"2022Q4\",\"2023Q1\",\"2023Q2\",\"2023Q3\",\"2023Q4\",\"2024Q1\",\"2024Q2\",\"2024Q3\",\"2024Q4\"],\"xaxis\":\"x\",\"y\":[0.08666667062789202,0.02000000048428774,21.926667033694685,0.0533333346247673,458.7400156101212,540.7066840678453,585.9266840852797,445.19334476068616,318.59999930951744,352.40000877995044,248.62667097803205],\"yaxis\":\"y\",\"type\":\"bar\"}],                        {\"template\":{\"data\":{\"histogram2dcontour\":[{\"type\":\"histogram2dcontour\",\"colorbar\":{\"outlinewidth\":0,\"ticks\":\"\"},\"colorscale\":[[0.0,\"#0d0887\"],[0.1111111111111111,\"#46039f\"],[0.2222222222222222,\"#7201a8\"],[0.3333333333333333,\"#9c179e\"],[0.4444444444444444,\"#bd3786\"],[0.5555555555555556,\"#d8576b\"],[0.6666666666666666,\"#ed7953\"],[0.7777777777777778,\"#fb9f3a\"],[0.8888888888888888,\"#fdca26\"],[1.0,\"#f0f921\"]]}],\"choropleth\":[{\"type\":\"choropleth\",\"colorbar\":{\"outlinewidth\":0,\"ticks\":\"\"}}],\"histogram2d\":[{\"type\":\"histogram2d\",\"colorbar\":{\"outlinewidth\":0,\"ticks\":\"\"},\"colorscale\":[[0.0,\"#0d0887\"],[0.1111111111111111,\"#46039f\"],[0.2222222222222222,\"#7201a8\"],[0.3333333333333333,\"#9c179e\"],[0.4444444444444444,\"#bd3786\"],[0.5555555555555556,\"#d8576b\"],[0.6666666666666666,\"#ed7953\"],[0.7777777777777778,\"#fb9f3a\"],[0.8888888888888888,\"#fdca26\"],[1.0,\"#f0f921\"]]}],\"heatmap\":[{\"type\":\"heatmap\",\"colorbar\":{\"outlinewidth\":0,\"ticks\":\"\"},\"colorscale\":[[0.0,\"#0d0887\"],[0.1111111111111111,\"#46039f\"],[0.2222222222222222,\"#7201a8\"],[0.3333333333333333,\"#9c179e\"],[0.4444444444444444,\"#bd3786\"],[0.5555555555555556,\"#d8576b\"],[0.6666666666666666,\"#ed7953\"],[0.7777777777777778,\"#fb9f3a\"],[0.8888888888888888,\"#fdca26\"],[1.0,\"#f0f921\"]]}],\"heatmapgl\":[{\"type\":\"heatmapgl\",\"colorbar\":{\"outlinewidth\":0,\"ticks\":\"\"},\"colorscale\":[[0.0,\"#0d0887\"],[0.1111111111111111,\"#46039f\"],[0.2222222222222222,\"#7201a8\"],[0.3333333333333333,\"#9c179e\"],[0.4444444444444444,\"#bd3786\"],[0.5555555555555556,\"#d8576b\"],[0.6666666666666666,\"#ed7953\"],[0.7777777777777778,\"#fb9f3a\"],[0.8888888888888888,\"#fdca26\"],[1.0,\"#f0f921\"]]}],\"contourcarpet\":[{\"type\":\"contourcarpet\",\"colorbar\":{\"outlinewidth\":0,\"ticks\":\"\"}}],\"contour\":[{\"type\":\"contour\",\"colorbar\":{\"outlinewidth\":0,\"ticks\":\"\"},\"colorscale\":[[0.0,\"#0d0887\"],[0.1111111111111111,\"#46039f\"],[0.2222222222222222,\"#7201a8\"],[0.3333333333333333,\"#9c179e\"],[0.4444444444444444,\"#bd3786\"],[0.5555555555555556,\"#d8576b\"],[0.6666666666666666,\"#ed7953\"],[0.7777777777777778,\"#fb9f3a\"],[0.8888888888888888,\"#fdca26\"],[1.0,\"#f0f921\"]]}],\"surface\":[{\"type\":\"surface\",\"colorbar\":{\"outlinewidth\":0,\"ticks\":\"\"},\"colorscale\":[[0.0,\"#0d0887\"],[0.1111111111111111,\"#46039f\"],[0.2222222222222222,\"#7201a8\"],[0.3333333333333333,\"#9c179e\"],[0.4444444444444444,\"#bd3786\"],[0.5555555555555556,\"#d8576b\"],[0.6666666666666666,\"#ed7953\"],[0.7777777777777778,\"#fb9f3a\"],[0.8888888888888888,\"#fdca26\"],[1.0,\"#f0f921\"]]}],\"mesh3d\":[{\"type\":\"mesh3d\",\"colorbar\":{\"outlinewidth\":0,\"ticks\":\"\"}}],\"scatter\":[{\"fillpattern\":{\"fillmode\":\"overlay\",\"size\":10,\"solidity\":0.2},\"type\":\"scatter\"}],\"parcoords\":[{\"type\":\"parcoords\",\"line\":{\"colorbar\":{\"outlinewidth\":0,\"ticks\":\"\"}}}],\"scatterpolargl\":[{\"type\":\"scatterpolargl\",\"marker\":{\"colorbar\":{\"outlinewidth\":0,\"ticks\":\"\"}}}],\"bar\":[{\"error_x\":{\"color\":\"#2a3f5f\"},\"error_y\":{\"color\":\"#2a3f5f\"},\"marker\":{\"line\":{\"color\":\"#E5ECF6\",\"width\":0.5},\"pattern\":{\"fillmode\":\"overlay\",\"size\":10,\"solidity\":0.2}},\"type\":\"bar\"}],\"scattergeo\":[{\"type\":\"scattergeo\",\"marker\":{\"colorbar\":{\"outlinewidth\":0,\"ticks\":\"\"}}}],\"scatterpolar\":[{\"type\":\"scatterpolar\",\"marker\":{\"colorbar\":{\"outlinewidth\":0,\"ticks\":\"\"}}}],\"histogram\":[{\"marker\":{\"pattern\":{\"fillmode\":\"overlay\",\"size\":10,\"solidity\":0.2}},\"type\":\"histogram\"}],\"scattergl\":[{\"type\":\"scattergl\",\"marker\":{\"colorbar\":{\"outlinewidth\":0,\"ticks\":\"\"}}}],\"scatter3d\":[{\"type\":\"scatter3d\",\"line\":{\"colorbar\":{\"outlinewidth\":0,\"ticks\":\"\"}},\"marker\":{\"colorbar\":{\"outlinewidth\":0,\"ticks\":\"\"}}}],\"scattermapbox\":[{\"type\":\"scattermapbox\",\"marker\":{\"colorbar\":{\"outlinewidth\":0,\"ticks\":\"\"}}}],\"scatterternary\":[{\"type\":\"scatterternary\",\"marker\":{\"colorbar\":{\"outlinewidth\":0,\"ticks\":\"\"}}}],\"scattercarpet\":[{\"type\":\"scattercarpet\",\"marker\":{\"colorbar\":{\"outlinewidth\":0,\"ticks\":\"\"}}}],\"carpet\":[{\"aaxis\":{\"endlinecolor\":\"#2a3f5f\",\"gridcolor\":\"white\",\"linecolor\":\"white\",\"minorgridcolor\":\"white\",\"startlinecolor\":\"#2a3f5f\"},\"baxis\":{\"endlinecolor\":\"#2a3f5f\",\"gridcolor\":\"white\",\"linecolor\":\"white\",\"minorgridcolor\":\"white\",\"startlinecolor\":\"#2a3f5f\"},\"type\":\"carpet\"}],\"table\":[{\"cells\":{\"fill\":{\"color\":\"#EBF0F8\"},\"line\":{\"color\":\"white\"}},\"header\":{\"fill\":{\"color\":\"#C8D4E3\"},\"line\":{\"color\":\"white\"}},\"type\":\"table\"}],\"barpolar\":[{\"marker\":{\"line\":{\"color\":\"#E5ECF6\",\"width\":0.5},\"pattern\":{\"fillmode\":\"overlay\",\"size\":10,\"solidity\":0.2}},\"type\":\"barpolar\"}],\"pie\":[{\"automargin\":true,\"type\":\"pie\"}]},\"layout\":{\"autotypenumbers\":\"strict\",\"colorway\":[\"#636efa\",\"#EF553B\",\"#00cc96\",\"#ab63fa\",\"#FFA15A\",\"#19d3f3\",\"#FF6692\",\"#B6E880\",\"#FF97FF\",\"#FECB52\"],\"font\":{\"color\":\"#2a3f5f\"},\"hovermode\":\"closest\",\"hoverlabel\":{\"align\":\"left\"},\"paper_bgcolor\":\"white\",\"plot_bgcolor\":\"#E5ECF6\",\"polar\":{\"bgcolor\":\"#E5ECF6\",\"angularaxis\":{\"gridcolor\":\"white\",\"linecolor\":\"white\",\"ticks\":\"\"},\"radialaxis\":{\"gridcolor\":\"white\",\"linecolor\":\"white\",\"ticks\":\"\"}},\"ternary\":{\"bgcolor\":\"#E5ECF6\",\"aaxis\":{\"gridcolor\":\"white\",\"linecolor\":\"white\",\"ticks\":\"\"},\"baxis\":{\"gridcolor\":\"white\",\"linecolor\":\"white\",\"ticks\":\"\"},\"caxis\":{\"gridcolor\":\"white\",\"linecolor\":\"white\",\"ticks\":\"\"}},\"coloraxis\":{\"colorbar\":{\"outlinewidth\":0,\"ticks\":\"\"}},\"colorscale\":{\"sequential\":[[0.0,\"#0d0887\"],[0.1111111111111111,\"#46039f\"],[0.2222222222222222,\"#7201a8\"],[0.3333333333333333,\"#9c179e\"],[0.4444444444444444,\"#bd3786\"],[0.5555555555555556,\"#d8576b\"],[0.6666666666666666,\"#ed7953\"],[0.7777777777777778,\"#fb9f3a\"],[0.8888888888888888,\"#fdca26\"],[1.0,\"#f0f921\"]],\"sequentialminus\":[[0.0,\"#0d0887\"],[0.1111111111111111,\"#46039f\"],[0.2222222222222222,\"#7201a8\"],[0.3333333333333333,\"#9c179e\"],[0.4444444444444444,\"#bd3786\"],[0.5555555555555556,\"#d8576b\"],[0.6666666666666666,\"#ed7953\"],[0.7777777777777778,\"#fb9f3a\"],[0.8888888888888888,\"#fdca26\"],[1.0,\"#f0f921\"]],\"diverging\":[[0,\"#8e0152\"],[0.1,\"#c51b7d\"],[0.2,\"#de77ae\"],[0.3,\"#f1b6da\"],[0.4,\"#fde0ef\"],[0.5,\"#f7f7f7\"],[0.6,\"#e6f5d0\"],[0.7,\"#b8e186\"],[0.8,\"#7fbc41\"],[0.9,\"#4d9221\"],[1,\"#276419\"]]},\"xaxis\":{\"gridcolor\":\"white\",\"linecolor\":\"white\",\"ticks\":\"\",\"title\":{\"standoff\":15},\"zerolinecolor\":\"white\",\"automargin\":true,\"zerolinewidth\":2},\"yaxis\":{\"gridcolor\":\"white\",\"linecolor\":\"white\",\"ticks\":\"\",\"title\":{\"standoff\":15},\"zerolinecolor\":\"white\",\"automargin\":true,\"zerolinewidth\":2},\"scene\":{\"xaxis\":{\"backgroundcolor\":\"#E5ECF6\",\"gridcolor\":\"white\",\"linecolor\":\"white\",\"showbackground\":true,\"ticks\":\"\",\"zerolinecolor\":\"white\",\"gridwidth\":2},\"yaxis\":{\"backgroundcolor\":\"#E5ECF6\",\"gridcolor\":\"white\",\"linecolor\":\"white\",\"showbackground\":true,\"ticks\":\"\",\"zerolinecolor\":\"white\",\"gridwidth\":2},\"zaxis\":{\"backgroundcolor\":\"#E5ECF6\",\"gridcolor\":\"white\",\"linecolor\":\"white\",\"showbackground\":true,\"ticks\":\"\",\"zerolinecolor\":\"white\",\"gridwidth\":2}},\"shapedefaults\":{\"line\":{\"color\":\"#2a3f5f\"}},\"annotationdefaults\":{\"arrowcolor\":\"#2a3f5f\",\"arrowhead\":0,\"arrowwidth\":1},\"geo\":{\"bgcolor\":\"white\",\"landcolor\":\"#E5ECF6\",\"subunitcolor\":\"white\",\"showland\":true,\"showlakes\":true,\"lakecolor\":\"white\"},\"title\":{\"x\":0.05},\"mapbox\":{\"style\":\"light\"},\"margin\":{\"b\":0,\"l\":0,\"r\":0,\"t\":30}}},\"xaxis\":{\"anchor\":\"y\",\"domain\":[0.0,1.0],\"title\":{\"text\":\"quarter\"}},\"yaxis\":{\"anchor\":\"x\",\"domain\":[0.0,1.0],\"title\":{\"text\":\"n_occurences\"}},\"legend\":{\"tracegroupgap\":0},\"barmode\":\"relative\"},                        {\"responsive\": true}                    ).then(function(){\n",
       "                            \n",
       "var gd = document.getElementById('7cc1e563-9419-4649-b439-a0867bfba626');\n",
       "var x = new MutationObserver(function (mutations, observer) {{\n",
       "        var display = window.getComputedStyle(gd).display;\n",
       "        if (!display || display === 'none') {{\n",
       "            console.log([gd, 'removed!']);\n",
       "            Plotly.purge(gd);\n",
       "            observer.disconnect();\n",
       "        }}\n",
       "}});\n",
       "\n",
       "// Listen for the removal of the full notebook cells\n",
       "var notebookContainer = gd.closest('#notebook-container');\n",
       "if (notebookContainer) {{\n",
       "    x.observe(notebookContainer, {childList: true});\n",
       "}}\n",
       "\n",
       "// Listen for the clearing of the current output cell\n",
       "var outputEl = gd.closest('.output');\n",
       "if (outputEl) {{\n",
       "    x.observe(outputEl, {childList: true});\n",
       "}}\n",
       "\n",
       "                        })                };                });            </script>        </div>"
      ]
     },
     "metadata": {},
     "output_type": "display_data"
    }
   ],
   "source": [
    "# Arrays are 1 indexed in our sql data store\n",
    "df = pd.DataFrame(index.queryMeta(f\"\"\"\n",
    "SELECT quarter, sum(sum_topic_counts[{topic_id+1}]) as n_occurences\n",
    "FROM doc_meta GROUP \n",
    "BY quarter ORDER BY quarter\"\"\") )\n",
    "\n",
    "px.bar(df, x=\"quarter\", y=\"n_occurences\")"
   ]
  },
  {
   "cell_type": "markdown",
   "id": "2314d02b-87b0-42c1-a170-a02238aac866",
   "metadata": {},
   "source": [
    "#### Clearly this is a newer product line\n",
    "It seems to start in 2023Q2 and has been a pretty heavy focus since then. I can see in 2023Q4 it was a major focus. Let's bring up those examples"
   ]
  },
  {
   "cell_type": "code",
   "execution_count": 11,
   "id": "f2b2e731-8ebc-43ee-9156-7786c2e66c4f",
   "metadata": {},
   "outputs": [
    {
     "name": "stdout",
     "output_type": "stream",
     "text": [
      "Title: GOOG 2023Q4\n",
      "Published: 2023-10-24\n",
      "Content: I'll highlight more ways we're innovating with the best of Google AI as we double-click into our core business. In Retail, we had a great quarter. In a market where every dollar counts, our proven AI-powered solutions like Search and PMax are helping retailers drive reliable, strong ROI and meet customers wherever they are across the funnel. In Q3, we also started prepping retailers for what will be a long holiday season. Let me share some things. Number one, with a maximum number of days between Thanksgiving and Christmas and expectations for many micro peaks beyond Cyber-Five, we're arming businesses with insights and planning tools, including OptiScore and Performance Planner to uncover new opportunities, plan budgets and targets to stay competitive and be smarter with their inventory and pricing strategy. Number two. Consumer expectations are shifting, especially around price and convenience. We've seen 4x deals queries during the holidays versus other periods. 75% of users say they'll shop with those offering free shipping. Retailers are capitalizing on these trends with our differentiated merchant offerings like merchant promotions and fulfillment options. And we're making improvements to significantly boost the number of deals shown to shoppers in Search this holiday season. Look out for more in the coming days about new ways we'll help shoppers browse deals across the web this year.\n",
      "\n",
      "Title: META 2023Q4\n",
      "Published: 2023-10-25\n",
      "Content: Susan Li: Hi, thanks, Mark. I can take both of those. So your first question was around gen AI tools, especially for advertisers and you'll see that we have been increasingly testing these in our AI sandbox. And then as they become more mature, we incorporate them into our ads manager directly. We've incorporated them into some of our Advantage+ solutions. A few that I would highlight that we're rolling out this quarter are text variations, so generating multiple versions of ad text based on an advertiser's original copy that helps highlight the selling points of their products and services, giving them multiple text options to better reach their audience. Another one is image expansion, which helps adjust creative assets to fit different aspect ratios across multiple services like Feed or Reels. That allows advertisers to spend less time themselves trying to repurpose their creative assets in these different formats. Another one is background generation, creating multiple backgrounds to complement the advertisers' product images, allowing advertisers to tailor their creative assets for different audiences. And we're making this available actually through Advantage+ catalog ads. And so we really feel like we've introduced quite a lot of new ads products and features. You asked about the gen AI one specifically. So those are the ones I highlighted. We've actually introduced a number of others that are related to other dimensions of the ad creation experience that we expect will help improve our advertising performance, will help advertisers drive sales, especially over the holidays and especially in the Advantage+ shopping suite.\n",
      "\n",
      "Title: NVDA 2023Q4\n",
      "Published: 2023-11-21\n",
      "Content: Jensen Huang: Yeah. Thanks for the question. Grace Hopper is in production -- in high volume production now. We're expecting next year just with all of the design wins that we have in high performance computing and AI infrastructures, we are on a very, very fast ramp with our first data center CPU to a multi-billion dollar product line. This is going to be a very large product line for us. The capability of Grace Hopper is really quite spectacular. It has the ability to create computing nodes that simultaneously has very fast memory, as well as very large memory. In the areas of vector databases or semantic surge, what is called RAG, retrieval augmented generation. So that you could have a generative AI model be able to refer to proprietary data or a factual data before it generates a response, that data is quite large. And you can also have applications or generative models where the context length is very high. You basically store it in entire book into end-to-end system memory before you ask your questions. And so the context length can be quite large this way. The generative models has the ability to still be able to naturally interact with you on one hand. On the other hand, be able to refer to factual data, proprietary data or domain-specific data, you data and be contextually relevant and reduce hallucination.\n",
      "\n"
     ]
    }
   ],
   "source": [
    "docs = index.query(topic_id=topic_id, filters=\"quarter='2023Q4'\")[\"docs\"]\n",
    "for doc in docs[:3]:\n",
    "    print(\"Title:\", doc[\"metadata\"][\"title\"])\n",
    "    print(\"Published:\", doc[\"metadata\"][\"published\"])\n",
    "    print(\"Content:\", doc[\"text\"])\n",
    "    print(\"\")"
   ]
  },
  {
   "cell_type": "markdown",
   "id": "d2bf6c36-ffee-4a8c-a547-f32e170305aa",
   "metadata": {},
   "source": [
    "#### What's META doing there??\n",
    "I guess Google is not the only big AI advertiser in the market.\n",
    "\n",
    "Let's revisit our previous visualization. From the initial examples, I assumed google was the only company to whom this topic applied. But my old graphic was more of an industry analysis than a google based analysis. Let's this time stratify by company."
   ]
  },
  {
   "cell_type": "code",
   "execution_count": 12,
   "id": "7ff6ad3b-0387-47b1-ba35-43983f72b3b2",
   "metadata": {},
   "outputs": [
    {
     "name": "stderr",
     "output_type": "stream",
     "text": [
      "/Users/kian/miniconda3/envs/py11/lib/python3.11/site-packages/plotly/express/_core.py:2065: FutureWarning:\n",
      "\n",
      "When grouping with a length-1 list-like, you will need to pass a length-1 tuple to get_group in a future version of pandas. Pass `(name,)` instead of `name` to silence this warning.\n",
      "\n"
     ]
    },
    {
     "data": {
      "text/html": [
       "<div>                            <div id=\"fc122b38-1fe5-48db-bbd2-401a5b80e355\" class=\"plotly-graph-div\" style=\"height:525px; width:100%;\"></div>            <script type=\"text/javascript\">                require([\"plotly\"], function(Plotly) {                    window.PLOTLYENV=window.PLOTLYENV || {};                                    if (document.getElementById(\"fc122b38-1fe5-48db-bbd2-401a5b80e355\")) {                    Plotly.newPlot(                        \"fc122b38-1fe5-48db-bbd2-401a5b80e355\",                        [{\"alignmentgroup\":\"True\",\"hovertemplate\":\"ticker=NVDA\\u003cbr\\u003equarter=%{x}\\u003cbr\\u003en_occurences=%{y}\\u003cextra\\u003e\\u003c\\u002fextra\\u003e\",\"legendgroup\":\"NVDA\",\"marker\":{\"color\":\"#636efa\",\"pattern\":{\"shape\":\"\"}},\"name\":\"NVDA\",\"offsetgroup\":\"NVDA\",\"orientation\":\"v\",\"showlegend\":true,\"textposition\":\"auto\",\"x\":[\"2022Q2\",\"2022Q3\",\"2022Q4\",\"2023Q1\",\"2023Q2\",\"2023Q3\",\"2023Q4\",\"2024Q1\"],\"xaxis\":\"x\",\"y\":[0.08666667062789202,0.02000000048428774,0.006666666828095913,0.02000000048428774,0.0400000000372529,0.013333333656191826,0.273333334363997,0.0],\"yaxis\":\"y\",\"type\":\"bar\"},{\"alignmentgroup\":\"True\",\"hovertemplate\":\"ticker=MSFT\\u003cbr\\u003equarter=%{x}\\u003cbr\\u003en_occurences=%{y}\\u003cextra\\u003e\\u003c\\u002fextra\\u003e\",\"legendgroup\":\"MSFT\",\"marker\":{\"color\":\"#EF553B\",\"pattern\":{\"shape\":\"\"}},\"name\":\"MSFT\",\"offsetgroup\":\"MSFT\",\"orientation\":\"v\",\"showlegend\":true,\"textposition\":\"auto\",\"x\":[\"2022Q4\",\"2023Q1\",\"2023Q2\",\"2023Q3\",\"2023Q4\",\"2024Q1\",\"2024Q2\",\"2024Q3\"],\"xaxis\":\"x\",\"y\":[21.92000036686659,0.02666666731238365,0.006666666828095913,0.39333332888782024,0.07333333604037762,0.006666666828095913,0.22666666470468044,0.006666666828095913],\"yaxis\":\"y\",\"type\":\"bar\"},{\"alignmentgroup\":\"True\",\"hovertemplate\":\"ticker=AAPL\\u003cbr\\u003equarter=%{x}\\u003cbr\\u003en_occurences=%{y}\\u003cextra\\u003e\\u003c\\u002fextra\\u003e\",\"legendgroup\":\"AAPL\",\"marker\":{\"color\":\"#00cc96\",\"pattern\":{\"shape\":\"\"}},\"name\":\"AAPL\",\"offsetgroup\":\"AAPL\",\"orientation\":\"v\",\"showlegend\":true,\"textposition\":\"auto\",\"x\":[\"2023Q1\",\"2023Q2\",\"2023Q3\",\"2023Q4\",\"2024Q1\",\"2024Q2\",\"2024Q3\"],\"xaxis\":\"x\",\"y\":[0.006666666828095913,0.06666667014360428,0.026666666381061077,0.0,0.0,0.006666666828095913,0.02000000048428774],\"yaxis\":\"y\",\"type\":\"bar\"},{\"alignmentgroup\":\"True\",\"hovertemplate\":\"ticker=META\\u003cbr\\u003equarter=%{x}\\u003cbr\\u003en_occurences=%{y}\\u003cextra\\u003e\\u003c\\u002fextra\\u003e\",\"legendgroup\":\"META\",\"marker\":{\"color\":\"#ab63fa\",\"pattern\":{\"shape\":\"\"}},\"name\":\"META\",\"offsetgroup\":\"META\",\"orientation\":\"v\",\"showlegend\":true,\"textposition\":\"auto\",\"x\":[\"2023Q2\",\"2023Q3\",\"2023Q4\",\"2024Q1\",\"2024Q2\",\"2024Q3\",\"2024Q4\"],\"xaxis\":\"x\",\"y\":[0.28000001050531864,0.186666670255363,100.62666718102992,0.0,0.033333334140479565,0.02000000048428774,0.026666666381061077],\"yaxis\":\"y\",\"type\":\"bar\"},{\"alignmentgroup\":\"True\",\"hovertemplate\":\"ticker=GOOG\\u003cbr\\u003equarter=%{x}\\u003cbr\\u003en_occurences=%{y}\\u003cextra\\u003e\\u003c\\u002fextra\\u003e\",\"legendgroup\":\"GOOG\",\"marker\":{\"color\":\"#FFA15A\",\"pattern\":{\"shape\":\"\"}},\"name\":\"GOOG\",\"offsetgroup\":\"GOOG\",\"orientation\":\"v\",\"showlegend\":true,\"textposition\":\"auto\",\"x\":[\"2023Q2\",\"2023Q3\",\"2023Q4\",\"2024Q1\",\"2024Q2\",\"2024Q3\",\"2024Q4\"],\"xaxis\":\"x\",\"y\":[458.3466822626069,540.0866840686649,484.9533502338454,445.18667809385806,318.3333326438442,352.35334211215377,248.600004311651],\"yaxis\":\"y\",\"type\":\"bar\"}],                        {\"template\":{\"data\":{\"histogram2dcontour\":[{\"type\":\"histogram2dcontour\",\"colorbar\":{\"outlinewidth\":0,\"ticks\":\"\"},\"colorscale\":[[0.0,\"#0d0887\"],[0.1111111111111111,\"#46039f\"],[0.2222222222222222,\"#7201a8\"],[0.3333333333333333,\"#9c179e\"],[0.4444444444444444,\"#bd3786\"],[0.5555555555555556,\"#d8576b\"],[0.6666666666666666,\"#ed7953\"],[0.7777777777777778,\"#fb9f3a\"],[0.8888888888888888,\"#fdca26\"],[1.0,\"#f0f921\"]]}],\"choropleth\":[{\"type\":\"choropleth\",\"colorbar\":{\"outlinewidth\":0,\"ticks\":\"\"}}],\"histogram2d\":[{\"type\":\"histogram2d\",\"colorbar\":{\"outlinewidth\":0,\"ticks\":\"\"},\"colorscale\":[[0.0,\"#0d0887\"],[0.1111111111111111,\"#46039f\"],[0.2222222222222222,\"#7201a8\"],[0.3333333333333333,\"#9c179e\"],[0.4444444444444444,\"#bd3786\"],[0.5555555555555556,\"#d8576b\"],[0.6666666666666666,\"#ed7953\"],[0.7777777777777778,\"#fb9f3a\"],[0.8888888888888888,\"#fdca26\"],[1.0,\"#f0f921\"]]}],\"heatmap\":[{\"type\":\"heatmap\",\"colorbar\":{\"outlinewidth\":0,\"ticks\":\"\"},\"colorscale\":[[0.0,\"#0d0887\"],[0.1111111111111111,\"#46039f\"],[0.2222222222222222,\"#7201a8\"],[0.3333333333333333,\"#9c179e\"],[0.4444444444444444,\"#bd3786\"],[0.5555555555555556,\"#d8576b\"],[0.6666666666666666,\"#ed7953\"],[0.7777777777777778,\"#fb9f3a\"],[0.8888888888888888,\"#fdca26\"],[1.0,\"#f0f921\"]]}],\"heatmapgl\":[{\"type\":\"heatmapgl\",\"colorbar\":{\"outlinewidth\":0,\"ticks\":\"\"},\"colorscale\":[[0.0,\"#0d0887\"],[0.1111111111111111,\"#46039f\"],[0.2222222222222222,\"#7201a8\"],[0.3333333333333333,\"#9c179e\"],[0.4444444444444444,\"#bd3786\"],[0.5555555555555556,\"#d8576b\"],[0.6666666666666666,\"#ed7953\"],[0.7777777777777778,\"#fb9f3a\"],[0.8888888888888888,\"#fdca26\"],[1.0,\"#f0f921\"]]}],\"contourcarpet\":[{\"type\":\"contourcarpet\",\"colorbar\":{\"outlinewidth\":0,\"ticks\":\"\"}}],\"contour\":[{\"type\":\"contour\",\"colorbar\":{\"outlinewidth\":0,\"ticks\":\"\"},\"colorscale\":[[0.0,\"#0d0887\"],[0.1111111111111111,\"#46039f\"],[0.2222222222222222,\"#7201a8\"],[0.3333333333333333,\"#9c179e\"],[0.4444444444444444,\"#bd3786\"],[0.5555555555555556,\"#d8576b\"],[0.6666666666666666,\"#ed7953\"],[0.7777777777777778,\"#fb9f3a\"],[0.8888888888888888,\"#fdca26\"],[1.0,\"#f0f921\"]]}],\"surface\":[{\"type\":\"surface\",\"colorbar\":{\"outlinewidth\":0,\"ticks\":\"\"},\"colorscale\":[[0.0,\"#0d0887\"],[0.1111111111111111,\"#46039f\"],[0.2222222222222222,\"#7201a8\"],[0.3333333333333333,\"#9c179e\"],[0.4444444444444444,\"#bd3786\"],[0.5555555555555556,\"#d8576b\"],[0.6666666666666666,\"#ed7953\"],[0.7777777777777778,\"#fb9f3a\"],[0.8888888888888888,\"#fdca26\"],[1.0,\"#f0f921\"]]}],\"mesh3d\":[{\"type\":\"mesh3d\",\"colorbar\":{\"outlinewidth\":0,\"ticks\":\"\"}}],\"scatter\":[{\"fillpattern\":{\"fillmode\":\"overlay\",\"size\":10,\"solidity\":0.2},\"type\":\"scatter\"}],\"parcoords\":[{\"type\":\"parcoords\",\"line\":{\"colorbar\":{\"outlinewidth\":0,\"ticks\":\"\"}}}],\"scatterpolargl\":[{\"type\":\"scatterpolargl\",\"marker\":{\"colorbar\":{\"outlinewidth\":0,\"ticks\":\"\"}}}],\"bar\":[{\"error_x\":{\"color\":\"#2a3f5f\"},\"error_y\":{\"color\":\"#2a3f5f\"},\"marker\":{\"line\":{\"color\":\"#E5ECF6\",\"width\":0.5},\"pattern\":{\"fillmode\":\"overlay\",\"size\":10,\"solidity\":0.2}},\"type\":\"bar\"}],\"scattergeo\":[{\"type\":\"scattergeo\",\"marker\":{\"colorbar\":{\"outlinewidth\":0,\"ticks\":\"\"}}}],\"scatterpolar\":[{\"type\":\"scatterpolar\",\"marker\":{\"colorbar\":{\"outlinewidth\":0,\"ticks\":\"\"}}}],\"histogram\":[{\"marker\":{\"pattern\":{\"fillmode\":\"overlay\",\"size\":10,\"solidity\":0.2}},\"type\":\"histogram\"}],\"scattergl\":[{\"type\":\"scattergl\",\"marker\":{\"colorbar\":{\"outlinewidth\":0,\"ticks\":\"\"}}}],\"scatter3d\":[{\"type\":\"scatter3d\",\"line\":{\"colorbar\":{\"outlinewidth\":0,\"ticks\":\"\"}},\"marker\":{\"colorbar\":{\"outlinewidth\":0,\"ticks\":\"\"}}}],\"scattermapbox\":[{\"type\":\"scattermapbox\",\"marker\":{\"colorbar\":{\"outlinewidth\":0,\"ticks\":\"\"}}}],\"scatterternary\":[{\"type\":\"scatterternary\",\"marker\":{\"colorbar\":{\"outlinewidth\":0,\"ticks\":\"\"}}}],\"scattercarpet\":[{\"type\":\"scattercarpet\",\"marker\":{\"colorbar\":{\"outlinewidth\":0,\"ticks\":\"\"}}}],\"carpet\":[{\"aaxis\":{\"endlinecolor\":\"#2a3f5f\",\"gridcolor\":\"white\",\"linecolor\":\"white\",\"minorgridcolor\":\"white\",\"startlinecolor\":\"#2a3f5f\"},\"baxis\":{\"endlinecolor\":\"#2a3f5f\",\"gridcolor\":\"white\",\"linecolor\":\"white\",\"minorgridcolor\":\"white\",\"startlinecolor\":\"#2a3f5f\"},\"type\":\"carpet\"}],\"table\":[{\"cells\":{\"fill\":{\"color\":\"#EBF0F8\"},\"line\":{\"color\":\"white\"}},\"header\":{\"fill\":{\"color\":\"#C8D4E3\"},\"line\":{\"color\":\"white\"}},\"type\":\"table\"}],\"barpolar\":[{\"marker\":{\"line\":{\"color\":\"#E5ECF6\",\"width\":0.5},\"pattern\":{\"fillmode\":\"overlay\",\"size\":10,\"solidity\":0.2}},\"type\":\"barpolar\"}],\"pie\":[{\"automargin\":true,\"type\":\"pie\"}]},\"layout\":{\"autotypenumbers\":\"strict\",\"colorway\":[\"#636efa\",\"#EF553B\",\"#00cc96\",\"#ab63fa\",\"#FFA15A\",\"#19d3f3\",\"#FF6692\",\"#B6E880\",\"#FF97FF\",\"#FECB52\"],\"font\":{\"color\":\"#2a3f5f\"},\"hovermode\":\"closest\",\"hoverlabel\":{\"align\":\"left\"},\"paper_bgcolor\":\"white\",\"plot_bgcolor\":\"#E5ECF6\",\"polar\":{\"bgcolor\":\"#E5ECF6\",\"angularaxis\":{\"gridcolor\":\"white\",\"linecolor\":\"white\",\"ticks\":\"\"},\"radialaxis\":{\"gridcolor\":\"white\",\"linecolor\":\"white\",\"ticks\":\"\"}},\"ternary\":{\"bgcolor\":\"#E5ECF6\",\"aaxis\":{\"gridcolor\":\"white\",\"linecolor\":\"white\",\"ticks\":\"\"},\"baxis\":{\"gridcolor\":\"white\",\"linecolor\":\"white\",\"ticks\":\"\"},\"caxis\":{\"gridcolor\":\"white\",\"linecolor\":\"white\",\"ticks\":\"\"}},\"coloraxis\":{\"colorbar\":{\"outlinewidth\":0,\"ticks\":\"\"}},\"colorscale\":{\"sequential\":[[0.0,\"#0d0887\"],[0.1111111111111111,\"#46039f\"],[0.2222222222222222,\"#7201a8\"],[0.3333333333333333,\"#9c179e\"],[0.4444444444444444,\"#bd3786\"],[0.5555555555555556,\"#d8576b\"],[0.6666666666666666,\"#ed7953\"],[0.7777777777777778,\"#fb9f3a\"],[0.8888888888888888,\"#fdca26\"],[1.0,\"#f0f921\"]],\"sequentialminus\":[[0.0,\"#0d0887\"],[0.1111111111111111,\"#46039f\"],[0.2222222222222222,\"#7201a8\"],[0.3333333333333333,\"#9c179e\"],[0.4444444444444444,\"#bd3786\"],[0.5555555555555556,\"#d8576b\"],[0.6666666666666666,\"#ed7953\"],[0.7777777777777778,\"#fb9f3a\"],[0.8888888888888888,\"#fdca26\"],[1.0,\"#f0f921\"]],\"diverging\":[[0,\"#8e0152\"],[0.1,\"#c51b7d\"],[0.2,\"#de77ae\"],[0.3,\"#f1b6da\"],[0.4,\"#fde0ef\"],[0.5,\"#f7f7f7\"],[0.6,\"#e6f5d0\"],[0.7,\"#b8e186\"],[0.8,\"#7fbc41\"],[0.9,\"#4d9221\"],[1,\"#276419\"]]},\"xaxis\":{\"gridcolor\":\"white\",\"linecolor\":\"white\",\"ticks\":\"\",\"title\":{\"standoff\":15},\"zerolinecolor\":\"white\",\"automargin\":true,\"zerolinewidth\":2},\"yaxis\":{\"gridcolor\":\"white\",\"linecolor\":\"white\",\"ticks\":\"\",\"title\":{\"standoff\":15},\"zerolinecolor\":\"white\",\"automargin\":true,\"zerolinewidth\":2},\"scene\":{\"xaxis\":{\"backgroundcolor\":\"#E5ECF6\",\"gridcolor\":\"white\",\"linecolor\":\"white\",\"showbackground\":true,\"ticks\":\"\",\"zerolinecolor\":\"white\",\"gridwidth\":2},\"yaxis\":{\"backgroundcolor\":\"#E5ECF6\",\"gridcolor\":\"white\",\"linecolor\":\"white\",\"showbackground\":true,\"ticks\":\"\",\"zerolinecolor\":\"white\",\"gridwidth\":2},\"zaxis\":{\"backgroundcolor\":\"#E5ECF6\",\"gridcolor\":\"white\",\"linecolor\":\"white\",\"showbackground\":true,\"ticks\":\"\",\"zerolinecolor\":\"white\",\"gridwidth\":2}},\"shapedefaults\":{\"line\":{\"color\":\"#2a3f5f\"}},\"annotationdefaults\":{\"arrowcolor\":\"#2a3f5f\",\"arrowhead\":0,\"arrowwidth\":1},\"geo\":{\"bgcolor\":\"white\",\"landcolor\":\"#E5ECF6\",\"subunitcolor\":\"white\",\"showland\":true,\"showlakes\":true,\"lakecolor\":\"white\"},\"title\":{\"x\":0.05},\"mapbox\":{\"style\":\"light\"},\"margin\":{\"b\":0,\"l\":0,\"r\":0,\"t\":30}}},\"xaxis\":{\"anchor\":\"y\",\"domain\":[0.0,1.0],\"title\":{\"text\":\"quarter\"}},\"yaxis\":{\"anchor\":\"x\",\"domain\":[0.0,1.0],\"title\":{\"text\":\"n_occurences\"}},\"legend\":{\"title\":{\"text\":\"ticker\"},\"tracegroupgap\":0},\"barmode\":\"relative\"},                        {\"responsive\": true}                    ).then(function(){\n",
       "                            \n",
       "var gd = document.getElementById('fc122b38-1fe5-48db-bbd2-401a5b80e355');\n",
       "var x = new MutationObserver(function (mutations, observer) {{\n",
       "        var display = window.getComputedStyle(gd).display;\n",
       "        if (!display || display === 'none') {{\n",
       "            console.log([gd, 'removed!']);\n",
       "            Plotly.purge(gd);\n",
       "            observer.disconnect();\n",
       "        }}\n",
       "}});\n",
       "\n",
       "// Listen for the removal of the full notebook cells\n",
       "var notebookContainer = gd.closest('#notebook-container');\n",
       "if (notebookContainer) {{\n",
       "    x.observe(notebookContainer, {childList: true});\n",
       "}}\n",
       "\n",
       "// Listen for the clearing of the current output cell\n",
       "var outputEl = gd.closest('.output');\n",
       "if (outputEl) {{\n",
       "    x.observe(outputEl, {childList: true});\n",
       "}}\n",
       "\n",
       "                        })                };                });            </script>        </div>"
      ]
     },
     "metadata": {},
     "output_type": "display_data"
    }
   ],
   "source": [
    "# Arrays are 1 indexed in our sql data store\n",
    "df = pd.DataFrame(index.queryMeta(f\"\"\"\n",
    "SELECT quarter, ticker, sum(sum_topic_counts[{topic_id+1}]) as n_occurences\n",
    "FROM doc_meta \n",
    "GROUP BY quarter, ticker\n",
    "ORDER BY quarter\"\"\") )\n",
    "\n",
    "px.bar(df, x=\"quarter\", y=\"n_occurences\", color=\"ticker\").show()"
   ]
  },
  {
   "cell_type": "markdown",
   "id": "17c1ca84-376f-43bc-89d2-586db5bee21a",
   "metadata": {},
   "source": [
    "#### My initial assumption was not too far off. \n",
    "It's very interesting to see facebook starting to get in on the action. But this product line is clearly its not as interesting to meta's investors is it is Google's.\n"
   ]
  },
  {
   "cell_type": "markdown",
   "id": "c9f13138-7a45-4def-9a53-e58ad02fecbc",
   "metadata": {},
   "source": [
    "####  Lets compose our above work into some nice helper functions"
   ]
  },
  {
   "cell_type": "code",
   "execution_count": 13,
   "id": "b058366c-0085-4ff1-92d6-81b468af2f4f",
   "metadata": {},
   "outputs": [],
   "source": [
    "def topicOverTime(topic_id, ticker):\n",
    "    # Arrays are 1 indexed in our sql data store\n",
    "    df = pd.DataFrame(index.queryMeta(f\"\"\"\n",
    "    SELECT quarter, sum(sum_topic_counts[{topic_id+1}]) as n_occurences\n",
    "    FROM doc_meta \n",
    "    WHERE ticker='{ticker}'\n",
    "    GROUP BY quarter \n",
    "    ORDER BY quarter\"\"\") )\n",
    "    df[\"topic_id\"] = topic_id\n",
    "    return df\n",
    "\n",
    "def displayDocs(topic_id, quarter, ticker):\n",
    "    docs = index.query(topic_id=topic_id, filters=(f\"quarter='{quarter}' AND \" if quarter is not None else \"\") + f\"ticker='{ticker}'\")[\"docs\"]\n",
    "    for doc in docs[:3]:\n",
    "        print(\"Title:\", doc[\"metadata\"][\"title\"])\n",
    "        print(\"Published:\", doc[\"metadata\"][\"published\"])\n",
    "        print(\"Content:\", doc[\"text\"])\n",
    "        print(\"\")"
   ]
  },
  {
   "cell_type": "markdown",
   "id": "3c177bd7-eb2a-4cb7-b720-13b0ad2bb1d0",
   "metadata": {},
   "source": [
    "## Section 3: Corpus Level Analysis\n"
   ]
  },
  {
   "cell_type": "markdown",
   "id": "656aa143-3245-4a7e-9c9f-4c7533629d82",
   "metadata": {},
   "source": [
    "### Cross Quarter Comparison\n",
    "\n",
    "Instead of analyzing a topic across quarters, what if we could analyze quarters across topics. Specifically, let's answer the question: What was noteworthy about each quarter. This will provide us a much richer visualization as a jumping off point for as many topic specific analyses we could want."
   ]
  },
  {
   "cell_type": "code",
   "execution_count": 14,
   "id": "aa62c1ac-ff8f-4489-b820-2e976775e5e1",
   "metadata": {},
   "outputs": [
    {
     "name": "stderr",
     "output_type": "stream",
     "text": [
      "/Users/kian/miniconda3/envs/py11/lib/python3.11/site-packages/plotly/express/_core.py:2065: FutureWarning:\n",
      "\n",
      "When grouping with a length-1 list-like, you will need to pass a length-1 tuple to get_group in a future version of pandas. Pass `(name,)` instead of `name` to silence this warning.\n",
      "\n"
     ]
    },
    {
     "data": {
      "text/html": [
       "<div>                            <div id=\"327bc4ea-c241-4960-88fc-5ba630473280\" class=\"plotly-graph-div\" style=\"height:525px; width:100%;\"></div>            <script type=\"text/javascript\">                require([\"plotly\"], function(Plotly) {                    window.PLOTLYENV=window.PLOTLYENV || {};                                    if (document.getElementById(\"327bc4ea-c241-4960-88fc-5ba630473280\")) {                    Plotly.newPlot(                        \"327bc4ea-c241-4960-88fc-5ba630473280\",                        [{\"alignmentgroup\":\"True\",\"customdata\":[[\"AI Cloud Services\",42],[\"AI Cloud Services\",42],[\"AI Cloud Services\",42],[\"AI Cloud Services\",42],[\"AI Cloud Services\",42],[\"AI Cloud Services\",42],[\"AI Cloud Services\",42],[\"Advancements in AI Models\",26],[\"Advancements in AI Models\",26],[\"Advancements in AI Models\",26],[\"Advancements in AI Models\",26],[\"Advancements in AI Models\",26],[\"Advancements in AI Models\",26],[\"Advancements in AI Models\",26],[\"Generative AI Infrastructure\",57],[\"Generative AI Infrastructure\",57],[\"Generative AI Infrastructure\",57],[\"Generative AI Infrastructure\",57],[\"Generative AI Infrastructure\",57],[\"Generative AI Infrastructure\",57],[\"Generative AI Infrastructure\",57]],\"hovertemplate\":\"topic_group_short_title=AI Innovations\\u003cbr\\u003equarter=%{x}\\u003cbr\\u003en_occurences=%{y}\\u003cbr\\u003eshort_title=%{customdata[0]}\\u003cbr\\u003etopic_id=%{customdata[1]}\\u003cextra\\u003e\\u003c\\u002fextra\\u003e\",\"legendgroup\":\"AI Innovations\",\"marker\":{\"color\":\"#636efa\",\"pattern\":{\"shape\":\"\"}},\"name\":\"AI Innovations\",\"offsetgroup\":\"AI Innovations\",\"orientation\":\"v\",\"showlegend\":true,\"textposition\":\"auto\",\"x\":[\"2023Q2\",\"2023Q3\",\"2023Q4\",\"2024Q1\",\"2024Q2\",\"2024Q3\",\"2024Q4\",\"2023Q2\",\"2023Q3\",\"2023Q4\",\"2024Q1\",\"2024Q2\",\"2024Q3\",\"2024Q4\",\"2023Q2\",\"2023Q3\",\"2023Q4\",\"2024Q1\",\"2024Q2\",\"2024Q3\",\"2024Q4\"],\"xaxis\":\"x\",\"y\":[41.713335803709924,0.27999999653548,0.03333333320915699,2.093333368189633,0.6333333514630795,0.006666666828095913,2.8266667230054736,32.833333550952375,12.87333363853395,0.006666666828095913,1.0733333779498935,0.033333334140479565,0.013333333656191826,0.013333333656191826,364.12000927794725,450.7266804538667,323.4066808493808,347.30000645294785,453.59334348514676,463.6333467718214,377.3800070816651],\"yaxis\":\"y\",\"type\":\"bar\"},{\"alignmentgroup\":\"True\",\"customdata\":[[\"Cost Management and Reengineering\",191],[\"Cost Management and Reengineering\",191],[\"Cost Management and Reengineering\",191],[\"Cost Management and Reengineering\",191],[\"Cost Management and Reengineering\",191],[\"Cost Management and Reengineering\",191],[\"Cost Management and Reengineering\",191],[\"Operational Efficiency Strategies\",132],[\"Operational Efficiency Strategies\",132],[\"Operational Efficiency Strategies\",132],[\"Operational Efficiency Strategies\",132],[\"Operational Efficiency Strategies\",132],[\"Operational Efficiency Strategies\",132],[\"Operational Efficiency Strategies\",132],[\"Entertainment and Commitment\",41],[\"Entertainment and Commitment\",41],[\"Entertainment and Commitment\",41],[\"Entertainment and Commitment\",41],[\"Entertainment and Commitment\",41],[\"Entertainment and Commitment\",41],[\"Entertainment and Commitment\",41]],\"hovertemplate\":\"topic_group_short_title=Business Strategies\\u003cbr\\u003equarter=%{x}\\u003cbr\\u003en_occurences=%{y}\\u003cbr\\u003eshort_title=%{customdata[0]}\\u003cbr\\u003etopic_id=%{customdata[1]}\\u003cextra\\u003e\\u003c\\u002fextra\\u003e\",\"legendgroup\":\"Business Strategies\",\"marker\":{\"color\":\"#EF553B\",\"pattern\":{\"shape\":\"\"}},\"name\":\"Business Strategies\",\"offsetgroup\":\"Business Strategies\",\"orientation\":\"v\",\"showlegend\":true,\"textposition\":\"auto\",\"x\":[\"2023Q2\",\"2023Q3\",\"2023Q4\",\"2024Q1\",\"2024Q2\",\"2024Q3\",\"2024Q4\",\"2023Q2\",\"2023Q3\",\"2023Q4\",\"2024Q1\",\"2024Q2\",\"2024Q3\",\"2024Q4\",\"2023Q2\",\"2023Q3\",\"2023Q4\",\"2024Q1\",\"2024Q2\",\"2024Q3\",\"2024Q4\"],\"xaxis\":\"x\",\"y\":[392.1400083480403,266.8600045274943,345.99334385525435,425.90668100863695,374.63334322627634,342.8266689106822,261.8266734415665,0.0,41.40000031888485,0.0,12.866667133755982,52.62666775099933,0.0,0.0,0.02000000048428774,0.013333333656191826,0.49333334621042013,0.10666667018085718,0.013333333656191826,0.06666666641831398,29.080000490881503],\"yaxis\":\"y\",\"type\":\"bar\"},{\"alignmentgroup\":\"True\",\"customdata\":[[\"Microsoft 365 Renewals\",119],[\"Microsoft 365 Renewals\",119],[\"Microsoft 365 Renewals\",119],[\"Microsoft 365 Renewals\",119],[\"Microsoft 365 Renewals\",119],[\"Microsoft 365 Renewals\",119],[\"Microsoft 365 Renewals\",119],[\"Microsoft Business Solutions\",0],[\"Microsoft Business Solutions\",0],[\"Microsoft Business Solutions\",0],[\"Microsoft Business Solutions\",0],[\"Microsoft Business Solutions\",0],[\"Microsoft Business Solutions\",0],[\"Microsoft Business Solutions\",0]],\"hovertemplate\":\"topic_group_short_title=Microsoft Developments\\u003cbr\\u003equarter=%{x}\\u003cbr\\u003en_occurences=%{y}\\u003cbr\\u003eshort_title=%{customdata[0]}\\u003cbr\\u003etopic_id=%{customdata[1]}\\u003cextra\\u003e\\u003c\\u002fextra\\u003e\",\"legendgroup\":\"Microsoft Developments\",\"marker\":{\"color\":\"#00cc96\",\"pattern\":{\"shape\":\"\"}},\"name\":\"Microsoft Developments\",\"offsetgroup\":\"Microsoft Developments\",\"orientation\":\"v\",\"showlegend\":true,\"textposition\":\"auto\",\"x\":[\"2023Q2\",\"2023Q3\",\"2023Q4\",\"2024Q1\",\"2024Q2\",\"2024Q3\",\"2024Q4\",\"2023Q2\",\"2023Q3\",\"2023Q4\",\"2024Q1\",\"2024Q2\",\"2024Q3\",\"2024Q4\"],\"xaxis\":\"x\",\"y\":[20.813333803787827,0.006666666828095913,0.18000000528991222,6.106666954234242,0.04666666779667139,0.26666666753590107,0.006666666828095913,37.63333389442414,34.47333448193967,0.0,0.033333334140479565,0.12000000290572643,36.43333372846246,54.49333475716412],\"yaxis\":\"y\",\"type\":\"bar\"},{\"alignmentgroup\":\"True\",\"customdata\":[[\"Consumer Trends in China\",98],[\"Consumer Trends in China\",98],[\"Consumer Trends in China\",98],[\"Consumer Trends in China\",98],[\"Consumer Trends in China\",98],[\"Consumer Trends in China\",98],[\"Consumer Trends in China\",98],[\"CapEx Investment Trends\",150],[\"CapEx Investment Trends\",150],[\"CapEx Investment Trends\",150],[\"CapEx Investment Trends\",150],[\"CapEx Investment Trends\",150],[\"CapEx Investment Trends\",150],[\"CapEx Investment Trends\",150],[\"Market Dynamics and Opportunities\",72],[\"Market Dynamics and Opportunities\",72],[\"Market Dynamics and Opportunities\",72],[\"Market Dynamics and Opportunities\",72],[\"Market Dynamics and Opportunities\",72],[\"Market Dynamics and Opportunities\",72],[\"Market Dynamics and Opportunities\",72]],\"hovertemplate\":\"topic_group_short_title=Market Dynamics\\u003cbr\\u003equarter=%{x}\\u003cbr\\u003en_occurences=%{y}\\u003cbr\\u003eshort_title=%{customdata[0]}\\u003cbr\\u003etopic_id=%{customdata[1]}\\u003cextra\\u003e\\u003c\\u002fextra\\u003e\",\"legendgroup\":\"Market Dynamics\",\"marker\":{\"color\":\"#ab63fa\",\"pattern\":{\"shape\":\"\"}},\"name\":\"Market Dynamics\",\"offsetgroup\":\"Market Dynamics\",\"orientation\":\"v\",\"showlegend\":true,\"textposition\":\"auto\",\"x\":[\"2023Q2\",\"2023Q3\",\"2023Q4\",\"2024Q1\",\"2024Q2\",\"2024Q3\",\"2024Q4\",\"2023Q2\",\"2023Q3\",\"2023Q4\",\"2024Q1\",\"2024Q2\",\"2024Q3\",\"2024Q4\",\"2023Q2\",\"2023Q3\",\"2023Q4\",\"2024Q1\",\"2024Q2\",\"2024Q3\",\"2024Q4\"],\"xaxis\":\"x\",\"y\":[22.780000901781023,0.22000000718981028,0.09333333559334278,0.08666666503995657,0.12666666880249977,1.9400000153109431,19.99333289451897,0.0,0.0,0.0,48.67333424463868,29.386667359620333,0.03333333507180214,0.006666666828095913,9.080000085756183,0.006666666828095913,0.006666666828095913,6.820000227540731,2.706666747108102,13.200000538490713,23.333333711139858],\"yaxis\":\"y\",\"type\":\"bar\"},{\"alignmentgroup\":\"True\",\"customdata\":[[\"Gross Margin Dynamics\",167],[\"Gross Margin Dynamics\",167],[\"Gross Margin Dynamics\",167],[\"Gross Margin Dynamics\",167],[\"Gross Margin Dynamics\",167],[\"Gross Margin Dynamics\",167],[\"Gross Margin Dynamics\",167],[\"Leadership Transition and Investment\",185],[\"Leadership Transition and Investment\",185],[\"Leadership Transition and Investment\",185],[\"Leadership Transition and Investment\",185],[\"Leadership Transition and Investment\",185],[\"Leadership Transition and Investment\",185],[\"Leadership Transition and Investment\",185],[\"Financial Performance Metrics\",134],[\"Financial Performance Metrics\",134],[\"Financial Performance Metrics\",134],[\"Financial Performance Metrics\",134],[\"Financial Performance Metrics\",134],[\"Financial Performance Metrics\",134],[\"Financial Performance Metrics\",134],[\"Shareholder Returns\",47],[\"Shareholder Returns\",47],[\"Shareholder Returns\",47],[\"Shareholder Returns\",47],[\"Shareholder Returns\",47],[\"Shareholder Returns\",47],[\"Shareholder Returns\",47],[\"Google Revenue Growth\",102],[\"Google Revenue Growth\",102],[\"Google Revenue Growth\",102],[\"Google Revenue Growth\",102],[\"Google Revenue Growth\",102],[\"Google Revenue Growth\",102],[\"Google Revenue Growth\",102]],\"hovertemplate\":\"topic_group_short_title=Financial Performance\\u003cbr\\u003equarter=%{x}\\u003cbr\\u003en_occurences=%{y}\\u003cbr\\u003eshort_title=%{customdata[0]}\\u003cbr\\u003etopic_id=%{customdata[1]}\\u003cextra\\u003e\\u003c\\u002fextra\\u003e\",\"legendgroup\":\"Financial Performance\",\"marker\":{\"color\":\"#FFA15A\",\"pattern\":{\"shape\":\"\"}},\"name\":\"Financial Performance\",\"offsetgroup\":\"Financial Performance\",\"orientation\":\"v\",\"showlegend\":true,\"textposition\":\"auto\",\"x\":[\"2023Q2\",\"2023Q3\",\"2023Q4\",\"2024Q1\",\"2024Q2\",\"2024Q3\",\"2024Q4\",\"2023Q2\",\"2023Q3\",\"2023Q4\",\"2024Q1\",\"2024Q2\",\"2024Q3\",\"2024Q4\",\"2023Q2\",\"2023Q3\",\"2023Q4\",\"2024Q1\",\"2024Q2\",\"2024Q3\",\"2024Q4\",\"2023Q2\",\"2023Q3\",\"2023Q4\",\"2024Q1\",\"2024Q2\",\"2024Q3\",\"2024Q4\",\"2023Q2\",\"2023Q3\",\"2023Q4\",\"2024Q1\",\"2024Q2\",\"2024Q3\",\"2024Q4\"],\"xaxis\":\"x\",\"y\":[30.053333989344537,0.033333334140479565,0.0,0.013333333656191826,0.0400000000372529,0.0,0.013333333656191826,61.31333427038044,153.90000354126096,1.0133333252742887,0.0,0.013333333656191826,148.66000278200954,0.5466666985303164,31.339999823831022,54.553334715776145,69.72666739113629,35.44000043999404,50.58666615746915,44.37333567533642,52.75999967008829,0.0,0.02000000048428774,0.0,0.0,20.499999936670065,0.006666666828095913,22.893333417363465,336.6066764285788,388.3200085470453,376.58667427208275,384.7333434028551,447.52668139059097,543.9333439543843,392.2200033245608],\"yaxis\":\"y\",\"type\":\"bar\"},{\"alignmentgroup\":\"True\",\"customdata\":[[\"AI-Powered Retail Advertising\",77],[\"AI-Powered Retail Advertising\",77],[\"AI-Powered Retail Advertising\",77],[\"AI-Powered Retail Advertising\",77],[\"AI-Powered Retail Advertising\",77],[\"AI-Powered Retail Advertising\",77],[\"AI-Powered Retail Advertising\",77],[\"Generative AI for Ads\",173],[\"Generative AI for Ads\",173],[\"Generative AI for Ads\",173],[\"Generative AI for Ads\",173],[\"Generative AI for Ads\",173],[\"Generative AI for Ads\",173],[\"Generative AI for Ads\",173],[\"AI Programming Features\",111],[\"AI Programming Features\",111],[\"AI Programming Features\",111],[\"AI Programming Features\",111],[\"AI Programming Features\",111],[\"AI Programming Features\",111],[\"AI Programming Features\",111],[\"AI in Search Experience\",124],[\"AI in Search Experience\",124],[\"AI in Search Experience\",124],[\"AI in Search Experience\",124],[\"AI in Search Experience\",124],[\"AI in Search Experience\",124],[\"AI in Search Experience\",124],[\"AI Interaction and Engagement\",32],[\"AI Interaction and Engagement\",32],[\"AI Interaction and Engagement\",32],[\"AI Interaction and Engagement\",32],[\"AI Interaction and Engagement\",32],[\"AI Interaction and Engagement\",32],[\"AI Interaction and Engagement\",32],[\"AI Investment Strategy\",73],[\"AI Investment Strategy\",73],[\"AI Investment Strategy\",73],[\"AI Investment Strategy\",73],[\"AI Investment Strategy\",73],[\"AI Investment Strategy\",73],[\"AI Investment Strategy\",73]],\"hovertemplate\":\"topic_group_short_title=Artificial Intelligence\\u003cbr\\u003equarter=%{x}\\u003cbr\\u003en_occurences=%{y}\\u003cbr\\u003eshort_title=%{customdata[0]}\\u003cbr\\u003etopic_id=%{customdata[1]}\\u003cextra\\u003e\\u003c\\u002fextra\\u003e\",\"legendgroup\":\"Artificial Intelligence\",\"marker\":{\"color\":\"#19d3f3\",\"pattern\":{\"shape\":\"\"}},\"name\":\"Artificial Intelligence\",\"offsetgroup\":\"Artificial Intelligence\",\"orientation\":\"v\",\"showlegend\":true,\"textposition\":\"auto\",\"x\":[\"2023Q2\",\"2023Q3\",\"2023Q4\",\"2024Q1\",\"2024Q2\",\"2024Q3\",\"2024Q4\",\"2023Q2\",\"2023Q3\",\"2023Q4\",\"2024Q1\",\"2024Q2\",\"2024Q3\",\"2024Q4\",\"2023Q2\",\"2023Q3\",\"2023Q4\",\"2024Q1\",\"2024Q2\",\"2024Q3\",\"2024Q4\",\"2023Q2\",\"2023Q3\",\"2023Q4\",\"2024Q1\",\"2024Q2\",\"2024Q3\",\"2024Q4\",\"2023Q2\",\"2023Q3\",\"2023Q4\",\"2024Q1\",\"2024Q2\",\"2024Q3\",\"2024Q4\",\"2023Q2\",\"2023Q3\",\"2023Q4\",\"2024Q1\",\"2024Q2\",\"2024Q3\",\"2024Q4\"],\"xaxis\":\"x\",\"y\":[458.3466822626069,540.0866840686649,484.9533502338454,445.18667809385806,318.3333326438442,352.35334211215377,248.600004311651,12.48000034596771,36.14000008814037,0.0,23.453333894722164,6.693333560600877,0.0,0.0,11.473333830013871,29.800000595860183,10.040000376291573,0.03333333320915699,0.0,0.0,0.006666666828095913,246.28667223732919,394.40000681299716,340.1200071917847,353.17334112431854,364.2333433367312,243.21333899255842,503.993352255784,0.02000000048428774,0.013333333656191826,49.72666790243238,0.0,0.02000000048428774,15.973333985544741,0.2600000100210309,1.3399999905377626,0.4133333368226886,0.0,0.0533333346247673,26.020000224933028,54.60000127740204,0.006666666828095913],\"yaxis\":\"y\",\"type\":\"bar\"},{\"alignmentgroup\":\"True\",\"customdata\":[[\"Cloud Investment Strategy\",21],[\"Cloud Investment Strategy\",21],[\"Cloud Investment Strategy\",21],[\"Cloud Investment Strategy\",21],[\"Cloud Investment Strategy\",21],[\"Cloud Investment Strategy\",21],[\"Cloud Investment Strategy\",21],[\"CapEx and Data Center Investments\",145],[\"CapEx and Data Center Investments\",145],[\"CapEx and Data Center Investments\",145],[\"CapEx and Data Center Investments\",145],[\"CapEx and Data Center Investments\",145],[\"CapEx and Data Center Investments\",145],[\"CapEx and Data Center Investments\",145],[\"Public Cloud Profitability\",18],[\"Public Cloud Profitability\",18],[\"Public Cloud Profitability\",18],[\"Public Cloud Profitability\",18],[\"Public Cloud Profitability\",18],[\"Public Cloud Profitability\",18],[\"Public Cloud Profitability\",18],[\"Microsoft Cloud Migration\",62],[\"Microsoft Cloud Migration\",62],[\"Microsoft Cloud Migration\",62],[\"Microsoft Cloud Migration\",62],[\"Microsoft Cloud Migration\",62],[\"Microsoft Cloud Migration\",62],[\"Microsoft Cloud Migration\",62]],\"hovertemplate\":\"topic_group_short_title=Cloud and Infrastructure\\u003cbr\\u003equarter=%{x}\\u003cbr\\u003en_occurences=%{y}\\u003cbr\\u003eshort_title=%{customdata[0]}\\u003cbr\\u003etopic_id=%{customdata[1]}\\u003cextra\\u003e\\u003c\\u002fextra\\u003e\",\"legendgroup\":\"Cloud and Infrastructure\",\"marker\":{\"color\":\"#FF6692\",\"pattern\":{\"shape\":\"\"}},\"name\":\"Cloud and Infrastructure\",\"offsetgroup\":\"Cloud and Infrastructure\",\"orientation\":\"v\",\"showlegend\":true,\"textposition\":\"auto\",\"x\":[\"2023Q2\",\"2023Q3\",\"2023Q4\",\"2024Q1\",\"2024Q2\",\"2024Q3\",\"2024Q4\",\"2023Q2\",\"2023Q3\",\"2023Q4\",\"2024Q1\",\"2024Q2\",\"2024Q3\",\"2024Q4\",\"2023Q2\",\"2023Q3\",\"2023Q4\",\"2024Q1\",\"2024Q2\",\"2024Q3\",\"2024Q4\",\"2023Q2\",\"2023Q3\",\"2023Q4\",\"2024Q1\",\"2024Q2\",\"2024Q3\",\"2024Q4\"],\"xaxis\":\"x\",\"y\":[165.20666788052768,82.24000179488212,0.006666666828095913,44.52000084146857,1.3066666666418314,0.10000000521540642,0.013333333656191826,72.51333474460989,84.68000150099397,0.03333333507180214,0.006666666828095913,0.006666666828095913,0.006666666828095913,108.42000137921423,70.50000120978802,0.006666666828095913,0.02666666731238365,0.006666666828095913,0.20666667260229588,0.0,0.006666666828095913,0.060000001452863216,0.07333333510905504,0.4066666830331087,1.5933333579450846,22.71999990195036,28.973333905451,0.08666666690260172],\"yaxis\":\"y\",\"type\":\"bar\"},{\"alignmentgroup\":\"True\",\"customdata\":[[\"Regulatory Landscape Impact\",34],[\"Regulatory Landscape Impact\",34],[\"Regulatory Landscape Impact\",34],[\"Regulatory Landscape Impact\",34],[\"Regulatory Landscape Impact\",34],[\"Regulatory Landscape Impact\",34],[\"Regulatory Landscape Impact\",34]],\"hovertemplate\":\"topic_group_short_title=Market Trends\\u003cbr\\u003equarter=%{x}\\u003cbr\\u003en_occurences=%{y}\\u003cbr\\u003eshort_title=%{customdata[0]}\\u003cbr\\u003etopic_id=%{customdata[1]}\\u003cextra\\u003e\\u003c\\u002fextra\\u003e\",\"legendgroup\":\"Market Trends\",\"marker\":{\"color\":\"#B6E880\",\"pattern\":{\"shape\":\"\"}},\"name\":\"Market Trends\",\"offsetgroup\":\"Market Trends\",\"orientation\":\"v\",\"showlegend\":true,\"textposition\":\"auto\",\"x\":[\"2023Q2\",\"2023Q3\",\"2023Q4\",\"2024Q1\",\"2024Q2\",\"2024Q3\",\"2024Q4\"],\"xaxis\":\"x\",\"y\":[32.21333401277661,0.1133333370089531,1.1533333789557219,0.18666667398065329,12.393333503976464,5.773333633318543,0.013333333656191826],\"yaxis\":\"y\",\"type\":\"bar\"},{\"alignmentgroup\":\"True\",\"customdata\":[[\"Open Source Innovations\",25],[\"Open Source Innovations\",25],[\"Open Source Innovations\",25],[\"Open Source Innovations\",25],[\"Open Source Innovations\",25],[\"Open Source Innovations\",25],[\"Open Source Innovations\",25],[\"Cybersecurity Innovations\",11],[\"Cybersecurity Innovations\",11],[\"Cybersecurity Innovations\",11],[\"Cybersecurity Innovations\",11],[\"Cybersecurity Innovations\",11],[\"Cybersecurity Innovations\",11],[\"Cybersecurity Innovations\",11],[\"AI in Consumer Devices\",87],[\"AI in Consumer Devices\",87],[\"AI in Consumer Devices\",87],[\"AI in Consumer Devices\",87],[\"AI in Consumer Devices\",87],[\"AI in Consumer Devices\",87],[\"AI in Consumer Devices\",87],[\"Innovation in Technology\",37],[\"Innovation in Technology\",37],[\"Innovation in Technology\",37],[\"Innovation in Technology\",37],[\"Innovation in Technology\",37],[\"Innovation in Technology\",37],[\"Innovation in Technology\",37]],\"hovertemplate\":\"topic_group_short_title=Technology and Innovation\\u003cbr\\u003equarter=%{x}\\u003cbr\\u003en_occurences=%{y}\\u003cbr\\u003eshort_title=%{customdata[0]}\\u003cbr\\u003etopic_id=%{customdata[1]}\\u003cextra\\u003e\\u003c\\u002fextra\\u003e\",\"legendgroup\":\"Technology and Innovation\",\"marker\":{\"color\":\"#FF97FF\",\"pattern\":{\"shape\":\"\"}},\"name\":\"Technology and Innovation\",\"offsetgroup\":\"Technology and Innovation\",\"orientation\":\"v\",\"showlegend\":true,\"textposition\":\"auto\",\"x\":[\"2023Q2\",\"2023Q3\",\"2023Q4\",\"2024Q1\",\"2024Q2\",\"2024Q3\",\"2024Q4\",\"2023Q2\",\"2023Q3\",\"2023Q4\",\"2024Q1\",\"2024Q2\",\"2024Q3\",\"2024Q4\",\"2023Q2\",\"2023Q3\",\"2023Q4\",\"2024Q1\",\"2024Q2\",\"2024Q3\",\"2024Q4\",\"2023Q2\",\"2023Q3\",\"2023Q4\",\"2024Q1\",\"2024Q2\",\"2024Q3\",\"2024Q4\"],\"xaxis\":\"x\",\"y\":[0.1266666715964675,33.78666744288057,1.0266666803508997,0.12666667066514492,0.033333334140479565,0.006666666828095913,0.02666666731238365,29.18666659668088,39.22000117786229,48.86666757799685,25.920001261867583,27.226667013950646,42.600000775419176,39.94000038411468,35.9333334043622,0.006666666828095913,204.42000357434154,305.51334231719375,253.2000037720427,169.79333934932947,414.91333976760507,538.4000105736777,486.7733460208401,399.6333465920761,362.66667558811605,537.413349730894,588.3800133643672,595.1600180827081],\"yaxis\":\"y\",\"type\":\"bar\"},{\"alignmentgroup\":\"True\",\"customdata\":[[\"Autonomous Ride-Hailing Expansion\",69],[\"Autonomous Ride-Hailing Expansion\",69],[\"Autonomous Ride-Hailing Expansion\",69],[\"Autonomous Ride-Hailing Expansion\",69],[\"Autonomous Ride-Hailing Expansion\",69],[\"Autonomous Ride-Hailing Expansion\",69],[\"Autonomous Ride-Hailing Expansion\",69]],\"hovertemplate\":\"topic_group_short_title=Other\\u003cbr\\u003equarter=%{x}\\u003cbr\\u003en_occurences=%{y}\\u003cbr\\u003eshort_title=%{customdata[0]}\\u003cbr\\u003etopic_id=%{customdata[1]}\\u003cextra\\u003e\\u003c\\u002fextra\\u003e\",\"legendgroup\":\"Other\",\"marker\":{\"color\":\"#FECB52\",\"pattern\":{\"shape\":\"\"}},\"name\":\"Other\",\"offsetgroup\":\"Other\",\"orientation\":\"v\",\"showlegend\":true,\"textposition\":\"auto\",\"x\":[\"2023Q2\",\"2023Q3\",\"2023Q4\",\"2024Q1\",\"2024Q2\",\"2024Q3\",\"2024Q4\"],\"xaxis\":\"x\",\"y\":[0.09333333186805248,0.02000000048428774,57.23333390802145,24.97333391290158,23.999999655410647,70.52000384032726,148.71333604957908],\"yaxis\":\"y\",\"type\":\"bar\"},{\"alignmentgroup\":\"True\",\"customdata\":[[\"Teleconference Q&A Sessions\",95],[\"Teleconference Q&A Sessions\",95],[\"Teleconference Q&A Sessions\",95],[\"Teleconference Q&A Sessions\",95],[\"Teleconference Q&A Sessions\",95],[\"Teleconference Q&A Sessions\",95],[\"Teleconference Q&A Sessions\",95]],\"hovertemplate\":\"topic_group_short_title=Investor Relations\\u003cbr\\u003equarter=%{x}\\u003cbr\\u003en_occurences=%{y}\\u003cbr\\u003eshort_title=%{customdata[0]}\\u003cbr\\u003etopic_id=%{customdata[1]}\\u003cextra\\u003e\\u003c\\u002fextra\\u003e\",\"legendgroup\":\"Investor Relations\",\"marker\":{\"color\":\"#636efa\",\"pattern\":{\"shape\":\"\"}},\"name\":\"Investor Relations\",\"offsetgroup\":\"Investor Relations\",\"orientation\":\"v\",\"showlegend\":true,\"textposition\":\"auto\",\"x\":[\"2023Q2\",\"2023Q3\",\"2023Q4\",\"2024Q1\",\"2024Q2\",\"2024Q3\",\"2024Q4\"],\"xaxis\":\"x\",\"y\":[39.60000027809292,46.78666741680354,61.9400007519871,38.78666727337986,41.96666770149022,58.22000129614025,62.72000149637461],\"yaxis\":\"y\",\"type\":\"bar\"},{\"alignmentgroup\":\"True\",\"customdata\":[[\"Investor Inquiries\",154],[\"Investor Inquiries\",154],[\"Investor Inquiries\",154],[\"Investor Inquiries\",154],[\"Investor Inquiries\",154],[\"Investor Inquiries\",154],[\"Investor Inquiries\",154]],\"hovertemplate\":\"topic_group_short_title=Earnings and Investor Relations\\u003cbr\\u003equarter=%{x}\\u003cbr\\u003en_occurences=%{y}\\u003cbr\\u003eshort_title=%{customdata[0]}\\u003cbr\\u003etopic_id=%{customdata[1]}\\u003cextra\\u003e\\u003c\\u002fextra\\u003e\",\"legendgroup\":\"Earnings and Investor Relations\",\"marker\":{\"color\":\"#EF553B\",\"pattern\":{\"shape\":\"\"}},\"name\":\"Earnings and Investor Relations\",\"offsetgroup\":\"Earnings and Investor Relations\",\"orientation\":\"v\",\"showlegend\":true,\"textposition\":\"auto\",\"x\":[\"2023Q2\",\"2023Q3\",\"2023Q4\",\"2024Q1\",\"2024Q2\",\"2024Q3\",\"2024Q4\"],\"xaxis\":\"x\",\"y\":[123.62667055241764,191.4866724247113,215.70667521841824,136.65333582647145,163.18667043745518,228.68667268939316,267.52000618726015],\"yaxis\":\"y\",\"type\":\"bar\"},{\"alignmentgroup\":\"True\",\"customdata\":[[\"YouTube Monetization Strategies\",84],[\"YouTube Monetization Strategies\",84],[\"YouTube Monetization Strategies\",84],[\"YouTube Monetization Strategies\",84],[\"YouTube Monetization Strategies\",84],[\"YouTube Monetization Strategies\",84],[\"YouTube Monetization Strategies\",84],[\"Advantage+ Ad Solutions\",86],[\"Advantage+ Ad Solutions\",86],[\"Advantage+ Ad Solutions\",86],[\"Advantage+ Ad Solutions\",86],[\"Advantage+ Ad Solutions\",86],[\"Advantage+ Ad Solutions\",86],[\"Advantage+ Ad Solutions\",86]],\"hovertemplate\":\"topic_group_short_title=Gaming and Entertainment\\u003cbr\\u003equarter=%{x}\\u003cbr\\u003en_occurences=%{y}\\u003cbr\\u003eshort_title=%{customdata[0]}\\u003cbr\\u003etopic_id=%{customdata[1]}\\u003cextra\\u003e\\u003c\\u002fextra\\u003e\",\"legendgroup\":\"Gaming and Entertainment\",\"marker\":{\"color\":\"#00cc96\",\"pattern\":{\"shape\":\"\"}},\"name\":\"Gaming and Entertainment\",\"offsetgroup\":\"Gaming and Entertainment\",\"orientation\":\"v\",\"showlegend\":true,\"textposition\":\"auto\",\"x\":[\"2023Q2\",\"2023Q3\",\"2023Q4\",\"2024Q1\",\"2024Q2\",\"2024Q3\",\"2024Q4\",\"2023Q2\",\"2023Q3\",\"2023Q4\",\"2024Q1\",\"2024Q2\",\"2024Q3\",\"2024Q4\"],\"xaxis\":\"x\",\"y\":[375.32001160737127,257.3066705306992,360.00001314189285,568.5533474050462,398.8266787417233,287.8466735072434,304.7533390931785,0.11333333142101765,0.06666666734963655,0.013333333656191826,0.08000000286847353,3.4133333852514625,28.98666731826961,0.03333333507180214],\"yaxis\":\"y\",\"type\":\"bar\"}],                        {\"template\":{\"data\":{\"histogram2dcontour\":[{\"type\":\"histogram2dcontour\",\"colorbar\":{\"outlinewidth\":0,\"ticks\":\"\"},\"colorscale\":[[0.0,\"#0d0887\"],[0.1111111111111111,\"#46039f\"],[0.2222222222222222,\"#7201a8\"],[0.3333333333333333,\"#9c179e\"],[0.4444444444444444,\"#bd3786\"],[0.5555555555555556,\"#d8576b\"],[0.6666666666666666,\"#ed7953\"],[0.7777777777777778,\"#fb9f3a\"],[0.8888888888888888,\"#fdca26\"],[1.0,\"#f0f921\"]]}],\"choropleth\":[{\"type\":\"choropleth\",\"colorbar\":{\"outlinewidth\":0,\"ticks\":\"\"}}],\"histogram2d\":[{\"type\":\"histogram2d\",\"colorbar\":{\"outlinewidth\":0,\"ticks\":\"\"},\"colorscale\":[[0.0,\"#0d0887\"],[0.1111111111111111,\"#46039f\"],[0.2222222222222222,\"#7201a8\"],[0.3333333333333333,\"#9c179e\"],[0.4444444444444444,\"#bd3786\"],[0.5555555555555556,\"#d8576b\"],[0.6666666666666666,\"#ed7953\"],[0.7777777777777778,\"#fb9f3a\"],[0.8888888888888888,\"#fdca26\"],[1.0,\"#f0f921\"]]}],\"heatmap\":[{\"type\":\"heatmap\",\"colorbar\":{\"outlinewidth\":0,\"ticks\":\"\"},\"colorscale\":[[0.0,\"#0d0887\"],[0.1111111111111111,\"#46039f\"],[0.2222222222222222,\"#7201a8\"],[0.3333333333333333,\"#9c179e\"],[0.4444444444444444,\"#bd3786\"],[0.5555555555555556,\"#d8576b\"],[0.6666666666666666,\"#ed7953\"],[0.7777777777777778,\"#fb9f3a\"],[0.8888888888888888,\"#fdca26\"],[1.0,\"#f0f921\"]]}],\"heatmapgl\":[{\"type\":\"heatmapgl\",\"colorbar\":{\"outlinewidth\":0,\"ticks\":\"\"},\"colorscale\":[[0.0,\"#0d0887\"],[0.1111111111111111,\"#46039f\"],[0.2222222222222222,\"#7201a8\"],[0.3333333333333333,\"#9c179e\"],[0.4444444444444444,\"#bd3786\"],[0.5555555555555556,\"#d8576b\"],[0.6666666666666666,\"#ed7953\"],[0.7777777777777778,\"#fb9f3a\"],[0.8888888888888888,\"#fdca26\"],[1.0,\"#f0f921\"]]}],\"contourcarpet\":[{\"type\":\"contourcarpet\",\"colorbar\":{\"outlinewidth\":0,\"ticks\":\"\"}}],\"contour\":[{\"type\":\"contour\",\"colorbar\":{\"outlinewidth\":0,\"ticks\":\"\"},\"colorscale\":[[0.0,\"#0d0887\"],[0.1111111111111111,\"#46039f\"],[0.2222222222222222,\"#7201a8\"],[0.3333333333333333,\"#9c179e\"],[0.4444444444444444,\"#bd3786\"],[0.5555555555555556,\"#d8576b\"],[0.6666666666666666,\"#ed7953\"],[0.7777777777777778,\"#fb9f3a\"],[0.8888888888888888,\"#fdca26\"],[1.0,\"#f0f921\"]]}],\"surface\":[{\"type\":\"surface\",\"colorbar\":{\"outlinewidth\":0,\"ticks\":\"\"},\"colorscale\":[[0.0,\"#0d0887\"],[0.1111111111111111,\"#46039f\"],[0.2222222222222222,\"#7201a8\"],[0.3333333333333333,\"#9c179e\"],[0.4444444444444444,\"#bd3786\"],[0.5555555555555556,\"#d8576b\"],[0.6666666666666666,\"#ed7953\"],[0.7777777777777778,\"#fb9f3a\"],[0.8888888888888888,\"#fdca26\"],[1.0,\"#f0f921\"]]}],\"mesh3d\":[{\"type\":\"mesh3d\",\"colorbar\":{\"outlinewidth\":0,\"ticks\":\"\"}}],\"scatter\":[{\"fillpattern\":{\"fillmode\":\"overlay\",\"size\":10,\"solidity\":0.2},\"type\":\"scatter\"}],\"parcoords\":[{\"type\":\"parcoords\",\"line\":{\"colorbar\":{\"outlinewidth\":0,\"ticks\":\"\"}}}],\"scatterpolargl\":[{\"type\":\"scatterpolargl\",\"marker\":{\"colorbar\":{\"outlinewidth\":0,\"ticks\":\"\"}}}],\"bar\":[{\"error_x\":{\"color\":\"#2a3f5f\"},\"error_y\":{\"color\":\"#2a3f5f\"},\"marker\":{\"line\":{\"color\":\"#E5ECF6\",\"width\":0.5},\"pattern\":{\"fillmode\":\"overlay\",\"size\":10,\"solidity\":0.2}},\"type\":\"bar\"}],\"scattergeo\":[{\"type\":\"scattergeo\",\"marker\":{\"colorbar\":{\"outlinewidth\":0,\"ticks\":\"\"}}}],\"scatterpolar\":[{\"type\":\"scatterpolar\",\"marker\":{\"colorbar\":{\"outlinewidth\":0,\"ticks\":\"\"}}}],\"histogram\":[{\"marker\":{\"pattern\":{\"fillmode\":\"overlay\",\"size\":10,\"solidity\":0.2}},\"type\":\"histogram\"}],\"scattergl\":[{\"type\":\"scattergl\",\"marker\":{\"colorbar\":{\"outlinewidth\":0,\"ticks\":\"\"}}}],\"scatter3d\":[{\"type\":\"scatter3d\",\"line\":{\"colorbar\":{\"outlinewidth\":0,\"ticks\":\"\"}},\"marker\":{\"colorbar\":{\"outlinewidth\":0,\"ticks\":\"\"}}}],\"scattermapbox\":[{\"type\":\"scattermapbox\",\"marker\":{\"colorbar\":{\"outlinewidth\":0,\"ticks\":\"\"}}}],\"scatterternary\":[{\"type\":\"scatterternary\",\"marker\":{\"colorbar\":{\"outlinewidth\":0,\"ticks\":\"\"}}}],\"scattercarpet\":[{\"type\":\"scattercarpet\",\"marker\":{\"colorbar\":{\"outlinewidth\":0,\"ticks\":\"\"}}}],\"carpet\":[{\"aaxis\":{\"endlinecolor\":\"#2a3f5f\",\"gridcolor\":\"white\",\"linecolor\":\"white\",\"minorgridcolor\":\"white\",\"startlinecolor\":\"#2a3f5f\"},\"baxis\":{\"endlinecolor\":\"#2a3f5f\",\"gridcolor\":\"white\",\"linecolor\":\"white\",\"minorgridcolor\":\"white\",\"startlinecolor\":\"#2a3f5f\"},\"type\":\"carpet\"}],\"table\":[{\"cells\":{\"fill\":{\"color\":\"#EBF0F8\"},\"line\":{\"color\":\"white\"}},\"header\":{\"fill\":{\"color\":\"#C8D4E3\"},\"line\":{\"color\":\"white\"}},\"type\":\"table\"}],\"barpolar\":[{\"marker\":{\"line\":{\"color\":\"#E5ECF6\",\"width\":0.5},\"pattern\":{\"fillmode\":\"overlay\",\"size\":10,\"solidity\":0.2}},\"type\":\"barpolar\"}],\"pie\":[{\"automargin\":true,\"type\":\"pie\"}]},\"layout\":{\"autotypenumbers\":\"strict\",\"colorway\":[\"#636efa\",\"#EF553B\",\"#00cc96\",\"#ab63fa\",\"#FFA15A\",\"#19d3f3\",\"#FF6692\",\"#B6E880\",\"#FF97FF\",\"#FECB52\"],\"font\":{\"color\":\"#2a3f5f\"},\"hovermode\":\"closest\",\"hoverlabel\":{\"align\":\"left\"},\"paper_bgcolor\":\"white\",\"plot_bgcolor\":\"#E5ECF6\",\"polar\":{\"bgcolor\":\"#E5ECF6\",\"angularaxis\":{\"gridcolor\":\"white\",\"linecolor\":\"white\",\"ticks\":\"\"},\"radialaxis\":{\"gridcolor\":\"white\",\"linecolor\":\"white\",\"ticks\":\"\"}},\"ternary\":{\"bgcolor\":\"#E5ECF6\",\"aaxis\":{\"gridcolor\":\"white\",\"linecolor\":\"white\",\"ticks\":\"\"},\"baxis\":{\"gridcolor\":\"white\",\"linecolor\":\"white\",\"ticks\":\"\"},\"caxis\":{\"gridcolor\":\"white\",\"linecolor\":\"white\",\"ticks\":\"\"}},\"coloraxis\":{\"colorbar\":{\"outlinewidth\":0,\"ticks\":\"\"}},\"colorscale\":{\"sequential\":[[0.0,\"#0d0887\"],[0.1111111111111111,\"#46039f\"],[0.2222222222222222,\"#7201a8\"],[0.3333333333333333,\"#9c179e\"],[0.4444444444444444,\"#bd3786\"],[0.5555555555555556,\"#d8576b\"],[0.6666666666666666,\"#ed7953\"],[0.7777777777777778,\"#fb9f3a\"],[0.8888888888888888,\"#fdca26\"],[1.0,\"#f0f921\"]],\"sequentialminus\":[[0.0,\"#0d0887\"],[0.1111111111111111,\"#46039f\"],[0.2222222222222222,\"#7201a8\"],[0.3333333333333333,\"#9c179e\"],[0.4444444444444444,\"#bd3786\"],[0.5555555555555556,\"#d8576b\"],[0.6666666666666666,\"#ed7953\"],[0.7777777777777778,\"#fb9f3a\"],[0.8888888888888888,\"#fdca26\"],[1.0,\"#f0f921\"]],\"diverging\":[[0,\"#8e0152\"],[0.1,\"#c51b7d\"],[0.2,\"#de77ae\"],[0.3,\"#f1b6da\"],[0.4,\"#fde0ef\"],[0.5,\"#f7f7f7\"],[0.6,\"#e6f5d0\"],[0.7,\"#b8e186\"],[0.8,\"#7fbc41\"],[0.9,\"#4d9221\"],[1,\"#276419\"]]},\"xaxis\":{\"gridcolor\":\"white\",\"linecolor\":\"white\",\"ticks\":\"\",\"title\":{\"standoff\":15},\"zerolinecolor\":\"white\",\"automargin\":true,\"zerolinewidth\":2},\"yaxis\":{\"gridcolor\":\"white\",\"linecolor\":\"white\",\"ticks\":\"\",\"title\":{\"standoff\":15},\"zerolinecolor\":\"white\",\"automargin\":true,\"zerolinewidth\":2},\"scene\":{\"xaxis\":{\"backgroundcolor\":\"#E5ECF6\",\"gridcolor\":\"white\",\"linecolor\":\"white\",\"showbackground\":true,\"ticks\":\"\",\"zerolinecolor\":\"white\",\"gridwidth\":2},\"yaxis\":{\"backgroundcolor\":\"#E5ECF6\",\"gridcolor\":\"white\",\"linecolor\":\"white\",\"showbackground\":true,\"ticks\":\"\",\"zerolinecolor\":\"white\",\"gridwidth\":2},\"zaxis\":{\"backgroundcolor\":\"#E5ECF6\",\"gridcolor\":\"white\",\"linecolor\":\"white\",\"showbackground\":true,\"ticks\":\"\",\"zerolinecolor\":\"white\",\"gridwidth\":2}},\"shapedefaults\":{\"line\":{\"color\":\"#2a3f5f\"}},\"annotationdefaults\":{\"arrowcolor\":\"#2a3f5f\",\"arrowhead\":0,\"arrowwidth\":1},\"geo\":{\"bgcolor\":\"white\",\"landcolor\":\"#E5ECF6\",\"subunitcolor\":\"white\",\"showland\":true,\"showlakes\":true,\"lakecolor\":\"white\"},\"title\":{\"x\":0.05},\"mapbox\":{\"style\":\"light\"},\"margin\":{\"b\":0,\"l\":0,\"r\":0,\"t\":30}}},\"xaxis\":{\"anchor\":\"y\",\"domain\":[0.0,1.0],\"title\":{\"text\":\"quarter\"}},\"yaxis\":{\"anchor\":\"x\",\"domain\":[0.0,1.0],\"title\":{\"text\":\"n_occurences\"}},\"legend\":{\"title\":{\"text\":\"topic_group_short_title\"},\"tracegroupgap\":0},\"barmode\":\"relative\"},                        {\"responsive\": true}                    ).then(function(){\n",
       "                            \n",
       "var gd = document.getElementById('327bc4ea-c241-4960-88fc-5ba630473280');\n",
       "var x = new MutationObserver(function (mutations, observer) {{\n",
       "        var display = window.getComputedStyle(gd).display;\n",
       "        if (!display || display === 'none') {{\n",
       "            console.log([gd, 'removed!']);\n",
       "            Plotly.purge(gd);\n",
       "            observer.disconnect();\n",
       "        }}\n",
       "}});\n",
       "\n",
       "// Listen for the removal of the full notebook cells\n",
       "var notebookContainer = gd.closest('#notebook-container');\n",
       "if (notebookContainer) {{\n",
       "    x.observe(notebookContainer, {childList: true});\n",
       "}}\n",
       "\n",
       "// Listen for the clearing of the current output cell\n",
       "var outputEl = gd.closest('.output');\n",
       "if (outputEl) {{\n",
       "    x.observe(outputEl, {childList: true});\n",
       "}}\n",
       "\n",
       "                        })                };                });            </script>        </div>"
      ]
     },
     "metadata": {},
     "output_type": "display_data"
    }
   ],
   "source": [
    "ticker = \"GOOG\"\n",
    "quarters = pd.DataFrame(index.queryMeta(f\"SELECT distinct(quarter) from doc_meta WHERE ticker='{ticker}'\")).quarter\n",
    "        \n",
    "\n",
    "## This query compares one of google's quarters to all other quarters to pull out what made it distinct\n",
    "## An alternative approach could be comparing the quarter only to those that came before it\n",
    "## The api provides the ability to compare any 1 group to any other group and provides \n",
    "## The same high level structured overview\n",
    "dfs = []\n",
    "for q in quarters:\n",
    "    tmp = pd.DataFrame(index.topicDiff(\n",
    "        q1=f\"ticker='{ticker}' AND quarter='{q}'\", \n",
    "        q2=f\"ticker='{ticker}' AND quarter!='{q}'\",\n",
    "        cutoff=1.0,\n",
    "        limit=100\n",
    "    )[\"topics\"])\n",
    "    tmp[\"quarter\"] = q\n",
    "    dfs.append(tmp)\n",
    "topic_df = pd.concat(dfs).sort_values(\"quarter\")\n",
    "counts_df = pd.concat([ topicOverTime(t, ticker) for t in topic_df.topic_id.unique() ])\n",
    "\n",
    "df = pd.merge(counts_df, topic_df.drop_duplicates(subset=\"short_title\").drop(columns=\"quarter\"), on=\"topic_id\")\n",
    "px.bar(df, x=\"quarter\", y=\"n_occurences\", color=\"topic_group_short_title\", hover_data=[\"short_title\", \"topic_id\"])"
   ]
  },
  {
   "cell_type": "markdown",
   "id": "6a2ed708-2f2f-458e-973b-903cc71c9097",
   "metadata": {},
   "source": [
    "### Tying it all together\n",
    "\n",
    "We can now seamlessly slice our data across any angle and include high level topics in our quantitative data analysis. If any topic is of interest we can immediately pull up the the relevent portion of the document, see connections across companies and quarters. Essentially, we now have a framework to quantitatively analyze and fly through any unstructured dataset."
   ]
  },
  {
   "cell_type": "code",
   "execution_count": 15,
   "id": "6e8cf357-ba85-4f38-83f0-5561203660d1",
   "metadata": {},
   "outputs": [
    {
     "name": "stdout",
     "output_type": "stream",
     "text": [
      "Title: Autonomous Ride-Hailing Expansion\n"
     ]
    },
    {
     "data": {
      "text/html": [
       "<div>                            <div id=\"975851d0-49c3-413f-a8b5-eea7dff7d1d0\" class=\"plotly-graph-div\" style=\"height:525px; width:100%;\"></div>            <script type=\"text/javascript\">                require([\"plotly\"], function(Plotly) {                    window.PLOTLYENV=window.PLOTLYENV || {};                                    if (document.getElementById(\"975851d0-49c3-413f-a8b5-eea7dff7d1d0\")) {                    Plotly.newPlot(                        \"975851d0-49c3-413f-a8b5-eea7dff7d1d0\",                        [{\"alignmentgroup\":\"True\",\"hovertemplate\":\"quarter=%{x}\\u003cbr\\u003en_occurences=%{y}\\u003cextra\\u003e\\u003c\\u002fextra\\u003e\",\"legendgroup\":\"\",\"marker\":{\"color\":\"#636efa\",\"pattern\":{\"shape\":\"\"}},\"name\":\"\",\"offsetgroup\":\"\",\"orientation\":\"v\",\"showlegend\":false,\"textposition\":\"auto\",\"x\":[\"2023Q2\",\"2023Q3\",\"2023Q4\",\"2024Q1\",\"2024Q2\",\"2024Q3\",\"2024Q4\"],\"xaxis\":\"x\",\"y\":[0.09333333186805248,0.02000000048428774,57.23333390802145,24.97333391290158,23.999999655410647,70.52000384032726,148.71333604957908],\"yaxis\":\"y\",\"type\":\"bar\"}],                        {\"template\":{\"data\":{\"histogram2dcontour\":[{\"type\":\"histogram2dcontour\",\"colorbar\":{\"outlinewidth\":0,\"ticks\":\"\"},\"colorscale\":[[0.0,\"#0d0887\"],[0.1111111111111111,\"#46039f\"],[0.2222222222222222,\"#7201a8\"],[0.3333333333333333,\"#9c179e\"],[0.4444444444444444,\"#bd3786\"],[0.5555555555555556,\"#d8576b\"],[0.6666666666666666,\"#ed7953\"],[0.7777777777777778,\"#fb9f3a\"],[0.8888888888888888,\"#fdca26\"],[1.0,\"#f0f921\"]]}],\"choropleth\":[{\"type\":\"choropleth\",\"colorbar\":{\"outlinewidth\":0,\"ticks\":\"\"}}],\"histogram2d\":[{\"type\":\"histogram2d\",\"colorbar\":{\"outlinewidth\":0,\"ticks\":\"\"},\"colorscale\":[[0.0,\"#0d0887\"],[0.1111111111111111,\"#46039f\"],[0.2222222222222222,\"#7201a8\"],[0.3333333333333333,\"#9c179e\"],[0.4444444444444444,\"#bd3786\"],[0.5555555555555556,\"#d8576b\"],[0.6666666666666666,\"#ed7953\"],[0.7777777777777778,\"#fb9f3a\"],[0.8888888888888888,\"#fdca26\"],[1.0,\"#f0f921\"]]}],\"heatmap\":[{\"type\":\"heatmap\",\"colorbar\":{\"outlinewidth\":0,\"ticks\":\"\"},\"colorscale\":[[0.0,\"#0d0887\"],[0.1111111111111111,\"#46039f\"],[0.2222222222222222,\"#7201a8\"],[0.3333333333333333,\"#9c179e\"],[0.4444444444444444,\"#bd3786\"],[0.5555555555555556,\"#d8576b\"],[0.6666666666666666,\"#ed7953\"],[0.7777777777777778,\"#fb9f3a\"],[0.8888888888888888,\"#fdca26\"],[1.0,\"#f0f921\"]]}],\"heatmapgl\":[{\"type\":\"heatmapgl\",\"colorbar\":{\"outlinewidth\":0,\"ticks\":\"\"},\"colorscale\":[[0.0,\"#0d0887\"],[0.1111111111111111,\"#46039f\"],[0.2222222222222222,\"#7201a8\"],[0.3333333333333333,\"#9c179e\"],[0.4444444444444444,\"#bd3786\"],[0.5555555555555556,\"#d8576b\"],[0.6666666666666666,\"#ed7953\"],[0.7777777777777778,\"#fb9f3a\"],[0.8888888888888888,\"#fdca26\"],[1.0,\"#f0f921\"]]}],\"contourcarpet\":[{\"type\":\"contourcarpet\",\"colorbar\":{\"outlinewidth\":0,\"ticks\":\"\"}}],\"contour\":[{\"type\":\"contour\",\"colorbar\":{\"outlinewidth\":0,\"ticks\":\"\"},\"colorscale\":[[0.0,\"#0d0887\"],[0.1111111111111111,\"#46039f\"],[0.2222222222222222,\"#7201a8\"],[0.3333333333333333,\"#9c179e\"],[0.4444444444444444,\"#bd3786\"],[0.5555555555555556,\"#d8576b\"],[0.6666666666666666,\"#ed7953\"],[0.7777777777777778,\"#fb9f3a\"],[0.8888888888888888,\"#fdca26\"],[1.0,\"#f0f921\"]]}],\"surface\":[{\"type\":\"surface\",\"colorbar\":{\"outlinewidth\":0,\"ticks\":\"\"},\"colorscale\":[[0.0,\"#0d0887\"],[0.1111111111111111,\"#46039f\"],[0.2222222222222222,\"#7201a8\"],[0.3333333333333333,\"#9c179e\"],[0.4444444444444444,\"#bd3786\"],[0.5555555555555556,\"#d8576b\"],[0.6666666666666666,\"#ed7953\"],[0.7777777777777778,\"#fb9f3a\"],[0.8888888888888888,\"#fdca26\"],[1.0,\"#f0f921\"]]}],\"mesh3d\":[{\"type\":\"mesh3d\",\"colorbar\":{\"outlinewidth\":0,\"ticks\":\"\"}}],\"scatter\":[{\"fillpattern\":{\"fillmode\":\"overlay\",\"size\":10,\"solidity\":0.2},\"type\":\"scatter\"}],\"parcoords\":[{\"type\":\"parcoords\",\"line\":{\"colorbar\":{\"outlinewidth\":0,\"ticks\":\"\"}}}],\"scatterpolargl\":[{\"type\":\"scatterpolargl\",\"marker\":{\"colorbar\":{\"outlinewidth\":0,\"ticks\":\"\"}}}],\"bar\":[{\"error_x\":{\"color\":\"#2a3f5f\"},\"error_y\":{\"color\":\"#2a3f5f\"},\"marker\":{\"line\":{\"color\":\"#E5ECF6\",\"width\":0.5},\"pattern\":{\"fillmode\":\"overlay\",\"size\":10,\"solidity\":0.2}},\"type\":\"bar\"}],\"scattergeo\":[{\"type\":\"scattergeo\",\"marker\":{\"colorbar\":{\"outlinewidth\":0,\"ticks\":\"\"}}}],\"scatterpolar\":[{\"type\":\"scatterpolar\",\"marker\":{\"colorbar\":{\"outlinewidth\":0,\"ticks\":\"\"}}}],\"histogram\":[{\"marker\":{\"pattern\":{\"fillmode\":\"overlay\",\"size\":10,\"solidity\":0.2}},\"type\":\"histogram\"}],\"scattergl\":[{\"type\":\"scattergl\",\"marker\":{\"colorbar\":{\"outlinewidth\":0,\"ticks\":\"\"}}}],\"scatter3d\":[{\"type\":\"scatter3d\",\"line\":{\"colorbar\":{\"outlinewidth\":0,\"ticks\":\"\"}},\"marker\":{\"colorbar\":{\"outlinewidth\":0,\"ticks\":\"\"}}}],\"scattermapbox\":[{\"type\":\"scattermapbox\",\"marker\":{\"colorbar\":{\"outlinewidth\":0,\"ticks\":\"\"}}}],\"scatterternary\":[{\"type\":\"scatterternary\",\"marker\":{\"colorbar\":{\"outlinewidth\":0,\"ticks\":\"\"}}}],\"scattercarpet\":[{\"type\":\"scattercarpet\",\"marker\":{\"colorbar\":{\"outlinewidth\":0,\"ticks\":\"\"}}}],\"carpet\":[{\"aaxis\":{\"endlinecolor\":\"#2a3f5f\",\"gridcolor\":\"white\",\"linecolor\":\"white\",\"minorgridcolor\":\"white\",\"startlinecolor\":\"#2a3f5f\"},\"baxis\":{\"endlinecolor\":\"#2a3f5f\",\"gridcolor\":\"white\",\"linecolor\":\"white\",\"minorgridcolor\":\"white\",\"startlinecolor\":\"#2a3f5f\"},\"type\":\"carpet\"}],\"table\":[{\"cells\":{\"fill\":{\"color\":\"#EBF0F8\"},\"line\":{\"color\":\"white\"}},\"header\":{\"fill\":{\"color\":\"#C8D4E3\"},\"line\":{\"color\":\"white\"}},\"type\":\"table\"}],\"barpolar\":[{\"marker\":{\"line\":{\"color\":\"#E5ECF6\",\"width\":0.5},\"pattern\":{\"fillmode\":\"overlay\",\"size\":10,\"solidity\":0.2}},\"type\":\"barpolar\"}],\"pie\":[{\"automargin\":true,\"type\":\"pie\"}]},\"layout\":{\"autotypenumbers\":\"strict\",\"colorway\":[\"#636efa\",\"#EF553B\",\"#00cc96\",\"#ab63fa\",\"#FFA15A\",\"#19d3f3\",\"#FF6692\",\"#B6E880\",\"#FF97FF\",\"#FECB52\"],\"font\":{\"color\":\"#2a3f5f\"},\"hovermode\":\"closest\",\"hoverlabel\":{\"align\":\"left\"},\"paper_bgcolor\":\"white\",\"plot_bgcolor\":\"#E5ECF6\",\"polar\":{\"bgcolor\":\"#E5ECF6\",\"angularaxis\":{\"gridcolor\":\"white\",\"linecolor\":\"white\",\"ticks\":\"\"},\"radialaxis\":{\"gridcolor\":\"white\",\"linecolor\":\"white\",\"ticks\":\"\"}},\"ternary\":{\"bgcolor\":\"#E5ECF6\",\"aaxis\":{\"gridcolor\":\"white\",\"linecolor\":\"white\",\"ticks\":\"\"},\"baxis\":{\"gridcolor\":\"white\",\"linecolor\":\"white\",\"ticks\":\"\"},\"caxis\":{\"gridcolor\":\"white\",\"linecolor\":\"white\",\"ticks\":\"\"}},\"coloraxis\":{\"colorbar\":{\"outlinewidth\":0,\"ticks\":\"\"}},\"colorscale\":{\"sequential\":[[0.0,\"#0d0887\"],[0.1111111111111111,\"#46039f\"],[0.2222222222222222,\"#7201a8\"],[0.3333333333333333,\"#9c179e\"],[0.4444444444444444,\"#bd3786\"],[0.5555555555555556,\"#d8576b\"],[0.6666666666666666,\"#ed7953\"],[0.7777777777777778,\"#fb9f3a\"],[0.8888888888888888,\"#fdca26\"],[1.0,\"#f0f921\"]],\"sequentialminus\":[[0.0,\"#0d0887\"],[0.1111111111111111,\"#46039f\"],[0.2222222222222222,\"#7201a8\"],[0.3333333333333333,\"#9c179e\"],[0.4444444444444444,\"#bd3786\"],[0.5555555555555556,\"#d8576b\"],[0.6666666666666666,\"#ed7953\"],[0.7777777777777778,\"#fb9f3a\"],[0.8888888888888888,\"#fdca26\"],[1.0,\"#f0f921\"]],\"diverging\":[[0,\"#8e0152\"],[0.1,\"#c51b7d\"],[0.2,\"#de77ae\"],[0.3,\"#f1b6da\"],[0.4,\"#fde0ef\"],[0.5,\"#f7f7f7\"],[0.6,\"#e6f5d0\"],[0.7,\"#b8e186\"],[0.8,\"#7fbc41\"],[0.9,\"#4d9221\"],[1,\"#276419\"]]},\"xaxis\":{\"gridcolor\":\"white\",\"linecolor\":\"white\",\"ticks\":\"\",\"title\":{\"standoff\":15},\"zerolinecolor\":\"white\",\"automargin\":true,\"zerolinewidth\":2},\"yaxis\":{\"gridcolor\":\"white\",\"linecolor\":\"white\",\"ticks\":\"\",\"title\":{\"standoff\":15},\"zerolinecolor\":\"white\",\"automargin\":true,\"zerolinewidth\":2},\"scene\":{\"xaxis\":{\"backgroundcolor\":\"#E5ECF6\",\"gridcolor\":\"white\",\"linecolor\":\"white\",\"showbackground\":true,\"ticks\":\"\",\"zerolinecolor\":\"white\",\"gridwidth\":2},\"yaxis\":{\"backgroundcolor\":\"#E5ECF6\",\"gridcolor\":\"white\",\"linecolor\":\"white\",\"showbackground\":true,\"ticks\":\"\",\"zerolinecolor\":\"white\",\"gridwidth\":2},\"zaxis\":{\"backgroundcolor\":\"#E5ECF6\",\"gridcolor\":\"white\",\"linecolor\":\"white\",\"showbackground\":true,\"ticks\":\"\",\"zerolinecolor\":\"white\",\"gridwidth\":2}},\"shapedefaults\":{\"line\":{\"color\":\"#2a3f5f\"}},\"annotationdefaults\":{\"arrowcolor\":\"#2a3f5f\",\"arrowhead\":0,\"arrowwidth\":1},\"geo\":{\"bgcolor\":\"white\",\"landcolor\":\"#E5ECF6\",\"subunitcolor\":\"white\",\"showland\":true,\"showlakes\":true,\"lakecolor\":\"white\"},\"title\":{\"x\":0.05},\"mapbox\":{\"style\":\"light\"},\"margin\":{\"b\":0,\"l\":0,\"r\":0,\"t\":30}}},\"xaxis\":{\"anchor\":\"y\",\"domain\":[0.0,1.0],\"title\":{\"text\":\"quarter\"}},\"yaxis\":{\"anchor\":\"x\",\"domain\":[0.0,1.0],\"title\":{\"text\":\"n_occurences\"}},\"legend\":{\"tracegroupgap\":0},\"barmode\":\"relative\"},                        {\"responsive\": true}                    ).then(function(){\n",
       "                            \n",
       "var gd = document.getElementById('975851d0-49c3-413f-a8b5-eea7dff7d1d0');\n",
       "var x = new MutationObserver(function (mutations, observer) {{\n",
       "        var display = window.getComputedStyle(gd).display;\n",
       "        if (!display || display === 'none') {{\n",
       "            console.log([gd, 'removed!']);\n",
       "            Plotly.purge(gd);\n",
       "            observer.disconnect();\n",
       "        }}\n",
       "}});\n",
       "\n",
       "// Listen for the removal of the full notebook cells\n",
       "var notebookContainer = gd.closest('#notebook-container');\n",
       "if (notebookContainer) {{\n",
       "    x.observe(notebookContainer, {childList: true});\n",
       "}}\n",
       "\n",
       "// Listen for the clearing of the current output cell\n",
       "var outputEl = gd.closest('.output');\n",
       "if (outputEl) {{\n",
       "    x.observe(outputEl, {childList: true});\n",
       "}}\n",
       "\n",
       "                        })                };                });            </script>        </div>"
      ]
     },
     "metadata": {},
     "output_type": "display_data"
    },
    {
     "name": "stdout",
     "output_type": "stream",
     "text": [
      "Title: GOOG 2024Q4\n",
      "Published: 2024-10-29\n",
      "Content: At Made by Google, we unveiled our latest Pixel 9 series of devices featuring advanced AI models, including Gemini Nano. We have seen strong demand for these devices, and they've already received multiple awards. Turning to Other Bets. I want to highlight Waymo, the biggest part of our portfolio. Waymo is now a clear technical leader within the autonomous vehicle industry and creating a growing commercial opportunity. Over the years, Waymo has been infusing cutting-edge AI into its work. Now each week, Waymo is driving more than 1 million fully autonomous miles and serves over 150,000 paid rides. The first time any AV company has reached this kind of mainstream use. Through its expanded network and operations partnership with Uber in Austin and Atlanta, plus a new multiyear partnership with Hyundai, Waymo will bring fully autonomous driving to more people and places. By developing a universal driver, Waymo has multiple paths to market. And with its sixth generation system, Waymo significantly reduced unit costs without compromising safety. Before I close, I'm delighted to welcome our new CFO, Anat. We are thrilled to have her on board, and you will hear from her shortly. And as always, I want to express my gratitude to our employees worldwide. Your dedication and hard work have made this another exceptional quarter for Alphabet.\n",
      "\n"
     ]
    }
   ],
   "source": [
    "topic_id = 69\n",
    "row = topic_df.loc[topic_df.topic_id == topic_id].iloc[0]\n",
    "print(\"Title:\", row.short_title)\n",
    "px.bar(topicOverTime(topic_id, ticker), y=\"n_occurences\", x=\"quarter\").show()\n",
    "displayDocs(topic_id, \"2024Q4\", ticker)"
   ]
  }
 ],
 "metadata": {
  "kernelspec": {
   "display_name": "Python 3 (ipykernel)",
   "language": "python",
   "name": "python3"
  },
  "language_info": {
   "codemirror_mode": {
    "name": "ipython",
    "version": 3
   },
   "file_extension": ".py",
   "mimetype": "text/x-python",
   "name": "python",
   "nbconvert_exporter": "python",
   "pygments_lexer": "ipython3",
   "version": "3.11.5"
  }
 },
 "nbformat": 4,
 "nbformat_minor": 5
}
